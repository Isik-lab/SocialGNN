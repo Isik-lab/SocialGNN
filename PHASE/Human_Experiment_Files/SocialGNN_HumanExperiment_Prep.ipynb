{
  "nbformat": 4,
  "nbformat_minor": 0,
  "metadata": {
    "colab": {
      "provenance": []
    },
    "kernelspec": {
      "name": "python3",
      "display_name": "Python 3"
    },
    "language_info": {
      "name": "python"
    }
  },
  "cells": [
    {
      "cell_type": "markdown",
      "metadata": {
        "id": "_5I3ATfCngtx"
      },
      "source": [
        "# **Creating Files For Human Experiment**\n",
        "- Trimmed videos\n",
        "- Condition files\n",
        "\n",
        "used for both train set and test set human experiments"
      ]
    },
    {
      "cell_type": "code",
      "source": [
        "import os\n",
        "import pickle\n",
        "import numpy as np"
      ],
      "metadata": {
        "id": "MBHoRTQYs_Bx"
      },
      "execution_count": null,
      "outputs": []
    },
    {
      "cell_type": "code",
      "metadata": {
        "id": "utisy5ewngt1",
        "colab": {
          "base_uri": "https://localhost:8080/"
        },
        "outputId": "2a2c71f0-2c1e-4bd6-bbfa-307d59b8b87c"
      },
      "source": [
        "from google.colab import drive\n",
        "drive.mount('/content/gdrive', force_remount=True)"
      ],
      "execution_count": null,
      "outputs": [
        {
          "output_type": "stream",
          "name": "stdout",
          "text": [
            "Mounted at /content/gdrive\n"
          ]
        }
      ]
    },
    {
      "cell_type": "code",
      "metadata": {
        "id": "esHsqq2Ungt2",
        "colab": {
          "base_uri": "https://localhost:8080/"
        },
        "outputId": "1cc055b1-4d8b-40e7-b080-ba38141da710"
      },
      "source": [
        "cd gdrive/My\\ Drive/Help-Hinder_GNN_Project/SocialGNN_Final"
      ],
      "execution_count": null,
      "outputs": [
        {
          "output_type": "stream",
          "name": "stdout",
          "text": [
            "/content/gdrive/My Drive/Help-Hinder_GNN_Project\n"
          ]
        }
      ]
    },
    {
      "cell_type": "code",
      "metadata": {
        "id": "V3hIxwvPngt2"
      },
      "source": [
        "path = './PHASE/test'\n",
        "n_videos = len(os.listdir(path))"
      ],
      "execution_count": null,
      "outputs": []
    },
    {
      "cell_type": "code",
      "metadata": {
        "id": "xEB09Ie-ngt3"
      },
      "source": [
        "Videos = []\n",
        "for root, dirs, files, in os.walk(path):\n",
        "  for file in files:\n",
        "    if file.endswith(\".pik\"):\n",
        "      v = {'name':[], 'trajectories':[]}\n",
        "      open_f = open(path + '/' + file, 'rb')\n",
        "      open_f_data = pickle.load(open_f)\n",
        "      name = file[:-3] + 'mp4'\n",
        "      v['name'] = name\n",
        "\n",
        "      v['trajectories'] = open_f_data['trajectories']\n",
        "\n",
        "      v['social_goals'] = open_f_data['modes']\n",
        "\n",
        "      Videos.append(v)"
      ],
      "execution_count": null,
      "outputs": []
    },
    {
      "cell_type": "markdown",
      "metadata": {
        "id": "y5rra7S0iLjc"
      },
      "source": [
        "### Group Train Videos (Condition Files)"
      ]
    },
    {
      "cell_type": "code",
      "metadata": {
        "id": "BMan2A4eGyMF"
      },
      "source": [
        "### Make Condition Files\n",
        "import csv\n",
        "\n",
        "videos_names = [v['name'] for v in Videos]\n",
        "condition_size = 20 #no. of videos each subject rates\n",
        "np.random.shuffle(videos_names)\n",
        "conditions = [videos_names[k:k+condition_size] for k in range(0, len(videos_names), condition_size)]\n",
        "for cond_no in range(len(conditions)):\n",
        "  temp = conditions[cond_no]\n",
        "  temp.append(\"D083020_06230200_0_F8_E12_G['LMO', 1, 1, 1]_['LMO', 1, 1, 1]_ST0_3_SZ0_0_2_1_P17_1_10_17_A0_0_C0_0_AN1.07_-1.76_MCTS_L1_R0.0_10.0_PL1_EL1_0_0_s1000_r10_cI1.25_cB1000_e348_mm.mp4\")  #friendly\n",
        "  temp.append(\"D082520_08100400_0_F8_E0_G['LMA', 0, 3, 1]_['LMO', 1, 0, 1]_ST2_3_SZ3_1_0_3_P17_3_7_11_A0_0_C0_0_AN4.62_-1.71_MCTS_L1_R0.0_0.0_PL1_EL1_0_0_s1000_r10_cI1.25_cB1000_e322_mm.mp4\")   #neutral\n",
        "  temp.append(\"D082320_13360100_0_F8_E4_G['LMA', 1, 3, -1]_['LMA', 1, 3, 1]_ST3_1_SZ3_0_0_2_P3_0_4_2_A0_0_C0_0_AN-0.43_-4.93_MCTS_L1_R-10.0_0.0_PL1_EL1_0_0_s1000_r10_cI1.25_cB1000_e287_mm.mp4\") #adversarial\n",
        "  conditions[cond_no] = temp\n",
        "\n",
        "for cond_no in range(len(conditions)):\n",
        "  fname = \"./Human_Experiment_Files/condition_files_test/condition_\" + str(cond_no).zfill(3) + '.csv'\n",
        "  with open(fname, 'w') as file:\n",
        "    mywriter = csv.writer(file, delimiter=',')\n",
        "    mywriter.writerows([conditions[cond_no]])\n",
        "    question = ['relationship', 'Friendly', 'Adversarial', \"How would you describe the creatures' relationship?\"]\n",
        "    mywriter.writerow(question)"
      ],
      "execution_count": null,
      "outputs": []
    }
  ]
}