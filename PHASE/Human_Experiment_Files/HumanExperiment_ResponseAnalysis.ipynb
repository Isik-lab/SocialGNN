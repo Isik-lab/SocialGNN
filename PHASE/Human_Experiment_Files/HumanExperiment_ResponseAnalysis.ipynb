{
  "nbformat": 4,
  "nbformat_minor": 0,
  "metadata": {
    "colab": {
      "provenance": []
    },
    "kernelspec": {
      "name": "python3",
      "display_name": "Python 3"
    },
    "language_info": {
      "name": "python"
    }
  },
  "cells": [
    {
      "cell_type": "markdown",
      "metadata": {
        "id": "UKn4L9YrdNLx"
      },
      "source": [
        "# **Analyse our Human Experiment Data**\n",
        "- preprocessing (incl getting modes and agreement)\n",
        "- saving as pickle files\n",
        "- comparison with ground truth\n",
        "used for both train and test set human experiments"
      ]
    },
    {
      "cell_type": "markdown",
      "source": [
        "### Loading and Preprocessing"
      ],
      "metadata": {
        "id": "e1XhFiJIGn2m"
      }
    },
    {
      "cell_type": "code",
      "metadata": {
        "id": "DFy-g7VTdWMq",
        "colab": {
          "base_uri": "https://localhost:8080/"
        },
        "outputId": "a1124328-d85e-44ad-f677-5fa296efcb09"
      },
      "source": [
        "from google.colab import drive\n",
        "drive.mount('/content/gdrive', force_remount=True)"
      ],
      "execution_count": 1,
      "outputs": [
        {
          "output_type": "stream",
          "name": "stdout",
          "text": [
            "Mounted at /content/gdrive\n"
          ]
        }
      ]
    },
    {
      "cell_type": "code",
      "metadata": {
        "id": "gb-hdoLjddbq",
        "colab": {
          "base_uri": "https://localhost:8080/"
        },
        "outputId": "667d5b39-edaf-4f2d-d2fb-99a225d8657a"
      },
      "source": [
        "cd gdrive/My\\ Drive/Help-Hinder_GNN_Project/SocialGNN_Final"
      ],
      "execution_count": 2,
      "outputs": [
        {
          "output_type": "stream",
          "name": "stdout",
          "text": [
            "/content/gdrive/My Drive/Help-Hinder_GNN_Project/SocialGNN_Final\n"
          ]
        }
      ]
    },
    {
      "cell_type": "code",
      "metadata": {
        "id": "cMCZukeodjJm"
      },
      "source": [
        "import os\n",
        "dataset = \"train\"\n",
        "\n",
        "if dataset == \"train\":\n",
        "  path = path = './Human_Experiment_Files/responses'\n",
        "elif dataset == \"test\":\n",
        "  path = './Human_Experiment_Files/responses_test'\n",
        "n_subjects = len(os.listdir(path))\n",
        "n_subjects\n",
        "\n",
        "if dataset == \"train\":\n",
        "  a = \"D082120_2101060_0_F8_E12.1_G['LMA', 0, 0, 1]_['LMA', 0, 0, -1]_ST1_3_SZ0_0_3_0_P13_0_6_10_A0_0_C0_0_AN-3.45_1.43_MCTS_L100_R0.0_-10.0_PL1_EL1_0_0_s1000_r10_cI1.25_cB1000_e92_mm.mp4\"\n",
        "  f = \"D081920_1135270_0_F8_E13.2_G['LMO', 0, 3, 1]_['LMO', 0, 3, 1]_ST2_2_SZ0_0_0_3_P7_15_16_17_A0_0_C0_0_AN-6.08_5.6_MCTS_L100_R0.0_0.0_PL1_EL1_0_0_s1000_r10_cI1.25_cB1000_e10_mm.mp4\"\n",
        "  n = \"D082920_2343080_0_F8_E4_G['LMA', 0, 1, 1]_['LMA', 1, 3, 1]_ST3_2_SZ3_0_3_3_P7_5_14_1_A0_0_C0_0_AN-3.09_-0.6_MCTS_L100_R0.0_0.0_PL1_EL1_0_0_s1000_r10_cI1.25_cB1000_e13_mm.mp4\"\n",
        "elif dataset == \"test\":\n",
        "  a = \"D082320_13360100_0_F8_E4_G['LMA', 1, 3, -1]_['LMA', 1, 3, 1]_ST3_1_SZ3_0_0_2_P3_0_4_2_A0_0_C0_0_AN-0.43_-4.93_MCTS_L1_R-10.0_0.0_PL1_EL1_0_0_s1000_r10_cI1.25_cB1000_e287_mm.mp4\"\n",
        "  f = \"D083020_06230200_0_F8_E12_G['LMO', 1, 1, 1]_['LMO', 1, 1, 1]_ST0_3_SZ0_0_2_1_P17_1_10_17_A0_0_C0_0_AN1.07_-1.76_MCTS_L1_R0.0_10.0_PL1_EL1_0_0_s1000_r10_cI1.25_cB1000_e348_mm.mp4\"\n",
        "  n = \"D082520_08100400_0_F8_E0_G['LMA', 0, 3, 1]_['LMO', 1, 0, 1]_ST2_3_SZ3_1_0_3_P17_3_7_11_A0_0_C0_0_AN4.62_-1.71_MCTS_L1_R0.0_0.0_PL1_EL1_0_0_s1000_r10_cI1.25_cB1000_e322_mm.mp4\"\n",
        "\n",
        "\n"
      ],
      "execution_count": 3,
      "outputs": []
    },
    {
      "cell_type": "code",
      "metadata": {
        "id": "dMxq0Ap4eniw",
        "colab": {
          "base_uri": "https://localhost:8080/"
        },
        "outputId": "60e68699-1fdd-4dc5-f4f8-498b7e9697a8"
      },
      "source": [
        "human_responses = []\n",
        "for root, dirs, files, in os.walk(path):\n",
        "  for file in files:\n",
        "    if file.endswith(\".txt\"):\n",
        "      responses = []\n",
        "      with open(path + '/' + file, 'r') as my_file:\n",
        "        responses = my_file.readlines()\n",
        "      if len(responses)==24:\n",
        "        human_responses.append(responses)\n",
        "      else:\n",
        "        print(file, len(responses))"
      ],
      "execution_count": 4,
      "outputs": [
        {
          "output_type": "stream",
          "name": "stdout",
          "text": [
            "5f136401b1f46a36f39a8c72_2021-08-15.txt 1\n",
            "6117983a794d330f8f905230_2021-08-16.txt 23\n",
            "61163dd00037529577b17551_2021-08-16.txt 17\n",
            "6118b6b55592b7d04247ff45_2021-08-21.txt 11\n",
            "611207a20c961cea9f8e7379_2021-08-21.txt 12\n",
            "61038275adbb6f53ae85b482_2021-08-21.txt 27\n",
            "610cd62bd64519087a99397d_2021-08-21.txt 21\n",
            "6108d6efa698e3dbe3b313d3_2021-08-21.txt 4\n",
            "6107860ee9d47b960ee68714_2021-08-21.txt 5\n",
            "611e34980e5e69f5236fa629_2021-08-21.txt 13\n",
            "6112c77c4cb58daede378463_2021-08-21.txt 19\n",
            "60ff00dfe728d14dfa568245_2021-08-21.txt 29\n",
            "61141a6f6fe3054620af1e8d_2021-08-21.txt 3\n",
            "60fcd0022b1085e2284339f4_2021-08-22.txt 23\n",
            "6118b6b55592b7d04247ff45_2021-08-22.txt 13\n",
            "610dcf369adaa0cfbc795ec5_2021-08-22.txt 23\n",
            "60ff7307eafb590bdc696a8f_2021-08-21.txt 1\n",
            "610cd62bd64519087a99397d_2021-08-22.txt 3\n",
            "61141a6f6fe3054620af1e8d_2021-08-22.txt 21\n",
            "6112c77c4cb58daede378463_2021-08-22.txt 5\n",
            "5f8051b402daee04b8108440_2021-09-06.txt 5\n",
            "60fcd0022b1085e2284339f4_2021-08-21.txt 1\n",
            "60ff7307eafb590bdc696a8f_2021-08-22.txt 23\n",
            "611207a20c961cea9f8e7379_2021-08-22.txt 12\n",
            "611e34980e5e69f5236fa629_2021-08-22.txt 11\n",
            "610dcf369adaa0cfbc795ec5_2021-08-21.txt 1\n",
            "61071fd777b179d8bc84ed3f_2021-09-06.txt 25\n",
            "5f522c40069004482b3af322_2021-09-06.txt 3\n",
            "612687a5a3c9d923c4050e47_2021-09-06.txt 25\n",
            "5b3b5f13dd6af000014d2a68_2021-09-08.txt 25\n",
            "6132cc58d1dcc24bcdb61606_2021-09-15.txt 26\n",
            "5f1a93900aff791b8c4444f5_2021-09-15.txt 5\n"
          ]
        }
      ]
    },
    {
      "cell_type": "code",
      "metadata": {
        "id": "A3h4SlW3vjQ6"
      },
      "source": [
        "def reject_exampleVideoBased(subject, example_videos = {}):\n",
        "  reject_flag = 0\n",
        "  demographic_info = ast.literal_eval(subject[0])\n",
        "  for response_no in range(1,len(subject)):\n",
        "    entry_txt = ast.literal_eval(subject[response_no])\n",
        "    entry = {}\n",
        "    for x,y in entry_txt:\n",
        "      entry[x] = y\n",
        "\n",
        "    if entry[\"video_name\"]== example_videos['adversarial']:\n",
        "      a_check.append(entry[\"likert_response\"])\n",
        "      if entry[\"likert_response\"]!=\"adversarial\":\n",
        "        #print(\"a\",entry['subjectID'], entry['likert_response'])\n",
        "        reject_flag = 1\n",
        "    \n",
        "    if entry[\"video_name\"]== example_videos['friendly']:\n",
        "      f_check.append(entry[\"likert_response\"])\n",
        "      if entry[\"likert_response\"]!=\"friendly\":\n",
        "        #print(\"f\",entry['subjectID'], entry['likert_response'])\n",
        "        reject_flag = 1\n",
        "\n",
        "    if entry[\"video_name\"]== example_videos['neutral']:\n",
        "      n_check.append(entry[\"likert_response\"])\n",
        "      if entry[\"likert_response\"]!=\"neutral\":\n",
        "        #print(\"n\",entry['subjectID'], entry['likert_response'])\n",
        "        reject_flag = 1\n",
        "\n",
        "  return reject_flag"
      ],
      "execution_count": 5,
      "outputs": []
    },
    {
      "cell_type": "code",
      "metadata": {
        "id": "fHmACMoQjKRr",
        "colab": {
          "base_uri": "https://localhost:8080/"
        },
        "outputId": "634c75a6-66d9-4ce0-8dde-5a6d7eb6a9bc"
      },
      "source": [
        "import ast\n",
        "\n",
        "a_check = []\n",
        "f_check = []\n",
        "n_check = []\n",
        "\n",
        "no_subjects_to_reject_exampleVideoBased = 0\n",
        "for subject in human_responses:\n",
        "  reject_flag = reject_exampleVideoBased(subject, example_videos= {\"adversarial\": a, \"friendly\":f, \"neutral\":n})\n",
        "    \n",
        "  if reject_flag == 1:\n",
        "    no_subjects_to_reject_exampleVideoBased += 1\n",
        "\n",
        "from collections import Counter\n",
        "print(Counter(n_check))\n",
        "print(Counter(f_check))\n",
        "print(Counter(a_check))\n",
        "\n",
        "print(\"No. of subjects to be rejected: \", no_subjects_to_reject_exampleVideoBased)"
      ],
      "execution_count": 6,
      "outputs": [
        {
          "output_type": "stream",
          "name": "stdout",
          "text": [
            "Counter({'neutral': 279, 'adversarial': 15, 'friendly': 4})\n",
            "Counter({'friendly': 261, 'adversarial': 29, 'neutral': 8})\n",
            "Counter({'adversarial': 280, 'friendly': 10, 'neutral': 8})\n",
            "No. of subjects to be rejected:  57\n"
          ]
        }
      ]
    },
    {
      "cell_type": "code",
      "metadata": {
        "colab": {
          "base_uri": "https://localhost:8080/",
          "height": 867
        },
        "id": "L8cfYN6dZwV3",
        "outputId": "fdf80ef5-62b9-4ca8-f9c3-61e54bdccd4c"
      },
      "source": [
        "import pandas as pd\n",
        "import scipy\n",
        "import numpy as np\n",
        "print(\"No. of (complete) Human Responses \", len(human_responses))\n",
        "\n",
        "data_filtered = {'videos':[], 'relationship':[]}\n",
        "demographics = {'age':[], 'gender':[], 'ethnicity':[]}\n",
        "\n",
        "for subject in human_responses:\n",
        "  demographic_info = ast.literal_eval(subject[0])\n",
        "  info = {}\n",
        "  for x in demographic_info:\n",
        "    info[x[0]] = x[1]\n",
        "  demographics['age'].append(int(info['age']))\n",
        "  demographics['gender'].append(info['gender'])\n",
        "  demographics['ethnicity'].append(info['ethnicity'])\n",
        "\n",
        "  if reject_exampleVideoBased(subject, example_videos= {\"adversarial\": a, \"friendly\":f, \"neutral\":n}) == 1:\n",
        "    continue\n",
        "\n",
        "  for response_no in range(1,len(subject)):\n",
        "    entry_txt = ast.literal_eval(subject[response_no])\n",
        "    entry = {}\n",
        "    for x,y in entry_txt:\n",
        "      entry[x] = y\n",
        "\n",
        "    data_filtered['videos'].append(entry[\"video_name\"])\n",
        "    data_filtered['relationship'].append(entry[\"likert_response\"])\n",
        "\n",
        "print(Counter(data_filtered['relationship']))\n",
        "print(Counter(demographics['ethnicity']))\n",
        "print(Counter(demographics['gender']))\n",
        "print(min(demographics['age']), max(demographics['age']), np.mean(demographics['age']))\n",
        "\n",
        "data = pd.DataFrame(data_filtered)\n",
        "\n",
        "\n",
        "HR = data.groupby(by='videos').agg(lambda x: Counter(x))\n",
        "#HR.index = HR.index.str[:14]\n",
        "display(HR)\n",
        "\n",
        "''' for range of no. of raters per video\n",
        "HR = data.groupby(by='videos').agg(lambda x: len(x))\n",
        "import numpy as np\n",
        "x = sorted(HR['relationship'])[:-3]\n",
        "print(sorted(x))\n",
        "print(min(x), max(x), len(x), np.median(x))\n",
        "'''"
      ],
      "execution_count": 7,
      "outputs": [
        {
          "output_type": "stream",
          "name": "stdout",
          "text": [
            "No. of (complete) Human Responses  298\n",
            "Counter({'friendly': 2133, 'adversarial': 1924, 'neutral': 1486})\n",
            "Counter({'White': 203, 'Hispanic or Latino': 34, 'Asian': 32, 'Black or African American': 17, 'Other': 10, 'American Indian or Alaska Native': 1, 'Native Hawaiian or Other Pacific Islander': 1})\n",
            "Counter({'Female': 158, 'Male': 137, 'Other': 3})\n",
            "18 68 27.07046979865772\n"
          ]
        },
        {
          "output_type": "display_data",
          "data": {
            "text/plain": [
              "                                                                                       relationship\n",
              "videos                                                                                             \n",
              "D081820_13363300_0_F8_E0_G['LMO', 0, 2, 1]_['LM...               {'adversarial': 2, 'friendly': 11}\n",
              "D081820_16545200_0_F8_E2_G['LMA', 0, 1, 1]_['LM...                              {'adversarial': 14}\n",
              "D081920_01561200_0_F8_E6_G['LMA', 1, 1, -1]_['L...                {'adversarial': 10, 'neutral': 1}\n",
              "D081920_03595900_0_F8_E7_G['LMA', 1, 2, -1]_['L...  {'neutral': 1, 'adversarial': 7, 'friendly': 3}\n",
              "D081920_08023200_0_F8_E6_G['LMO', 1, 0, 1]_['LM...                                 {'friendly': 10}\n",
              "...                                                                                             ...\n",
              "D121320_07145900_0_F8_E20_G['LMO', 0, 2, 1]_['L...                    {'neutral': 5, 'friendly': 8}\n",
              "D121320_13405400_0_F8_E12_G['LMO', 1, 2, 1]_['L...                   {'friendly': 10, 'neutral': 1}\n",
              "D121420_00140200_0_F8_E12_G['LMO', 0, 2, 1]_['L...                    {'friendly': 9, 'neutral': 2}\n",
              "D121420_08260200_0_F8_E13_G['LMO', 0, 2, 1]_['L...  {'friendly': 8, 'neutral': 3, 'adversarial': 1}\n",
              "D121420_09132200_0_F8_E8_G['LMO', 0, 3, 1]_['LM...  {'neutral': 5, 'friendly': 7, 'adversarial': 1}\n",
              "\n",
              "[403 rows x 1 columns]"
            ],
            "text/html": [
              "\n",
              "  <div id=\"df-be2a9a7d-c241-414c-a49a-6608e1ead939\">\n",
              "    <div class=\"colab-df-container\">\n",
              "      <div>\n",
              "<style scoped>\n",
              "    .dataframe tbody tr th:only-of-type {\n",
              "        vertical-align: middle;\n",
              "    }\n",
              "\n",
              "    .dataframe tbody tr th {\n",
              "        vertical-align: top;\n",
              "    }\n",
              "\n",
              "    .dataframe thead th {\n",
              "        text-align: right;\n",
              "    }\n",
              "</style>\n",
              "<table border=\"1\" class=\"dataframe\">\n",
              "  <thead>\n",
              "    <tr style=\"text-align: right;\">\n",
              "      <th></th>\n",
              "      <th>relationship</th>\n",
              "    </tr>\n",
              "    <tr>\n",
              "      <th>videos</th>\n",
              "      <th></th>\n",
              "    </tr>\n",
              "  </thead>\n",
              "  <tbody>\n",
              "    <tr>\n",
              "      <th>D081820_13363300_0_F8_E0_G['LMO', 0, 2, 1]_['LMO', 0, 2, 1]_ST1_2_SZ0_3_0_3_P13_13_12_10_A0_0_C0_0_AN-0.12_4.61_MCTS_L1_R0.0_10.0_PL1_EL1_0_0_s1000_r10_cI1.25_cB1000_e61.mp4</th>\n",
              "      <td>{'adversarial': 2, 'friendly': 11}</td>\n",
              "    </tr>\n",
              "    <tr>\n",
              "      <th>D081820_16545200_0_F8_E2_G['LMA', 0, 1, 1]_['LMA', 0, 1, -1]_ST1_3_SZ0_1_0_1_P2_2_3_2_A0_0_C0_0_AN-1.91_-2.23_MCTS_L1_R0.0_-10.0_PL1_EL1_0_0_s1000_r10_cI1.25_cB1000_e314.mp4</th>\n",
              "      <td>{'adversarial': 14}</td>\n",
              "    </tr>\n",
              "    <tr>\n",
              "      <th>D081920_01561200_0_F8_E6_G['LMA', 1, 1, -1]_['LMA', 1, 1, 1]_ST2_1_SZ0_3_1_1_P4_6_5_4_A0_0_C0_0_AN-5.47_-0.63_MCTS_L1_R-10.0_0.0_PL1_EL1_0_0_s1000_r10_cI1.25_cB1000_e191.mp4</th>\n",
              "      <td>{'adversarial': 10, 'neutral': 1}</td>\n",
              "    </tr>\n",
              "    <tr>\n",
              "      <th>D081920_03595900_0_F8_E7_G['LMA', 1, 2, -1]_['LMA', 1, 2, 1]_ST1_1_SZ3_0_1_1_P3_4_3_12_A0_0_C0_0_AN3.44_2.49_MCTS_L1_R-10.0_0.0_PL1_EL1_0_0_s1000_r10_cI1.25_cB1000_e90.mp4</th>\n",
              "      <td>{'neutral': 1, 'adversarial': 7, 'friendly': 3}</td>\n",
              "    </tr>\n",
              "    <tr>\n",
              "      <th>D081920_08023200_0_F8_E6_G['LMO', 1, 0, 1]_['LMO', 1, 0, 1]_ST0_1_SZ0_1_0_1_P2_3_4_1_A0_0_C0_0_AN6.18_-0.5_MCTS_L1_R0.0_0.0_PL1_EL1_0_0_s1000_r10_cI1.25_cB1000_e383.mp4</th>\n",
              "      <td>{'friendly': 10}</td>\n",
              "    </tr>\n",
              "    <tr>\n",
              "      <th>...</th>\n",
              "      <td>...</td>\n",
              "    </tr>\n",
              "    <tr>\n",
              "      <th>D121320_07145900_0_F8_E20_G['LMO', 0, 2, 1]_['LMO', 0, 2, 1]_ST1_1_SZ2_3_0_0_P11_17_3_17_A0_0_C0_0_AN-5.44_1.29_MCTS_L1_R10.0_0.0_PL1_EL1_0_0_s1000_r10_cI1.25_cB1000_e57.mp4</th>\n",
              "      <td>{'neutral': 5, 'friendly': 8}</td>\n",
              "    </tr>\n",
              "    <tr>\n",
              "      <th>D121320_13405400_0_F8_E12_G['LMO', 1, 2, 1]_['LMO', 1, 2, 1]_ST1_2_SZ1_3_1_0_P17_11_15_3_A0_0_C0_0_AN-2.8_-5.86_MCTS_L1_R0.0_10.0_PL1_EL1_0_0_s1000_r10_cI1.25_cB1000_e75.mp4</th>\n",
              "      <td>{'friendly': 10, 'neutral': 1}</td>\n",
              "    </tr>\n",
              "    <tr>\n",
              "      <th>D121420_00140200_0_F8_E12_G['LMO', 0, 2, 1]_['LMO', 0, 2, 1]_ST1_2_SZ1_3_0_1_P17_11_3_15_A0_0_C0_0_AN-2.8_-5.86_MCTS_L1_R0.0_10.0_PL1_EL1_0_0_s1000_r10_cI1.25_cB1000_e54.mp4</th>\n",
              "      <td>{'friendly': 9, 'neutral': 2}</td>\n",
              "    </tr>\n",
              "    <tr>\n",
              "      <th>D121420_08260200_0_F8_E13_G['LMO', 0, 2, 1]_['LMO', 0, 2, 1]_ST2_3_SZ2_2_0_1_P7_2_15_3_A0_0_C0_0_AN-0.76_4.09_MCTS_L1_R0.0_0.0_PL1_EL1_0_0_s1000_r10_cI1.25_cB1000_e56.mp4</th>\n",
              "      <td>{'friendly': 8, 'neutral': 3, 'adversarial': 1}</td>\n",
              "    </tr>\n",
              "    <tr>\n",
              "      <th>D121420_09132200_0_F8_E8_G['LMO', 0, 3, 1]_['LMO', 0, 3, 1]_ST1_1_SZ2_1_0_0_P1_2_1_6_A0_0_C0_0_AN-2.13_3.27_MCTS_L1_R10.0_0.0_PL1_EL1_0_0_s1000_r10_cI1.25_cB1000_e21.mp4</th>\n",
              "      <td>{'neutral': 5, 'friendly': 7, 'adversarial': 1}</td>\n",
              "    </tr>\n",
              "  </tbody>\n",
              "</table>\n",
              "<p>403 rows × 1 columns</p>\n",
              "</div>\n",
              "      <button class=\"colab-df-convert\" onclick=\"convertToInteractive('df-be2a9a7d-c241-414c-a49a-6608e1ead939')\"\n",
              "              title=\"Convert this dataframe to an interactive table.\"\n",
              "              style=\"display:none;\">\n",
              "        \n",
              "  <svg xmlns=\"http://www.w3.org/2000/svg\" height=\"24px\"viewBox=\"0 0 24 24\"\n",
              "       width=\"24px\">\n",
              "    <path d=\"M0 0h24v24H0V0z\" fill=\"none\"/>\n",
              "    <path d=\"M18.56 5.44l.94 2.06.94-2.06 2.06-.94-2.06-.94-.94-2.06-.94 2.06-2.06.94zm-11 1L8.5 8.5l.94-2.06 2.06-.94-2.06-.94L8.5 2.5l-.94 2.06-2.06.94zm10 10l.94 2.06.94-2.06 2.06-.94-2.06-.94-.94-2.06-.94 2.06-2.06.94z\"/><path d=\"M17.41 7.96l-1.37-1.37c-.4-.4-.92-.59-1.43-.59-.52 0-1.04.2-1.43.59L10.3 9.45l-7.72 7.72c-.78.78-.78 2.05 0 2.83L4 21.41c.39.39.9.59 1.41.59.51 0 1.02-.2 1.41-.59l7.78-7.78 2.81-2.81c.8-.78.8-2.07 0-2.86zM5.41 20L4 18.59l7.72-7.72 1.47 1.35L5.41 20z\"/>\n",
              "  </svg>\n",
              "      </button>\n",
              "      \n",
              "  <style>\n",
              "    .colab-df-container {\n",
              "      display:flex;\n",
              "      flex-wrap:wrap;\n",
              "      gap: 12px;\n",
              "    }\n",
              "\n",
              "    .colab-df-convert {\n",
              "      background-color: #E8F0FE;\n",
              "      border: none;\n",
              "      border-radius: 50%;\n",
              "      cursor: pointer;\n",
              "      display: none;\n",
              "      fill: #1967D2;\n",
              "      height: 32px;\n",
              "      padding: 0 0 0 0;\n",
              "      width: 32px;\n",
              "    }\n",
              "\n",
              "    .colab-df-convert:hover {\n",
              "      background-color: #E2EBFA;\n",
              "      box-shadow: 0px 1px 2px rgba(60, 64, 67, 0.3), 0px 1px 3px 1px rgba(60, 64, 67, 0.15);\n",
              "      fill: #174EA6;\n",
              "    }\n",
              "\n",
              "    [theme=dark] .colab-df-convert {\n",
              "      background-color: #3B4455;\n",
              "      fill: #D2E3FC;\n",
              "    }\n",
              "\n",
              "    [theme=dark] .colab-df-convert:hover {\n",
              "      background-color: #434B5C;\n",
              "      box-shadow: 0px 1px 3px 1px rgba(0, 0, 0, 0.15);\n",
              "      filter: drop-shadow(0px 1px 2px rgba(0, 0, 0, 0.3));\n",
              "      fill: #FFFFFF;\n",
              "    }\n",
              "  </style>\n",
              "\n",
              "      <script>\n",
              "        const buttonEl =\n",
              "          document.querySelector('#df-be2a9a7d-c241-414c-a49a-6608e1ead939 button.colab-df-convert');\n",
              "        buttonEl.style.display =\n",
              "          google.colab.kernel.accessAllowed ? 'block' : 'none';\n",
              "\n",
              "        async function convertToInteractive(key) {\n",
              "          const element = document.querySelector('#df-be2a9a7d-c241-414c-a49a-6608e1ead939');\n",
              "          const dataTable =\n",
              "            await google.colab.kernel.invokeFunction('convertToInteractive',\n",
              "                                                     [key], {});\n",
              "          if (!dataTable) return;\n",
              "\n",
              "          const docLinkHtml = 'Like what you see? Visit the ' +\n",
              "            '<a target=\"_blank\" href=https://colab.research.google.com/notebooks/data_table.ipynb>data table notebook</a>'\n",
              "            + ' to learn more about interactive tables.';\n",
              "          element.innerHTML = '';\n",
              "          dataTable['output_type'] = 'display_data';\n",
              "          await google.colab.output.renderOutput(dataTable, element);\n",
              "          const docLink = document.createElement('div');\n",
              "          docLink.innerHTML = docLinkHtml;\n",
              "          element.appendChild(docLink);\n",
              "        }\n",
              "      </script>\n",
              "    </div>\n",
              "  </div>\n",
              "  "
            ]
          },
          "metadata": {}
        },
        {
          "output_type": "execute_result",
          "data": {
            "text/plain": [
              "\" for range of no. of raters per video\\nHR = data.groupby(by='videos').agg(lambda x: len(x))\\nimport numpy as np\\nx = sorted(HR['relationship'])[:-3]\\nprint(sorted(x))\\nprint(min(x), max(x), len(x), np.median(x))\\n\""
            ],
            "application/vnd.google.colaboratory.intrinsic+json": {
              "type": "string"
            }
          },
          "metadata": {},
          "execution_count": 7
        }
      ]
    },
    {
      "cell_type": "markdown",
      "source": [
        "### HR final labels"
      ],
      "metadata": {
        "id": "gJUVn6lClvV0"
      }
    },
    {
      "cell_type": "code",
      "source": [
        "from scipy import stats\n",
        "final_labels = data.groupby(by='videos').agg(lambda x: stats.mode(x)[0][0])\n",
        "\n",
        "final_labels = final_labels.drop(a)\n",
        "final_labels = final_labels.drop(f)\n",
        "final_labels = final_labels.drop(n)\n",
        "\n",
        "final_labels_dict = final_labels.to_dict('index')\n",
        "\n",
        "display(final_labels)\n",
        "print(Counter(final_labels.relationship))"
      ],
      "metadata": {
        "colab": {
          "base_uri": "https://localhost:8080/",
          "height": 690
        },
        "id": "X-VhiJe4lwax",
        "outputId": "6461bf9e-0580-43ad-ad9a-f9e0e2ef61c2"
      },
      "execution_count": 8,
      "outputs": [
        {
          "output_type": "display_data",
          "data": {
            "text/plain": [
              "                                                   relationship\n",
              "videos                                                         \n",
              "D081820_13363300_0_F8_E0_G['LMO', 0, 2, 1]_['LM...     friendly\n",
              "D081820_16545200_0_F8_E2_G['LMA', 0, 1, 1]_['LM...  adversarial\n",
              "D081920_01561200_0_F8_E6_G['LMA', 1, 1, -1]_['L...  adversarial\n",
              "D081920_03595900_0_F8_E7_G['LMA', 1, 2, -1]_['L...  adversarial\n",
              "D081920_08023200_0_F8_E6_G['LMO', 1, 0, 1]_['LM...     friendly\n",
              "...                                                         ...\n",
              "D121320_07145900_0_F8_E20_G['LMO', 0, 2, 1]_['L...     friendly\n",
              "D121320_13405400_0_F8_E12_G['LMO', 1, 2, 1]_['L...     friendly\n",
              "D121420_00140200_0_F8_E12_G['LMO', 0, 2, 1]_['L...     friendly\n",
              "D121420_08260200_0_F8_E13_G['LMO', 0, 2, 1]_['L...     friendly\n",
              "D121420_09132200_0_F8_E8_G['LMO', 0, 3, 1]_['LM...     friendly\n",
              "\n",
              "[400 rows x 1 columns]"
            ],
            "text/html": [
              "\n",
              "  <div id=\"df-bbf0f3e4-5b3e-47c5-8fa6-c656a8e4d67f\">\n",
              "    <div class=\"colab-df-container\">\n",
              "      <div>\n",
              "<style scoped>\n",
              "    .dataframe tbody tr th:only-of-type {\n",
              "        vertical-align: middle;\n",
              "    }\n",
              "\n",
              "    .dataframe tbody tr th {\n",
              "        vertical-align: top;\n",
              "    }\n",
              "\n",
              "    .dataframe thead th {\n",
              "        text-align: right;\n",
              "    }\n",
              "</style>\n",
              "<table border=\"1\" class=\"dataframe\">\n",
              "  <thead>\n",
              "    <tr style=\"text-align: right;\">\n",
              "      <th></th>\n",
              "      <th>relationship</th>\n",
              "    </tr>\n",
              "    <tr>\n",
              "      <th>videos</th>\n",
              "      <th></th>\n",
              "    </tr>\n",
              "  </thead>\n",
              "  <tbody>\n",
              "    <tr>\n",
              "      <th>D081820_13363300_0_F8_E0_G['LMO', 0, 2, 1]_['LMO', 0, 2, 1]_ST1_2_SZ0_3_0_3_P13_13_12_10_A0_0_C0_0_AN-0.12_4.61_MCTS_L1_R0.0_10.0_PL1_EL1_0_0_s1000_r10_cI1.25_cB1000_e61.mp4</th>\n",
              "      <td>friendly</td>\n",
              "    </tr>\n",
              "    <tr>\n",
              "      <th>D081820_16545200_0_F8_E2_G['LMA', 0, 1, 1]_['LMA', 0, 1, -1]_ST1_3_SZ0_1_0_1_P2_2_3_2_A0_0_C0_0_AN-1.91_-2.23_MCTS_L1_R0.0_-10.0_PL1_EL1_0_0_s1000_r10_cI1.25_cB1000_e314.mp4</th>\n",
              "      <td>adversarial</td>\n",
              "    </tr>\n",
              "    <tr>\n",
              "      <th>D081920_01561200_0_F8_E6_G['LMA', 1, 1, -1]_['LMA', 1, 1, 1]_ST2_1_SZ0_3_1_1_P4_6_5_4_A0_0_C0_0_AN-5.47_-0.63_MCTS_L1_R-10.0_0.0_PL1_EL1_0_0_s1000_r10_cI1.25_cB1000_e191.mp4</th>\n",
              "      <td>adversarial</td>\n",
              "    </tr>\n",
              "    <tr>\n",
              "      <th>D081920_03595900_0_F8_E7_G['LMA', 1, 2, -1]_['LMA', 1, 2, 1]_ST1_1_SZ3_0_1_1_P3_4_3_12_A0_0_C0_0_AN3.44_2.49_MCTS_L1_R-10.0_0.0_PL1_EL1_0_0_s1000_r10_cI1.25_cB1000_e90.mp4</th>\n",
              "      <td>adversarial</td>\n",
              "    </tr>\n",
              "    <tr>\n",
              "      <th>D081920_08023200_0_F8_E6_G['LMO', 1, 0, 1]_['LMO', 1, 0, 1]_ST0_1_SZ0_1_0_1_P2_3_4_1_A0_0_C0_0_AN6.18_-0.5_MCTS_L1_R0.0_0.0_PL1_EL1_0_0_s1000_r10_cI1.25_cB1000_e383.mp4</th>\n",
              "      <td>friendly</td>\n",
              "    </tr>\n",
              "    <tr>\n",
              "      <th>...</th>\n",
              "      <td>...</td>\n",
              "    </tr>\n",
              "    <tr>\n",
              "      <th>D121320_07145900_0_F8_E20_G['LMO', 0, 2, 1]_['LMO', 0, 2, 1]_ST1_1_SZ2_3_0_0_P11_17_3_17_A0_0_C0_0_AN-5.44_1.29_MCTS_L1_R10.0_0.0_PL1_EL1_0_0_s1000_r10_cI1.25_cB1000_e57.mp4</th>\n",
              "      <td>friendly</td>\n",
              "    </tr>\n",
              "    <tr>\n",
              "      <th>D121320_13405400_0_F8_E12_G['LMO', 1, 2, 1]_['LMO', 1, 2, 1]_ST1_2_SZ1_3_1_0_P17_11_15_3_A0_0_C0_0_AN-2.8_-5.86_MCTS_L1_R0.0_10.0_PL1_EL1_0_0_s1000_r10_cI1.25_cB1000_e75.mp4</th>\n",
              "      <td>friendly</td>\n",
              "    </tr>\n",
              "    <tr>\n",
              "      <th>D121420_00140200_0_F8_E12_G['LMO', 0, 2, 1]_['LMO', 0, 2, 1]_ST1_2_SZ1_3_0_1_P17_11_3_15_A0_0_C0_0_AN-2.8_-5.86_MCTS_L1_R0.0_10.0_PL1_EL1_0_0_s1000_r10_cI1.25_cB1000_e54.mp4</th>\n",
              "      <td>friendly</td>\n",
              "    </tr>\n",
              "    <tr>\n",
              "      <th>D121420_08260200_0_F8_E13_G['LMO', 0, 2, 1]_['LMO', 0, 2, 1]_ST2_3_SZ2_2_0_1_P7_2_15_3_A0_0_C0_0_AN-0.76_4.09_MCTS_L1_R0.0_0.0_PL1_EL1_0_0_s1000_r10_cI1.25_cB1000_e56.mp4</th>\n",
              "      <td>friendly</td>\n",
              "    </tr>\n",
              "    <tr>\n",
              "      <th>D121420_09132200_0_F8_E8_G['LMO', 0, 3, 1]_['LMO', 0, 3, 1]_ST1_1_SZ2_1_0_0_P1_2_1_6_A0_0_C0_0_AN-2.13_3.27_MCTS_L1_R10.0_0.0_PL1_EL1_0_0_s1000_r10_cI1.25_cB1000_e21.mp4</th>\n",
              "      <td>friendly</td>\n",
              "    </tr>\n",
              "  </tbody>\n",
              "</table>\n",
              "<p>400 rows × 1 columns</p>\n",
              "</div>\n",
              "      <button class=\"colab-df-convert\" onclick=\"convertToInteractive('df-bbf0f3e4-5b3e-47c5-8fa6-c656a8e4d67f')\"\n",
              "              title=\"Convert this dataframe to an interactive table.\"\n",
              "              style=\"display:none;\">\n",
              "        \n",
              "  <svg xmlns=\"http://www.w3.org/2000/svg\" height=\"24px\"viewBox=\"0 0 24 24\"\n",
              "       width=\"24px\">\n",
              "    <path d=\"M0 0h24v24H0V0z\" fill=\"none\"/>\n",
              "    <path d=\"M18.56 5.44l.94 2.06.94-2.06 2.06-.94-2.06-.94-.94-2.06-.94 2.06-2.06.94zm-11 1L8.5 8.5l.94-2.06 2.06-.94-2.06-.94L8.5 2.5l-.94 2.06-2.06.94zm10 10l.94 2.06.94-2.06 2.06-.94-2.06-.94-.94-2.06-.94 2.06-2.06.94z\"/><path d=\"M17.41 7.96l-1.37-1.37c-.4-.4-.92-.59-1.43-.59-.52 0-1.04.2-1.43.59L10.3 9.45l-7.72 7.72c-.78.78-.78 2.05 0 2.83L4 21.41c.39.39.9.59 1.41.59.51 0 1.02-.2 1.41-.59l7.78-7.78 2.81-2.81c.8-.78.8-2.07 0-2.86zM5.41 20L4 18.59l7.72-7.72 1.47 1.35L5.41 20z\"/>\n",
              "  </svg>\n",
              "      </button>\n",
              "      \n",
              "  <style>\n",
              "    .colab-df-container {\n",
              "      display:flex;\n",
              "      flex-wrap:wrap;\n",
              "      gap: 12px;\n",
              "    }\n",
              "\n",
              "    .colab-df-convert {\n",
              "      background-color: #E8F0FE;\n",
              "      border: none;\n",
              "      border-radius: 50%;\n",
              "      cursor: pointer;\n",
              "      display: none;\n",
              "      fill: #1967D2;\n",
              "      height: 32px;\n",
              "      padding: 0 0 0 0;\n",
              "      width: 32px;\n",
              "    }\n",
              "\n",
              "    .colab-df-convert:hover {\n",
              "      background-color: #E2EBFA;\n",
              "      box-shadow: 0px 1px 2px rgba(60, 64, 67, 0.3), 0px 1px 3px 1px rgba(60, 64, 67, 0.15);\n",
              "      fill: #174EA6;\n",
              "    }\n",
              "\n",
              "    [theme=dark] .colab-df-convert {\n",
              "      background-color: #3B4455;\n",
              "      fill: #D2E3FC;\n",
              "    }\n",
              "\n",
              "    [theme=dark] .colab-df-convert:hover {\n",
              "      background-color: #434B5C;\n",
              "      box-shadow: 0px 1px 3px 1px rgba(0, 0, 0, 0.15);\n",
              "      filter: drop-shadow(0px 1px 2px rgba(0, 0, 0, 0.3));\n",
              "      fill: #FFFFFF;\n",
              "    }\n",
              "  </style>\n",
              "\n",
              "      <script>\n",
              "        const buttonEl =\n",
              "          document.querySelector('#df-bbf0f3e4-5b3e-47c5-8fa6-c656a8e4d67f button.colab-df-convert');\n",
              "        buttonEl.style.display =\n",
              "          google.colab.kernel.accessAllowed ? 'block' : 'none';\n",
              "\n",
              "        async function convertToInteractive(key) {\n",
              "          const element = document.querySelector('#df-bbf0f3e4-5b3e-47c5-8fa6-c656a8e4d67f');\n",
              "          const dataTable =\n",
              "            await google.colab.kernel.invokeFunction('convertToInteractive',\n",
              "                                                     [key], {});\n",
              "          if (!dataTable) return;\n",
              "\n",
              "          const docLinkHtml = 'Like what you see? Visit the ' +\n",
              "            '<a target=\"_blank\" href=https://colab.research.google.com/notebooks/data_table.ipynb>data table notebook</a>'\n",
              "            + ' to learn more about interactive tables.';\n",
              "          element.innerHTML = '';\n",
              "          dataTable['output_type'] = 'display_data';\n",
              "          await google.colab.output.renderOutput(dataTable, element);\n",
              "          const docLink = document.createElement('div');\n",
              "          docLink.innerHTML = docLinkHtml;\n",
              "          element.appendChild(docLink);\n",
              "        }\n",
              "      </script>\n",
              "    </div>\n",
              "  </div>\n",
              "  "
            ]
          },
          "metadata": {}
        },
        {
          "output_type": "stream",
          "name": "stdout",
          "text": [
            "Counter({'friendly': 161, 'adversarial': 154, 'neutral': 85})\n"
          ]
        }
      ]
    },
    {
      "cell_type": "markdown",
      "source": [
        "### HR agreement"
      ],
      "metadata": {
        "id": "JMhJtSLLlbtL"
      }
    },
    {
      "cell_type": "code",
      "source": [
        "def agreement_ratings(ratings):\n",
        "  mapping = {'friendly': 0, 'Friendly': 0, 'neutral': 1, 'Neutral' : 1, 'adversarial': 2, 'Adversarial' : 2}\n",
        "  ratings_int = [mapping[x] for x in ratings]\n",
        "  #median = np.median(ratings_int)\n",
        "  mode = scipy.stats.mode(ratings_int)[0][0]\n",
        "  ratings_int.count(mode)\n",
        "  return ratings_int.count(mode)/len(ratings_int)\n",
        "\n",
        "HR_agreement = data.groupby(by='videos').agg(lambda x: agreement_ratings(x))\n",
        "\n",
        "HR_agreement = HR_agreement.drop(a)\n",
        "HR_agreement = HR_agreement.drop(f)\n",
        "HR_agreement = HR_agreement.drop(n)\n",
        "\n",
        "print(\"\\n\\nAgreement in ratings across videos:\", HR_agreement['relationship'].mean())\n",
        "#HR_agreement.index = HR_agreement.index.str[:14]\n",
        "display(HR_agreement)\n",
        "\n",
        "HR_agreement_dict = HR_agreement.to_dict('index')"
      ],
      "metadata": {
        "colab": {
          "base_uri": "https://localhost:8080/",
          "height": 0
        },
        "id": "Oq-OpvaNlADZ",
        "outputId": "70337fb4-1abc-4d16-c3c5-2870d41b2d3b"
      },
      "execution_count": 9,
      "outputs": [
        {
          "output_type": "stream",
          "name": "stdout",
          "text": [
            "\n",
            "\n",
            "Agreement in ratings across videos: 0.787197594072594\n"
          ]
        },
        {
          "output_type": "display_data",
          "data": {
            "text/plain": [
              "                                                    relationship\n",
              "videos                                                          \n",
              "D081820_13363300_0_F8_E0_G['LMO', 0, 2, 1]_['LM...      0.846154\n",
              "D081820_16545200_0_F8_E2_G['LMA', 0, 1, 1]_['LM...      1.000000\n",
              "D081920_01561200_0_F8_E6_G['LMA', 1, 1, -1]_['L...      0.909091\n",
              "D081920_03595900_0_F8_E7_G['LMA', 1, 2, -1]_['L...      0.636364\n",
              "D081920_08023200_0_F8_E6_G['LMO', 1, 0, 1]_['LM...      1.000000\n",
              "...                                                          ...\n",
              "D121320_07145900_0_F8_E20_G['LMO', 0, 2, 1]_['L...      0.615385\n",
              "D121320_13405400_0_F8_E12_G['LMO', 1, 2, 1]_['L...      0.909091\n",
              "D121420_00140200_0_F8_E12_G['LMO', 0, 2, 1]_['L...      0.818182\n",
              "D121420_08260200_0_F8_E13_G['LMO', 0, 2, 1]_['L...      0.666667\n",
              "D121420_09132200_0_F8_E8_G['LMO', 0, 3, 1]_['LM...      0.538462\n",
              "\n",
              "[400 rows x 1 columns]"
            ],
            "text/html": [
              "\n",
              "  <div id=\"df-f94156f6-6975-4bf8-8464-bad91f2d8de4\">\n",
              "    <div class=\"colab-df-container\">\n",
              "      <div>\n",
              "<style scoped>\n",
              "    .dataframe tbody tr th:only-of-type {\n",
              "        vertical-align: middle;\n",
              "    }\n",
              "\n",
              "    .dataframe tbody tr th {\n",
              "        vertical-align: top;\n",
              "    }\n",
              "\n",
              "    .dataframe thead th {\n",
              "        text-align: right;\n",
              "    }\n",
              "</style>\n",
              "<table border=\"1\" class=\"dataframe\">\n",
              "  <thead>\n",
              "    <tr style=\"text-align: right;\">\n",
              "      <th></th>\n",
              "      <th>relationship</th>\n",
              "    </tr>\n",
              "    <tr>\n",
              "      <th>videos</th>\n",
              "      <th></th>\n",
              "    </tr>\n",
              "  </thead>\n",
              "  <tbody>\n",
              "    <tr>\n",
              "      <th>D081820_13363300_0_F8_E0_G['LMO', 0, 2, 1]_['LMO', 0, 2, 1]_ST1_2_SZ0_3_0_3_P13_13_12_10_A0_0_C0_0_AN-0.12_4.61_MCTS_L1_R0.0_10.0_PL1_EL1_0_0_s1000_r10_cI1.25_cB1000_e61.mp4</th>\n",
              "      <td>0.846154</td>\n",
              "    </tr>\n",
              "    <tr>\n",
              "      <th>D081820_16545200_0_F8_E2_G['LMA', 0, 1, 1]_['LMA', 0, 1, -1]_ST1_3_SZ0_1_0_1_P2_2_3_2_A0_0_C0_0_AN-1.91_-2.23_MCTS_L1_R0.0_-10.0_PL1_EL1_0_0_s1000_r10_cI1.25_cB1000_e314.mp4</th>\n",
              "      <td>1.000000</td>\n",
              "    </tr>\n",
              "    <tr>\n",
              "      <th>D081920_01561200_0_F8_E6_G['LMA', 1, 1, -1]_['LMA', 1, 1, 1]_ST2_1_SZ0_3_1_1_P4_6_5_4_A0_0_C0_0_AN-5.47_-0.63_MCTS_L1_R-10.0_0.0_PL1_EL1_0_0_s1000_r10_cI1.25_cB1000_e191.mp4</th>\n",
              "      <td>0.909091</td>\n",
              "    </tr>\n",
              "    <tr>\n",
              "      <th>D081920_03595900_0_F8_E7_G['LMA', 1, 2, -1]_['LMA', 1, 2, 1]_ST1_1_SZ3_0_1_1_P3_4_3_12_A0_0_C0_0_AN3.44_2.49_MCTS_L1_R-10.0_0.0_PL1_EL1_0_0_s1000_r10_cI1.25_cB1000_e90.mp4</th>\n",
              "      <td>0.636364</td>\n",
              "    </tr>\n",
              "    <tr>\n",
              "      <th>D081920_08023200_0_F8_E6_G['LMO', 1, 0, 1]_['LMO', 1, 0, 1]_ST0_1_SZ0_1_0_1_P2_3_4_1_A0_0_C0_0_AN6.18_-0.5_MCTS_L1_R0.0_0.0_PL1_EL1_0_0_s1000_r10_cI1.25_cB1000_e383.mp4</th>\n",
              "      <td>1.000000</td>\n",
              "    </tr>\n",
              "    <tr>\n",
              "      <th>...</th>\n",
              "      <td>...</td>\n",
              "    </tr>\n",
              "    <tr>\n",
              "      <th>D121320_07145900_0_F8_E20_G['LMO', 0, 2, 1]_['LMO', 0, 2, 1]_ST1_1_SZ2_3_0_0_P11_17_3_17_A0_0_C0_0_AN-5.44_1.29_MCTS_L1_R10.0_0.0_PL1_EL1_0_0_s1000_r10_cI1.25_cB1000_e57.mp4</th>\n",
              "      <td>0.615385</td>\n",
              "    </tr>\n",
              "    <tr>\n",
              "      <th>D121320_13405400_0_F8_E12_G['LMO', 1, 2, 1]_['LMO', 1, 2, 1]_ST1_2_SZ1_3_1_0_P17_11_15_3_A0_0_C0_0_AN-2.8_-5.86_MCTS_L1_R0.0_10.0_PL1_EL1_0_0_s1000_r10_cI1.25_cB1000_e75.mp4</th>\n",
              "      <td>0.909091</td>\n",
              "    </tr>\n",
              "    <tr>\n",
              "      <th>D121420_00140200_0_F8_E12_G['LMO', 0, 2, 1]_['LMO', 0, 2, 1]_ST1_2_SZ1_3_0_1_P17_11_3_15_A0_0_C0_0_AN-2.8_-5.86_MCTS_L1_R0.0_10.0_PL1_EL1_0_0_s1000_r10_cI1.25_cB1000_e54.mp4</th>\n",
              "      <td>0.818182</td>\n",
              "    </tr>\n",
              "    <tr>\n",
              "      <th>D121420_08260200_0_F8_E13_G['LMO', 0, 2, 1]_['LMO', 0, 2, 1]_ST2_3_SZ2_2_0_1_P7_2_15_3_A0_0_C0_0_AN-0.76_4.09_MCTS_L1_R0.0_0.0_PL1_EL1_0_0_s1000_r10_cI1.25_cB1000_e56.mp4</th>\n",
              "      <td>0.666667</td>\n",
              "    </tr>\n",
              "    <tr>\n",
              "      <th>D121420_09132200_0_F8_E8_G['LMO', 0, 3, 1]_['LMO', 0, 3, 1]_ST1_1_SZ2_1_0_0_P1_2_1_6_A0_0_C0_0_AN-2.13_3.27_MCTS_L1_R10.0_0.0_PL1_EL1_0_0_s1000_r10_cI1.25_cB1000_e21.mp4</th>\n",
              "      <td>0.538462</td>\n",
              "    </tr>\n",
              "  </tbody>\n",
              "</table>\n",
              "<p>400 rows × 1 columns</p>\n",
              "</div>\n",
              "      <button class=\"colab-df-convert\" onclick=\"convertToInteractive('df-f94156f6-6975-4bf8-8464-bad91f2d8de4')\"\n",
              "              title=\"Convert this dataframe to an interactive table.\"\n",
              "              style=\"display:none;\">\n",
              "        \n",
              "  <svg xmlns=\"http://www.w3.org/2000/svg\" height=\"24px\"viewBox=\"0 0 24 24\"\n",
              "       width=\"24px\">\n",
              "    <path d=\"M0 0h24v24H0V0z\" fill=\"none\"/>\n",
              "    <path d=\"M18.56 5.44l.94 2.06.94-2.06 2.06-.94-2.06-.94-.94-2.06-.94 2.06-2.06.94zm-11 1L8.5 8.5l.94-2.06 2.06-.94-2.06-.94L8.5 2.5l-.94 2.06-2.06.94zm10 10l.94 2.06.94-2.06 2.06-.94-2.06-.94-.94-2.06-.94 2.06-2.06.94z\"/><path d=\"M17.41 7.96l-1.37-1.37c-.4-.4-.92-.59-1.43-.59-.52 0-1.04.2-1.43.59L10.3 9.45l-7.72 7.72c-.78.78-.78 2.05 0 2.83L4 21.41c.39.39.9.59 1.41.59.51 0 1.02-.2 1.41-.59l7.78-7.78 2.81-2.81c.8-.78.8-2.07 0-2.86zM5.41 20L4 18.59l7.72-7.72 1.47 1.35L5.41 20z\"/>\n",
              "  </svg>\n",
              "      </button>\n",
              "      \n",
              "  <style>\n",
              "    .colab-df-container {\n",
              "      display:flex;\n",
              "      flex-wrap:wrap;\n",
              "      gap: 12px;\n",
              "    }\n",
              "\n",
              "    .colab-df-convert {\n",
              "      background-color: #E8F0FE;\n",
              "      border: none;\n",
              "      border-radius: 50%;\n",
              "      cursor: pointer;\n",
              "      display: none;\n",
              "      fill: #1967D2;\n",
              "      height: 32px;\n",
              "      padding: 0 0 0 0;\n",
              "      width: 32px;\n",
              "    }\n",
              "\n",
              "    .colab-df-convert:hover {\n",
              "      background-color: #E2EBFA;\n",
              "      box-shadow: 0px 1px 2px rgba(60, 64, 67, 0.3), 0px 1px 3px 1px rgba(60, 64, 67, 0.15);\n",
              "      fill: #174EA6;\n",
              "    }\n",
              "\n",
              "    [theme=dark] .colab-df-convert {\n",
              "      background-color: #3B4455;\n",
              "      fill: #D2E3FC;\n",
              "    }\n",
              "\n",
              "    [theme=dark] .colab-df-convert:hover {\n",
              "      background-color: #434B5C;\n",
              "      box-shadow: 0px 1px 3px 1px rgba(0, 0, 0, 0.15);\n",
              "      filter: drop-shadow(0px 1px 2px rgba(0, 0, 0, 0.3));\n",
              "      fill: #FFFFFF;\n",
              "    }\n",
              "  </style>\n",
              "\n",
              "      <script>\n",
              "        const buttonEl =\n",
              "          document.querySelector('#df-f94156f6-6975-4bf8-8464-bad91f2d8de4 button.colab-df-convert');\n",
              "        buttonEl.style.display =\n",
              "          google.colab.kernel.accessAllowed ? 'block' : 'none';\n",
              "\n",
              "        async function convertToInteractive(key) {\n",
              "          const element = document.querySelector('#df-f94156f6-6975-4bf8-8464-bad91f2d8de4');\n",
              "          const dataTable =\n",
              "            await google.colab.kernel.invokeFunction('convertToInteractive',\n",
              "                                                     [key], {});\n",
              "          if (!dataTable) return;\n",
              "\n",
              "          const docLinkHtml = 'Like what you see? Visit the ' +\n",
              "            '<a target=\"_blank\" href=https://colab.research.google.com/notebooks/data_table.ipynb>data table notebook</a>'\n",
              "            + ' to learn more about interactive tables.';\n",
              "          element.innerHTML = '';\n",
              "          dataTable['output_type'] = 'display_data';\n",
              "          await google.colab.output.renderOutput(dataTable, element);\n",
              "          const docLink = document.createElement('div');\n",
              "          docLink.innerHTML = docLinkHtml;\n",
              "          element.appendChild(docLink);\n",
              "        }\n",
              "      </script>\n",
              "    </div>\n",
              "  </div>\n",
              "  "
            ]
          },
          "metadata": {}
        }
      ]
    },
    {
      "cell_type": "markdown",
      "metadata": {
        "id": "zw-v-AfTMcfK"
      },
      "source": [
        "## Ratings to pickle file for Training/Testing labels"
      ]
    },
    {
      "cell_type": "code",
      "metadata": {
        "colab": {
          "base_uri": "https://localhost:8080/",
          "height": 35
        },
        "id": "_r2d9Ot-MbNu",
        "outputId": "11d3ecc5-1b84-419e-c200-0803e4b6a981"
      },
      "source": [
        "import pickle\n",
        "with open('./Human_Experiment_Files/human_rating_labels_all', 'wb') as file:\n",
        "  pickle.dump(HR, file)\n",
        "\n",
        "'''\n",
        "with open('./Human_Experiment_Files/human_rating_labels', 'wb') as file:\n",
        "  pickle.dump(final_labels_dict, file)\n",
        "'''\n",
        "\n",
        "'''\n",
        "with open('./Human_Experiment_Files/human_rating_labels_agreement', 'wb') as file:\n",
        "  pickle.dump(HR_agreement_dict, file)\n",
        "'''\n",
        "\n",
        "'''\n",
        "with open('./Human_Experiment_Files/human_rating_labels_notonlymedian', 'wb') as file:\n",
        "  pickle.dump(final_labels_dict, file)\n",
        "'''"
      ],
      "execution_count": null,
      "outputs": [
        {
          "output_type": "execute_result",
          "data": {
            "text/plain": [
              "\"\\nwith open('./Human_Experiment_Files/human_rating_labels_notonlymedian', 'wb') as file:\\n  pickle.dump(final_labels_dict, file)\\n\""
            ],
            "application/vnd.google.colaboratory.intrinsic+json": {
              "type": "string"
            }
          },
          "metadata": {},
          "execution_count": 26
        }
      ]
    },
    {
      "cell_type": "markdown",
      "metadata": {
        "id": "OirfhIo6MPTs"
      },
      "source": [
        "## Plotting Rating Data"
      ]
    },
    {
      "cell_type": "code",
      "source": [
        "import matplotlib.pyplot as plt\n",
        "import seaborn as sns"
      ],
      "metadata": {
        "id": "4PBBWmFd0rS0"
      },
      "execution_count": null,
      "outputs": []
    },
    {
      "cell_type": "code",
      "metadata": {
        "id": "ElDdr-isPQTV"
      },
      "source": [
        "## Boxplots\n",
        "new = data.replace({\"relationship\": {'friendly':1, 'neutral': 0, 'adversarial': -1}})\n",
        "display(new)\n",
        "\n",
        "fig, ax = plt.subplots()\n",
        "sns.set_theme()\n",
        "sns.set(rc={'figure.figsize':(100,10)})\n",
        "sns.set(font_scale=2)\n",
        "\n",
        "# draw pointplot\n",
        "'''\n",
        "sns.boxplot(x = \"videos\", y = \"relationship\", data = new, showmeans=True,\n",
        "            meanprops={\"marker\":\"o\",\n",
        "                       \"markerfacecolor\":\"white\", \n",
        "                       \"markeredgecolor\":\"black\",\n",
        "                      \"markersize\":\"10\"}, boxprops=dict(alpha=.3))\n",
        "sns.stripplot(x = \"videos\", y = \"relationship\", data = new)\n",
        "'''\n"
      ],
      "execution_count": null,
      "outputs": []
    },
    {
      "cell_type": "code",
      "metadata": {
        "colab": {
          "base_uri": "https://localhost:8080/",
          "height": 1000
        },
        "id": "Qvu2_zKlPcon",
        "outputId": "60d0e227-88f9-44f8-f964-5c4e34a879ad"
      },
      "source": [
        "import scipy\n",
        "\n",
        "## Lineplot\n",
        "def get_dist_stats(g):\n",
        "  mapping = {'friendly':1, 'neutral': 0, 'adversarial': -1}\n",
        "  ratings = [mapping[x] for x in g]\n",
        "  stats = (np.mean(ratings), np.std(ratings), np.median(ratings) - scipy.stats.mode(ratings)[0][0]) #median-mode\n",
        "  #stats = (np.mean(ratings), np.std(ratings), np.median(ratings) - np.mean(ratings)) #median-mean\n",
        "  #stats = (np.mean(ratings), np.std(ratings), np.mean(ratings) - scipy.stats.mode(ratings)[0][0]) #median-mode\n",
        "  return stats\n",
        "\n",
        "display(HR)\n",
        "\n",
        "HR_stats = data.groupby(by='videos').agg(lambda x: get_dist_stats(list(x)))\n",
        "HR_stats.index = HR_stats.index.str[:14]\n",
        "display(HR_stats)\n",
        "\n",
        "means = [x[0] for x in HR_stats['relationship']]\n",
        "stds = [x[1] for x in HR_stats['relationship']]\n",
        "stats_df = {\"videos\":HR_stats.index, \"means\":means,\"std\":stds}\n",
        "\n",
        "'''\n",
        "fig, ax = plt.subplots()\n",
        "sns.set_theme()\n",
        "sns.set(rc={'figure.figsize':(100,10)})\n",
        "sns.set(font_scale=2)\n",
        "\n",
        "# draw pointplot\n",
        "#sns.lineplot(x = \"videos\", y = \"means\", data = stats_df, linestyle='')\n",
        "sns.lineplot(x='videos', y='relationship', data=new, marker='o', linestyle='', err_style='bars', ci = \"sd\")\n",
        "\n",
        "ax.set_xticklabels([str(i) for i in range(1,404)], rotation=45)\n",
        "# show the plot\n",
        "ax.xaxis.grid(True)\n",
        "plt.show()\n",
        "'''\n",
        "sns.set(rc={'figure.figsize':(10,10)})\n",
        "stat_difference = [x[2] for x in HR_stats['relationship']]\n",
        "plt.hist(stat_difference)\n",
        "plt.title('Median-Mode')\n",
        "plt.plot()"
      ],
      "execution_count": null,
      "outputs": [
        {
          "output_type": "display_data",
          "data": {
            "text/html": [
              "<div>\n",
              "<style scoped>\n",
              "    .dataframe tbody tr th:only-of-type {\n",
              "        vertical-align: middle;\n",
              "    }\n",
              "\n",
              "    .dataframe tbody tr th {\n",
              "        vertical-align: top;\n",
              "    }\n",
              "\n",
              "    .dataframe thead th {\n",
              "        text-align: right;\n",
              "    }\n",
              "</style>\n",
              "<table border=\"1\" class=\"dataframe\">\n",
              "  <thead>\n",
              "    <tr style=\"text-align: right;\">\n",
              "      <th></th>\n",
              "      <th>relationship</th>\n",
              "    </tr>\n",
              "    <tr>\n",
              "      <th>videos</th>\n",
              "      <th></th>\n",
              "    </tr>\n",
              "  </thead>\n",
              "  <tbody>\n",
              "    <tr>\n",
              "      <th>D081820_133633</th>\n",
              "      <td>13</td>\n",
              "    </tr>\n",
              "    <tr>\n",
              "      <th>D081820_165452</th>\n",
              "      <td>14</td>\n",
              "    </tr>\n",
              "    <tr>\n",
              "      <th>D081920_015612</th>\n",
              "      <td>11</td>\n",
              "    </tr>\n",
              "    <tr>\n",
              "      <th>D081920_035959</th>\n",
              "      <td>11</td>\n",
              "    </tr>\n",
              "    <tr>\n",
              "      <th>D081920_080232</th>\n",
              "      <td>10</td>\n",
              "    </tr>\n",
              "    <tr>\n",
              "      <th>...</th>\n",
              "      <td>...</td>\n",
              "    </tr>\n",
              "    <tr>\n",
              "      <th>D121320_071459</th>\n",
              "      <td>13</td>\n",
              "    </tr>\n",
              "    <tr>\n",
              "      <th>D121320_134054</th>\n",
              "      <td>11</td>\n",
              "    </tr>\n",
              "    <tr>\n",
              "      <th>D121420_001402</th>\n",
              "      <td>11</td>\n",
              "    </tr>\n",
              "    <tr>\n",
              "      <th>D121420_082602</th>\n",
              "      <td>12</td>\n",
              "    </tr>\n",
              "    <tr>\n",
              "      <th>D121420_091322</th>\n",
              "      <td>13</td>\n",
              "    </tr>\n",
              "  </tbody>\n",
              "</table>\n",
              "<p>403 rows × 1 columns</p>\n",
              "</div>"
            ],
            "text/plain": [
              "                relationship\n",
              "videos                      \n",
              "D081820_133633            13\n",
              "D081820_165452            14\n",
              "D081920_015612            11\n",
              "D081920_035959            11\n",
              "D081920_080232            10\n",
              "...                      ...\n",
              "D121320_071459            13\n",
              "D121320_134054            11\n",
              "D121420_001402            11\n",
              "D121420_082602            12\n",
              "D121420_091322            13\n",
              "\n",
              "[403 rows x 1 columns]"
            ]
          },
          "metadata": {}
        },
        {
          "output_type": "display_data",
          "data": {
            "text/html": [
              "<div>\n",
              "<style scoped>\n",
              "    .dataframe tbody tr th:only-of-type {\n",
              "        vertical-align: middle;\n",
              "    }\n",
              "\n",
              "    .dataframe tbody tr th {\n",
              "        vertical-align: top;\n",
              "    }\n",
              "\n",
              "    .dataframe thead th {\n",
              "        text-align: right;\n",
              "    }\n",
              "</style>\n",
              "<table border=\"1\" class=\"dataframe\">\n",
              "  <thead>\n",
              "    <tr style=\"text-align: right;\">\n",
              "      <th></th>\n",
              "      <th>relationship</th>\n",
              "    </tr>\n",
              "    <tr>\n",
              "      <th>videos</th>\n",
              "      <th></th>\n",
              "    </tr>\n",
              "  </thead>\n",
              "  <tbody>\n",
              "    <tr>\n",
              "      <th>D081820_133633</th>\n",
              "      <td>(0.6923076923076923, 0.7216024245882199, 0.0)</td>\n",
              "    </tr>\n",
              "    <tr>\n",
              "      <th>D081820_165452</th>\n",
              "      <td>(-1.0, 0.0, 0.0)</td>\n",
              "    </tr>\n",
              "    <tr>\n",
              "      <th>D081920_015612</th>\n",
              "      <td>(-0.9090909090909091, 0.28747978728803447, 0.0)</td>\n",
              "    </tr>\n",
              "    <tr>\n",
              "      <th>D081920_035959</th>\n",
              "      <td>(-0.36363636363636365, 0.8813963377120598, 0.0)</td>\n",
              "    </tr>\n",
              "    <tr>\n",
              "      <th>D081920_080232</th>\n",
              "      <td>(1.0, 0.0, 0.0)</td>\n",
              "    </tr>\n",
              "    <tr>\n",
              "      <th>...</th>\n",
              "      <td>...</td>\n",
              "    </tr>\n",
              "    <tr>\n",
              "      <th>D121320_071459</th>\n",
              "      <td>(0.6153846153846154, 0.48650425541051995, 0.0)</td>\n",
              "    </tr>\n",
              "    <tr>\n",
              "      <th>D121320_134054</th>\n",
              "      <td>(0.9090909090909091, 0.28747978728803447, 0.0)</td>\n",
              "    </tr>\n",
              "    <tr>\n",
              "      <th>D121420_001402</th>\n",
              "      <td>(0.8181818181818182, 0.385694607919935, 0.0)</td>\n",
              "    </tr>\n",
              "    <tr>\n",
              "      <th>D121420_082602</th>\n",
              "      <td>(0.5833333333333334, 0.6400954789890507, 0.0)</td>\n",
              "    </tr>\n",
              "    <tr>\n",
              "      <th>D121420_091322</th>\n",
              "      <td>(0.46153846153846156, 0.6343239424027171, 0.0)</td>\n",
              "    </tr>\n",
              "  </tbody>\n",
              "</table>\n",
              "<p>403 rows × 1 columns</p>\n",
              "</div>"
            ],
            "text/plain": [
              "                                                   relationship\n",
              "videos                                                         \n",
              "D081820_133633    (0.6923076923076923, 0.7216024245882199, 0.0)\n",
              "D081820_165452                                 (-1.0, 0.0, 0.0)\n",
              "D081920_015612  (-0.9090909090909091, 0.28747978728803447, 0.0)\n",
              "D081920_035959  (-0.36363636363636365, 0.8813963377120598, 0.0)\n",
              "D081920_080232                                  (1.0, 0.0, 0.0)\n",
              "...                                                         ...\n",
              "D121320_071459   (0.6153846153846154, 0.48650425541051995, 0.0)\n",
              "D121320_134054   (0.9090909090909091, 0.28747978728803447, 0.0)\n",
              "D121420_001402     (0.8181818181818182, 0.385694607919935, 0.0)\n",
              "D121420_082602    (0.5833333333333334, 0.6400954789890507, 0.0)\n",
              "D121420_091322   (0.46153846153846156, 0.6343239424027171, 0.0)\n",
              "\n",
              "[403 rows x 1 columns]"
            ]
          },
          "metadata": {}
        },
        {
          "output_type": "execute_result",
          "data": {
            "text/plain": [
              "[]"
            ]
          },
          "metadata": {},
          "execution_count": 19
        },
        {
          "output_type": "display_data",
          "data": {
            "image/png": "[encoded data removed]",
            "text/plain": [
              "<Figure size 720x720 with 1 Axes>"
            ]
          },
          "metadata": {}
        }
      ]
    },
    {
      "cell_type": "code",
      "metadata": {
        "colab": {
          "base_uri": "https://localhost:8080/"
        },
        "id": "mE7NELQhiotl",
        "outputId": "4df9a99e-113a-4752-b74c-e4ba7bcad3a1"
      },
      "source": [
        "print(\"Total data files: \", n_subjects)\n",
        "print(\"No. of (complete) Human Responses: \", len(human_responses))\n",
        "print(\"No. of subjects to be rejected due to example video ratings: \", no_subjects_to_reject_exampleVideoBased)\n",
        "print()\n",
        "print(\"No. of ratings per video (distribution): \", Counter(HR.relationship))"
      ],
      "execution_count": null,
      "outputs": [
        {
          "output_type": "stream",
          "name": "stdout",
          "text": [
            "Total data files:  330\n",
            "No. of (complete) Human Responses:  298\n",
            "No. of subjects to be rejected due to example video ratings:  57\n",
            "\n",
            "No. of ratings per video (distribution):  Counter({11: 160, 13: 120, 14: 40, 10: 40, 15: 20, 12: 20, 241: 3})\n"
          ]
        }
      ]
    },
    {
      "cell_type": "markdown",
      "metadata": {
        "id": "sMlpNNXXF0gF"
      },
      "source": [
        "## **Ground Truth v/s Human Ratings (our)**"
      ]
    },
    {
      "cell_type": "code",
      "metadata": {
        "colab": {
          "base_uri": "https://localhost:8080/"
        },
        "id": "GzJBFAagGNWE",
        "outputId": "bd1fd203-546e-462a-e668-72bf0d6f3989"
      },
      "source": [
        "from google.colab import drive\n",
        "drive.mount('/content/gdrive', force_remount=True)"
      ],
      "execution_count": null,
      "outputs": [
        {
          "output_type": "stream",
          "name": "stdout",
          "text": [
            "Mounted at /content/gdrive\n"
          ]
        }
      ]
    },
    {
      "cell_type": "code",
      "metadata": {
        "colab": {
          "base_uri": "https://localhost:8080/"
        },
        "id": "oFOWgD6SGRQX",
        "outputId": "7c4b4f3b-4050-4557-c870-e2254392d761"
      },
      "source": [
        "cd gdrive/My\\ Drive/Help-Hinder_GNN_Project"
      ],
      "execution_count": null,
      "outputs": [
        {
          "output_type": "stream",
          "name": "stdout",
          "text": [
            "/content/gdrive/My Drive/Help-Hinder_GNN_Project\n"
          ]
        }
      ]
    },
    {
      "cell_type": "code",
      "source": [
        "from sklearn.metrics import confusion_matrix, ConfusionMatrixDisplay\n",
        "from collections import Counter\n",
        "import os\n",
        "import pickle"
      ],
      "metadata": {
        "id": "zGH-3G-RZ6Sc"
      },
      "execution_count": null,
      "outputs": []
    },
    {
      "cell_type": "markdown",
      "source": [
        "Train Set"
      ],
      "metadata": {
        "id": "h1lDCg2TZuZC"
      }
    },
    {
      "cell_type": "code",
      "metadata": {
        "id": "Z5pTp1apF60G",
        "colab": {
          "base_uri": "https://localhost:8080/"
        },
        "outputId": "0e045b46-d14e-4572-9e46-325c5c2cca04"
      },
      "source": [
        "path = './PHASE/train'\n",
        "n_videos = len(os.listdir(path))\n",
        "\n",
        "with open('./Human_Experiment_Files/human_rating_labels', 'rb') as file:\n",
        "    human_ratings_labels_dict = pickle.load(file)\n",
        "\n",
        "GT = []\n",
        "HR = []\n",
        "for root, dirs, files, in os.walk(path):\n",
        "  for file in files:\n",
        "    if file.endswith(\".pik\"):\n",
        "      open_f = open(path + '/' + file, 'rb')\n",
        "      open_f_data = pickle.load(open_f)\n",
        "      v = {}\n",
        "      v['name'] = file[:-3] + 'mp4'\n",
        "      GT.append(open_f_data['modes'][0][0])\n",
        "      HR.append(human_ratings_labels_dict[v['name']]['relationship'])\n",
        "\n",
        "print(\"GT\", Counter(GT))\n",
        "print(\"HR\", Counter(HR))\n",
        "print(\"\\n HR v/s GT\")\n",
        "print(confusion_matrix(HR,GT))\n",
        "\n",
        "print(\"\\n GT v/s HR\")\n",
        "print(confusion_matrix(GT, HR))"
      ],
      "execution_count": null,
      "outputs": [
        {
          "output_type": "stream",
          "name": "stdout",
          "text": [
            "GT Counter({'neutral': 234, 'friendly': 108, 'adversarial': 58})\n",
            "HR Counter({'friendly': 161, 'adversarial': 154, 'neutral': 85})\n",
            "\n",
            " HR v/s GT\n",
            "[[ 50   3 101]\n",
            " [  4  95  62]\n",
            " [  4  10  71]]\n",
            "\n",
            " GT v/s HR\n",
            "[[ 50   4   4]\n",
            " [  3  95  10]\n",
            " [101  62  71]]\n"
          ]
        }
      ]
    },
    {
      "cell_type": "markdown",
      "source": [
        "Run PHASE human ratings code section before next block"
      ],
      "metadata": {
        "id": "Re6Bsg0BtHwD"
      }
    },
    {
      "cell_type": "code",
      "metadata": {
        "colab": {
          "base_uri": "https://localhost:8080/"
        },
        "id": "Abxs4l_UILEy",
        "outputId": "78ddaa5e-cf05-4579-c6ba-18e29e13d43e"
      },
      "source": [
        "path = './PHASE/test'\n",
        "n_videos = len(os.listdir(path))\n",
        "\n",
        "with open('./Human_Experiment_Files/human_rating_labels_test', 'rb') as file:\n",
        "    human_ratings_labels_dict = pickle.load(file)\n",
        "\n",
        "GT = []\n",
        "HR = []\n",
        "HR_PHASE = []\n",
        "mapping = {'Friendly':'friendly', \"Neutral\":'neutral', 'Adversarial':'adversarial'}\n",
        "for root, dirs, files, in os.walk(path):\n",
        "  for file in files:\n",
        "    if file.endswith(\".pik\"):\n",
        "      open_f = open(path + '/' + file, 'rb')\n",
        "      open_f_data = pickle.load(open_f)\n",
        "      v = {}\n",
        "      v['name'] = file[:-3] + 'mp4'\n",
        "      GT.append(open_f_data['modes'][0][0])\n",
        "      HR.append(human_ratings_labels_dict[v['name']]['relationship'])\n",
        "      \n",
        "      ind = file.find('G')\n",
        "      f_name = file[:15]+ file[ind-1:ind+35]\n",
        "      HR_PHASE.append(mapping[HR_PHASE_dict[f_name]['relationship']])\n",
        "\n",
        "print(\"GT\", Counter(GT))\n",
        "print(\"HR\", Counter(HR))\n",
        "print(\"HR_PHASE\", Counter(HR_PHASE))\n",
        "print(\"\\n HR v/s GT\")\n",
        "print(confusion_matrix(HR,GT))\n",
        "\n",
        "print(\"\\n GT v/s HR\")\n",
        "print(confusion_matrix(GT, HR))\n",
        "\n",
        "print(\"\\n HR v/s HR_PHASE\")\n",
        "print(confusion_matrix(HR, HR_PHASE))\n",
        "\n",
        "print(\"\\n GT v/s HR_PHASE\")\n",
        "print(confusion_matrix(GT, HR_PHASE))"
      ],
      "execution_count": null,
      "outputs": [
        {
          "output_type": "stream",
          "name": "stdout",
          "text": [
            "GT Counter({'neutral': 62, 'friendly': 21, 'adversarial': 17})\n",
            "HR Counter({'friendly': 37, 'adversarial': 36, 'neutral': 27})\n",
            "HR_PHASE Counter({'friendly': 38, 'adversarial': 37, 'neutral': 25})\n",
            "\n",
            " HR v/s GT\n",
            "[[17  0 19]\n",
            " [ 0 19 18]\n",
            " [ 0  2 25]]\n",
            "\n",
            " GT v/s HR\n",
            "[[17  0  0]\n",
            " [ 0 19  2]\n",
            " [19 18 25]]\n",
            "\n",
            " HR v/s HR_PHASE\n",
            "[[35  0  1]\n",
            " [ 1 36  0]\n",
            " [ 1  2 24]]\n",
            "\n",
            " GT v/s HR_PHASE\n",
            "[[17  0  0]\n",
            " [ 0 21  0]\n",
            " [20 17 25]]\n"
          ]
        }
      ]
    }
  ]
}