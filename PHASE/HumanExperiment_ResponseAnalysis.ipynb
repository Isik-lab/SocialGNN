{
  "nbformat": 4,
  "nbformat_minor": 0,
  "metadata": {
    "colab": {
      "provenance": []
    },
    "kernelspec": {
      "name": "python3",
      "display_name": "Python 3"
    },
    "language_info": {
      "name": "python"
    }
  },
  "cells": [
    {
      "cell_type": "markdown",
      "metadata": {
        "id": "UKn4L9YrdNLx"
      },
      "source": [
        "# **Analyse our Human Experiment Data**\n",
        "- preprocessing (incl getting modes and agreement)\n",
        "- saving as pickle files\n",
        "- comparison with ground truth\n",
        "used for both train and test set human experiments"
      ]
    },
    {
      "cell_type": "markdown",
      "source": [
        "### Loading and Preprocessing"
      ],
      "metadata": {
        "id": "e1XhFiJIGn2m"
      }
    },
    {
      "cell_type": "code",
      "metadata": {
        "id": "DFy-g7VTdWMq",
        "colab": {
          "base_uri": "https://localhost:8080/"
        },
        "outputId": "9731b7b6-cccd-4fc6-8fb3-73a7be904315"
      },
      "source": [
        "from google.colab import drive\n",
        "drive.mount('/content/gdrive', force_remount=True)"
      ],
      "execution_count": null,
      "outputs": [
        {
          "output_type": "stream",
          "name": "stdout",
          "text": [
            "Mounted at /content/gdrive\n"
          ]
        }
      ]
    },
    {
      "cell_type": "code",
      "metadata": {
        "id": "gb-hdoLjddbq",
        "colab": {
          "base_uri": "https://localhost:8080/"
        },
        "outputId": "b48719d6-d802-4a86-98fe-c37edeb3dd11"
      },
      "source": [
        "cd gdrive/My\\ Drive/Help-Hinder_GNN_Project/SocialGNN_Final"
      ],
      "execution_count": null,
      "outputs": [
        {
          "output_type": "stream",
          "name": "stdout",
          "text": [
            "/content/gdrive/My Drive/Help-Hinder_GNN_Project/SocialGNN_Final\n"
          ]
        }
      ]
    },
    {
      "cell_type": "code",
      "metadata": {
        "id": "cMCZukeodjJm"
      },
      "source": [
        "import os\n",
        "dataset = \"train\"\n",
        "\n",
        "if dataset == \"train\":\n",
        "  path = path = './Human_Experiment_Files/responses'\n",
        "elif dataset == \"test\":\n",
        "  path = './Human_Experiment_Files/responses_test'\n",
        "n_subjects = len(os.listdir(path))\n",
        "n_subjects\n",
        "\n",
        "if dataset == \"train\":\n",
        "  a = \"D082120_2101060_0_F8_E12.1_G['LMA', 0, 0, 1]_['LMA', 0, 0, -1]_ST1_3_SZ0_0_3_0_P13_0_6_10_A0_0_C0_0_AN-3.45_1.43_MCTS_L100_R0.0_-10.0_PL1_EL1_0_0_s1000_r10_cI1.25_cB1000_e92_mm.mp4\"\n",
        "  f = \"D081920_1135270_0_F8_E13.2_G['LMO', 0, 3, 1]_['LMO', 0, 3, 1]_ST2_2_SZ0_0_0_3_P7_15_16_17_A0_0_C0_0_AN-6.08_5.6_MCTS_L100_R0.0_0.0_PL1_EL1_0_0_s1000_r10_cI1.25_cB1000_e10_mm.mp4\"\n",
        "  n = \"D082920_2343080_0_F8_E4_G['LMA', 0, 1, 1]_['LMA', 1, 3, 1]_ST3_2_SZ3_0_3_3_P7_5_14_1_A0_0_C0_0_AN-3.09_-0.6_MCTS_L100_R0.0_0.0_PL1_EL1_0_0_s1000_r10_cI1.25_cB1000_e13_mm.mp4\"\n",
        "elif dataset == \"test\":\n",
        "  a = \"D082320_13360100_0_F8_E4_G['LMA', 1, 3, -1]_['LMA', 1, 3, 1]_ST3_1_SZ3_0_0_2_P3_0_4_2_A0_0_C0_0_AN-0.43_-4.93_MCTS_L1_R-10.0_0.0_PL1_EL1_0_0_s1000_r10_cI1.25_cB1000_e287_mm.mp4\"\n",
        "  f = \"D083020_06230200_0_F8_E12_G['LMO', 1, 1, 1]_['LMO', 1, 1, 1]_ST0_3_SZ0_0_2_1_P17_1_10_17_A0_0_C0_0_AN1.07_-1.76_MCTS_L1_R0.0_10.0_PL1_EL1_0_0_s1000_r10_cI1.25_cB1000_e348_mm.mp4\"\n",
        "  n = \"D082520_08100400_0_F8_E0_G['LMA', 0, 3, 1]_['LMO', 1, 0, 1]_ST2_3_SZ3_1_0_3_P17_3_7_11_A0_0_C0_0_AN4.62_-1.71_MCTS_L1_R0.0_0.0_PL1_EL1_0_0_s1000_r10_cI1.25_cB1000_e322_mm.mp4\"\n",
        "\n",
        "\n"
      ],
      "execution_count": null,
      "outputs": []
    },
    {
      "cell_type": "code",
      "metadata": {
        "id": "dMxq0Ap4eniw",
        "colab": {
          "base_uri": "https://localhost:8080/"
        },
        "outputId": "e2c62e69-ad24-43a4-a715-3b2fcb9944a2"
      },
      "source": [
        "human_responses = []\n",
        "for root, dirs, files, in os.walk(path):\n",
        "  for file in files:\n",
        "    if file.endswith(\".txt\"):\n",
        "      responses = []\n",
        "      with open(path + '/' + file, 'r') as my_file:\n",
        "        responses = my_file.readlines()\n",
        "      if len(responses)==24:\n",
        "        human_responses.append(responses)\n",
        "      else:\n",
        "        print(file, len(responses))"
      ],
      "execution_count": null,
      "outputs": [
        {
          "output_type": "stream",
          "name": "stdout",
          "text": [
            "5f136401b1f46a36f39a8c72_2021-08-15.txt 1\n",
            "6117983a794d330f8f905230_2021-08-16.txt 23\n",
            "61163dd00037529577b17551_2021-08-16.txt 17\n",
            "6118b6b55592b7d04247ff45_2021-08-21.txt 11\n",
            "611207a20c961cea9f8e7379_2021-08-21.txt 12\n",
            "61038275adbb6f53ae85b482_2021-08-21.txt 27\n",
            "610cd62bd64519087a99397d_2021-08-21.txt 21\n",
            "6108d6efa698e3dbe3b313d3_2021-08-21.txt 4\n",
            "6107860ee9d47b960ee68714_2021-08-21.txt 5\n",
            "611e34980e5e69f5236fa629_2021-08-21.txt 13\n",
            "6112c77c4cb58daede378463_2021-08-21.txt 19\n",
            "60ff00dfe728d14dfa568245_2021-08-21.txt 29\n",
            "61141a6f6fe3054620af1e8d_2021-08-21.txt 3\n",
            "60fcd0022b1085e2284339f4_2021-08-22.txt 23\n",
            "6118b6b55592b7d04247ff45_2021-08-22.txt 13\n",
            "610dcf369adaa0cfbc795ec5_2021-08-22.txt 23\n",
            "60ff7307eafb590bdc696a8f_2021-08-21.txt 1\n",
            "610cd62bd64519087a99397d_2021-08-22.txt 3\n",
            "61141a6f6fe3054620af1e8d_2021-08-22.txt 21\n",
            "6112c77c4cb58daede378463_2021-08-22.txt 5\n",
            "5f8051b402daee04b8108440_2021-09-06.txt 5\n",
            "60fcd0022b1085e2284339f4_2021-08-21.txt 1\n",
            "60ff7307eafb590bdc696a8f_2021-08-22.txt 23\n",
            "611207a20c961cea9f8e7379_2021-08-22.txt 12\n",
            "611e34980e5e69f5236fa629_2021-08-22.txt 11\n",
            "610dcf369adaa0cfbc795ec5_2021-08-21.txt 1\n",
            "61071fd777b179d8bc84ed3f_2021-09-06.txt 25\n",
            "5f522c40069004482b3af322_2021-09-06.txt 3\n",
            "612687a5a3c9d923c4050e47_2021-09-06.txt 25\n",
            "5b3b5f13dd6af000014d2a68_2021-09-08.txt 25\n",
            "6132cc58d1dcc24bcdb61606_2021-09-15.txt 26\n",
            "5f1a93900aff791b8c4444f5_2021-09-15.txt 5\n"
          ]
        }
      ]
    },
    {
      "cell_type": "code",
      "metadata": {
        "id": "A3h4SlW3vjQ6"
      },
      "source": [
        "def reject_exampleVideoBased(subject, example_videos = {}):\n",
        "  reject_flag = 0\n",
        "  demographic_info = ast.literal_eval(subject[0])\n",
        "  for response_no in range(1,len(subject)):\n",
        "    entry_txt = ast.literal_eval(subject[response_no])\n",
        "    entry = {}\n",
        "    for x,y in entry_txt:\n",
        "      entry[x] = y\n",
        "\n",
        "    if entry[\"video_name\"]== example_videos['adversarial']:\n",
        "      a_check.append(entry[\"likert_response\"])\n",
        "      if entry[\"likert_response\"]!=\"adversarial\":\n",
        "        #print(\"a\",entry['subjectID'], entry['likert_response'])\n",
        "        reject_flag = 1\n",
        "    \n",
        "    if entry[\"video_name\"]== example_videos['friendly']:\n",
        "      f_check.append(entry[\"likert_response\"])\n",
        "      if entry[\"likert_response\"]!=\"friendly\":\n",
        "        #print(\"f\",entry['subjectID'], entry['likert_response'])\n",
        "        reject_flag = 1\n",
        "\n",
        "    if entry[\"video_name\"]== example_videos['neutral']:\n",
        "      n_check.append(entry[\"likert_response\"])\n",
        "      if entry[\"likert_response\"]!=\"neutral\":\n",
        "        #print(\"n\",entry['subjectID'], entry['likert_response'])\n",
        "        reject_flag = 1\n",
        "\n",
        "  return reject_flag"
      ],
      "execution_count": null,
      "outputs": []
    },
    {
      "cell_type": "code",
      "metadata": {
        "id": "fHmACMoQjKRr",
        "colab": {
          "base_uri": "https://localhost:8080/"
        },
        "outputId": "24765570-029b-4b2b-a409-0d9dc8a7856c"
      },
      "source": [
        "import ast\n",
        "\n",
        "a_check = []\n",
        "f_check = []\n",
        "n_check = []\n",
        "\n",
        "no_subjects_to_reject_exampleVideoBased = 0\n",
        "for subject in human_responses:\n",
        "  reject_flag = reject_exampleVideoBased(subject, example_videos= {\"adversarial\": a, \"friendly\":f, \"neutral\":n})\n",
        "    \n",
        "  if reject_flag == 1:\n",
        "    no_subjects_to_reject_exampleVideoBased += 1\n",
        "\n",
        "print(n_check)\n",
        "print(f_check)\n",
        "print(a_check)\n",
        "from collections import Counter\n",
        "print(Counter(n_check))\n",
        "print(Counter(f_check))\n",
        "print(Counter(a_check))\n",
        "\n",
        "print(\"No. of subjects to be rejected: \", no_subjects_to_reject_exampleVideoBased)"
      ],
      "execution_count": null,
      "outputs": [
        {
          "output_type": "stream",
          "name": "stdout",
          "text": [
            "['neutral', 'neutral', 'neutral', 'neutral', 'neutral', 'neutral', 'neutral', 'neutral', 'neutral', 'neutral', 'neutral', 'neutral', 'neutral', 'neutral', 'neutral', 'adversarial', 'neutral', 'neutral', 'neutral', 'neutral', 'neutral', 'neutral', 'friendly', 'neutral', 'neutral', 'neutral', 'neutral', 'neutral', 'neutral', 'neutral', 'adversarial', 'neutral', 'neutral', 'neutral', 'neutral', 'neutral', 'neutral', 'neutral', 'neutral', 'neutral', 'neutral', 'neutral', 'neutral', 'neutral', 'neutral', 'neutral', 'neutral', 'neutral', 'neutral', 'neutral', 'neutral', 'adversarial', 'neutral', 'neutral', 'neutral', 'adversarial', 'neutral', 'neutral', 'neutral', 'neutral', 'neutral', 'adversarial', 'neutral', 'neutral', 'neutral', 'neutral', 'neutral', 'neutral', 'neutral', 'neutral', 'neutral', 'neutral', 'neutral', 'neutral', 'neutral', 'neutral', 'neutral', 'neutral', 'neutral', 'neutral', 'neutral', 'neutral', 'neutral', 'adversarial', 'neutral', 'neutral', 'neutral', 'neutral', 'neutral', 'neutral', 'neutral', 'neutral', 'adversarial', 'neutral', 'neutral', 'neutral', 'neutral', 'friendly', 'neutral', 'neutral', 'adversarial', 'neutral', 'neutral', 'neutral', 'neutral', 'neutral', 'neutral', 'neutral', 'neutral', 'neutral', 'neutral', 'neutral', 'neutral', 'neutral', 'neutral', 'neutral', 'neutral', 'neutral', 'neutral', 'neutral', 'neutral', 'neutral', 'neutral', 'neutral', 'neutral', 'neutral', 'neutral', 'neutral', 'neutral', 'neutral', 'neutral', 'adversarial', 'neutral', 'neutral', 'neutral', 'neutral', 'neutral', 'neutral', 'neutral', 'neutral', 'neutral', 'neutral', 'adversarial', 'neutral', 'neutral', 'neutral', 'neutral', 'neutral', 'neutral', 'neutral', 'neutral', 'neutral', 'neutral', 'neutral', 'neutral', 'neutral', 'neutral', 'neutral', 'adversarial', 'neutral', 'neutral', 'neutral', 'neutral', 'neutral', 'neutral', 'neutral', 'neutral', 'neutral', 'friendly', 'neutral', 'neutral', 'neutral', 'neutral', 'neutral', 'neutral', 'neutral', 'neutral', 'neutral', 'neutral', 'neutral', 'neutral', 'neutral', 'neutral', 'neutral', 'neutral', 'neutral', 'neutral', 'adversarial', 'neutral', 'neutral', 'neutral', 'neutral', 'neutral', 'neutral', 'neutral', 'neutral', 'adversarial', 'neutral', 'neutral', 'neutral', 'neutral', 'neutral', 'friendly', 'neutral', 'neutral', 'neutral', 'neutral', 'neutral', 'neutral', 'neutral', 'neutral', 'neutral', 'neutral', 'neutral', 'neutral', 'neutral', 'neutral', 'neutral', 'neutral', 'neutral', 'neutral', 'neutral', 'neutral', 'neutral', 'neutral', 'neutral', 'neutral', 'neutral', 'neutral', 'neutral', 'neutral', 'neutral', 'neutral', 'neutral', 'neutral', 'neutral', 'neutral', 'neutral', 'neutral', 'neutral', 'adversarial', 'neutral', 'neutral', 'neutral', 'neutral', 'neutral', 'neutral', 'neutral', 'neutral', 'neutral', 'neutral', 'neutral', 'neutral', 'neutral', 'neutral', 'neutral', 'neutral', 'neutral', 'neutral', 'neutral', 'neutral', 'neutral', 'neutral', 'neutral', 'neutral', 'neutral', 'adversarial', 'neutral', 'neutral', 'neutral', 'neutral', 'neutral', 'neutral', 'neutral', 'neutral', 'neutral', 'neutral', 'neutral', 'neutral', 'neutral', 'neutral', 'neutral', 'neutral', 'neutral', 'neutral', 'neutral', 'neutral', 'neutral', 'neutral', 'neutral', 'neutral', 'neutral', 'neutral', 'neutral', 'neutral', 'neutral', 'neutral', 'neutral']\n",
            "['friendly', 'friendly', 'friendly', 'friendly', 'friendly', 'adversarial', 'friendly', 'adversarial', 'friendly', 'friendly', 'friendly', 'friendly', 'friendly', 'friendly', 'friendly', 'friendly', 'friendly', 'friendly', 'friendly', 'friendly', 'adversarial', 'friendly', 'friendly', 'friendly', 'friendly', 'friendly', 'friendly', 'friendly', 'friendly', 'friendly', 'friendly', 'friendly', 'friendly', 'friendly', 'friendly', 'friendly', 'friendly', 'friendly', 'adversarial', 'friendly', 'friendly', 'friendly', 'friendly', 'adversarial', 'friendly', 'friendly', 'friendly', 'friendly', 'friendly', 'friendly', 'friendly', 'neutral', 'friendly', 'adversarial', 'friendly', 'friendly', 'friendly', 'friendly', 'friendly', 'friendly', 'friendly', 'friendly', 'adversarial', 'friendly', 'friendly', 'adversarial', 'adversarial', 'friendly', 'friendly', 'friendly', 'adversarial', 'friendly', 'friendly', 'friendly', 'friendly', 'friendly', 'friendly', 'adversarial', 'friendly', 'friendly', 'friendly', 'friendly', 'friendly', 'friendly', 'friendly', 'friendly', 'friendly', 'friendly', 'friendly', 'friendly', 'friendly', 'adversarial', 'friendly', 'friendly', 'friendly', 'friendly', 'friendly', 'neutral', 'friendly', 'friendly', 'neutral', 'friendly', 'friendly', 'friendly', 'adversarial', 'friendly', 'neutral', 'friendly', 'friendly', 'friendly', 'friendly', 'friendly', 'friendly', 'friendly', 'friendly', 'friendly', 'friendly', 'friendly', 'friendly', 'friendly', 'friendly', 'friendly', 'friendly', 'friendly', 'friendly', 'adversarial', 'friendly', 'adversarial', 'friendly', 'friendly', 'friendly', 'friendly', 'friendly', 'friendly', 'friendly', 'friendly', 'friendly', 'friendly', 'friendly', 'friendly', 'friendly', 'friendly', 'friendly', 'friendly', 'friendly', 'friendly', 'friendly', 'friendly', 'friendly', 'friendly', 'friendly', 'friendly', 'friendly', 'friendly', 'friendly', 'friendly', 'friendly', 'friendly', 'adversarial', 'friendly', 'friendly', 'friendly', 'friendly', 'friendly', 'adversarial', 'friendly', 'friendly', 'friendly', 'friendly', 'friendly', 'friendly', 'friendly', 'adversarial', 'friendly', 'friendly', 'friendly', 'friendly', 'friendly', 'friendly', 'adversarial', 'adversarial', 'friendly', 'friendly', 'friendly', 'friendly', 'friendly', 'friendly', 'neutral', 'friendly', 'friendly', 'adversarial', 'friendly', 'friendly', 'friendly', 'friendly', 'friendly', 'friendly', 'friendly', 'friendly', 'neutral', 'friendly', 'adversarial', 'adversarial', 'friendly', 'friendly', 'friendly', 'friendly', 'friendly', 'friendly', 'friendly', 'friendly', 'friendly', 'friendly', 'friendly', 'friendly', 'friendly', 'friendly', 'friendly', 'friendly', 'friendly', 'friendly', 'friendly', 'friendly', 'friendly', 'friendly', 'adversarial', 'adversarial', 'friendly', 'neutral', 'friendly', 'friendly', 'friendly', 'neutral', 'friendly', 'friendly', 'friendly', 'friendly', 'friendly', 'friendly', 'friendly', 'friendly', 'friendly', 'friendly', 'friendly', 'adversarial', 'friendly', 'adversarial', 'friendly', 'friendly', 'friendly', 'friendly', 'friendly', 'friendly', 'friendly', 'friendly', 'friendly', 'friendly', 'friendly', 'adversarial', 'friendly', 'friendly', 'friendly', 'friendly', 'friendly', 'friendly', 'friendly', 'friendly', 'friendly', 'friendly', 'friendly', 'friendly', 'friendly', 'friendly', 'friendly', 'friendly', 'friendly', 'friendly', 'friendly', 'friendly', 'friendly', 'friendly', 'friendly', 'friendly', 'friendly', 'friendly', 'adversarial', 'friendly', 'friendly', 'friendly', 'friendly', 'friendly', 'friendly', 'friendly', 'friendly', 'friendly', 'friendly', 'friendly', 'friendly']\n",
            "['adversarial', 'adversarial', 'adversarial', 'adversarial', 'adversarial', 'adversarial', 'adversarial', 'adversarial', 'adversarial', 'neutral', 'adversarial', 'adversarial', 'adversarial', 'adversarial', 'adversarial', 'adversarial', 'adversarial', 'adversarial', 'adversarial', 'friendly', 'adversarial', 'friendly', 'neutral', 'adversarial', 'adversarial', 'adversarial', 'adversarial', 'adversarial', 'adversarial', 'adversarial', 'neutral', 'adversarial', 'adversarial', 'adversarial', 'adversarial', 'adversarial', 'adversarial', 'adversarial', 'adversarial', 'adversarial', 'adversarial', 'adversarial', 'adversarial', 'adversarial', 'adversarial', 'adversarial', 'adversarial', 'adversarial', 'adversarial', 'adversarial', 'adversarial', 'adversarial', 'adversarial', 'adversarial', 'adversarial', 'adversarial', 'adversarial', 'adversarial', 'adversarial', 'adversarial', 'adversarial', 'adversarial', 'adversarial', 'adversarial', 'adversarial', 'adversarial', 'adversarial', 'adversarial', 'adversarial', 'adversarial', 'neutral', 'adversarial', 'adversarial', 'adversarial', 'adversarial', 'adversarial', 'adversarial', 'adversarial', 'adversarial', 'adversarial', 'adversarial', 'adversarial', 'adversarial', 'friendly', 'adversarial', 'adversarial', 'adversarial', 'adversarial', 'adversarial', 'adversarial', 'adversarial', 'adversarial', 'adversarial', 'adversarial', 'neutral', 'adversarial', 'adversarial', 'adversarial', 'adversarial', 'adversarial', 'neutral', 'friendly', 'adversarial', 'adversarial', 'friendly', 'adversarial', 'neutral', 'adversarial', 'adversarial', 'adversarial', 'adversarial', 'adversarial', 'adversarial', 'adversarial', 'adversarial', 'adversarial', 'adversarial', 'adversarial', 'adversarial', 'adversarial', 'adversarial', 'adversarial', 'adversarial', 'adversarial', 'adversarial', 'adversarial', 'adversarial', 'adversarial', 'adversarial', 'adversarial', 'adversarial', 'friendly', 'adversarial', 'adversarial', 'adversarial', 'adversarial', 'adversarial', 'neutral', 'adversarial', 'adversarial', 'adversarial', 'adversarial', 'adversarial', 'adversarial', 'adversarial', 'adversarial', 'adversarial', 'adversarial', 'adversarial', 'adversarial', 'adversarial', 'adversarial', 'adversarial', 'adversarial', 'adversarial', 'adversarial', 'adversarial', 'adversarial', 'friendly', 'adversarial', 'adversarial', 'adversarial', 'adversarial', 'adversarial', 'adversarial', 'adversarial', 'adversarial', 'adversarial', 'adversarial', 'adversarial', 'adversarial', 'adversarial', 'adversarial', 'friendly', 'adversarial', 'adversarial', 'adversarial', 'adversarial', 'adversarial', 'adversarial', 'adversarial', 'adversarial', 'adversarial', 'adversarial', 'adversarial', 'adversarial', 'adversarial', 'adversarial', 'adversarial', 'adversarial', 'adversarial', 'adversarial', 'adversarial', 'adversarial', 'adversarial', 'adversarial', 'friendly', 'adversarial', 'adversarial', 'adversarial', 'adversarial', 'adversarial', 'adversarial', 'adversarial', 'adversarial', 'adversarial', 'adversarial', 'adversarial', 'adversarial', 'adversarial', 'adversarial', 'adversarial', 'adversarial', 'adversarial', 'adversarial', 'adversarial', 'adversarial', 'adversarial', 'adversarial', 'adversarial', 'adversarial', 'adversarial', 'adversarial', 'adversarial', 'adversarial', 'adversarial', 'adversarial', 'adversarial', 'adversarial', 'adversarial', 'adversarial', 'adversarial', 'adversarial', 'adversarial', 'adversarial', 'adversarial', 'adversarial', 'adversarial', 'adversarial', 'adversarial', 'friendly', 'adversarial', 'adversarial', 'adversarial', 'adversarial', 'adversarial', 'adversarial', 'adversarial', 'adversarial', 'adversarial', 'adversarial', 'adversarial', 'adversarial', 'adversarial', 'adversarial', 'adversarial', 'adversarial', 'adversarial', 'adversarial', 'adversarial', 'adversarial', 'adversarial', 'adversarial', 'adversarial', 'adversarial', 'adversarial', 'adversarial', 'adversarial', 'adversarial', 'adversarial', 'adversarial', 'adversarial', 'adversarial', 'adversarial', 'adversarial', 'adversarial', 'adversarial', 'adversarial', 'adversarial', 'adversarial', 'adversarial', 'adversarial', 'adversarial', 'adversarial', 'adversarial', 'adversarial', 'adversarial', 'adversarial', 'adversarial', 'adversarial', 'adversarial', 'adversarial', 'adversarial', 'adversarial', 'adversarial', 'adversarial', 'adversarial', 'adversarial']\n",
            "Counter({'neutral': 279, 'adversarial': 15, 'friendly': 4})\n",
            "Counter({'friendly': 261, 'adversarial': 29, 'neutral': 8})\n",
            "Counter({'adversarial': 280, 'friendly': 10, 'neutral': 8})\n",
            "No. of subjects to be rejected:  57\n"
          ]
        }
      ]
    },
    {
      "cell_type": "code",
      "metadata": {
        "colab": {
          "base_uri": "https://localhost:8080/",
          "height": 884
        },
        "id": "L8cfYN6dZwV3",
        "outputId": "00d0c9ba-9233-44b0-d70e-647f413cde09"
      },
      "source": [
        "import pandas as pd\n",
        "import scipy\n",
        "import numpy as np\n",
        "print(\"No. of (complete) Human Responses \", len(human_responses))\n",
        "\n",
        "data_filtered = {'videos':[], 'relationship':[]}\n",
        "demographics = {'age':[], 'gender':[], 'ethnicity':[]}\n",
        "\n",
        "for subject in human_responses:\n",
        "  demographic_info = ast.literal_eval(subject[0])\n",
        "  info = {}\n",
        "  for x in demographic_info:\n",
        "    info[x[0]] = x[1]\n",
        "  demographics['age'].append(int(info['age']))\n",
        "  demographics['gender'].append(info['gender'])\n",
        "  demographics['ethnicity'].append(info['ethnicity'])\n",
        "\n",
        "  if reject_exampleVideoBased(subject, example_videos= {\"adversarial\": a, \"friendly\":f, \"neutral\":n}) == 1:\n",
        "    continue\n",
        "\n",
        "  for response_no in range(1,len(subject)):\n",
        "    entry_txt = ast.literal_eval(subject[response_no])\n",
        "    entry = {}\n",
        "    for x,y in entry_txt:\n",
        "      entry[x] = y\n",
        "\n",
        "    data_filtered['videos'].append(entry[\"video_name\"])\n",
        "    data_filtered['relationship'].append(entry[\"likert_response\"])\n",
        "\n",
        "print(Counter(data_filtered['relationship']))\n",
        "print(Counter(data_filtered['videos']))\n",
        "print(Counter(demographics['ethnicity']))\n",
        "print(Counter(demographics['gender']))\n",
        "print(min(demographics['age']), max(demographics['age']), np.mean(demographics['age']))\n",
        "\n",
        "data = pd.DataFrame(data_filtered)\n",
        "\n",
        "\n",
        "HR = data.groupby(by='videos').agg(lambda x: Counter(x))\n",
        "#HR.index = HR.index.str[:14]\n",
        "display(HR)\n",
        "\n",
        "''' for range of no. of raters per video\n",
        "HR = data.groupby(by='videos').agg(lambda x: len(x))\n",
        "import numpy as np\n",
        "x = sorted(HR['relationship'])[:-3]\n",
        "print(sorted(x))\n",
        "print(min(x), max(x), len(x), np.median(x))\n",
        "'''"
      ],
      "execution_count": null,
      "outputs": [
        {
          "output_type": "stream",
          "name": "stdout",
          "text": [
            "No. of (complete) Human Responses  298\n",
            "Counter({'friendly': 2133, 'adversarial': 1924, 'neutral': 1486})\n",
            "Counter({\"D081920_1135270_0_F8_E13.2_G['LMO', 0, 3, 1]_['LMO', 0, 3, 1]_ST2_2_SZ0_0_0_3_P7_15_16_17_A0_0_C0_0_AN-6.08_5.6_MCTS_L100_R0.0_0.0_PL1_EL1_0_0_s1000_r10_cI1.25_cB1000_e10_mm.mp4\": 241, \"D082920_2343080_0_F8_E4_G['LMA', 0, 1, 1]_['LMA', 1, 3, 1]_ST3_2_SZ3_0_3_3_P7_5_14_1_A0_0_C0_0_AN-3.09_-0.6_MCTS_L100_R0.0_0.0_PL1_EL1_0_0_s1000_r10_cI1.25_cB1000_e13_mm.mp4\": 241, \"D082120_2101060_0_F8_E12.1_G['LMA', 0, 0, 1]_['LMA', 0, 0, -1]_ST1_3_SZ0_0_3_0_P13_0_6_10_A0_0_C0_0_AN-3.45_1.43_MCTS_L100_R0.0_-10.0_PL1_EL1_0_0_s1000_r10_cI1.25_cB1000_e92_mm.mp4\": 241, \"D082920_03052000_0_F8_E8_G['LMO', 1, 2, 1]_['LMO', 0, 3, 1]_ST3_2_SZ0_3_2_0_P11_12_4_14_A0_0_C0_0_AN-5.67_-5.13_MCTS_L8_R0.0_0.0_PL1_EL1_0_0_s1000_r10_cI1.25_cB1000_e226.mp4\": 15, \"D120320_08110800_0_F8_E21_G['LMO', 1, 2, 1]_['LMO', 1, 2, 1]_ST1_1_SZ1_0_2_0_P17_5_6_4_A0_0_C0_0_AN2.63_2.45_MCTS_L1_R0.0_0.0_PL1_EL1_0_0_s1000_r10_cI1.25_cB1000_e9.mp4\": 15, \"D083020_03153400_0_F8_E10_G['LMO', 0, 0, -1]_['LMO', 0, 0, 1]_ST1_2_SZ0_0_0_2_P4_11_7_15_A0_0_C0_0_AN3.48_5.96_MCTS_L1_R-10.0_0.0_PL1_EL1_0_0_s1000_r10_cI1.25_cB1000_e221.mp4\": 15, \"D083120_06431400_0_F8_E17_G['TE', 1, 0, -1]_['TE', 1, 0, 1]_ST3_2_SZ3_3_0_3_P17_12_6_13_A0_0_C0_0_AN4.31_-0.51_MCTS_L1_R-10.0_0.0_PL1_EL1_0_0_s1000_r10_cI1.25_cB1000_e303.mp4\": 15, \"D083120_08300300_0_F8_E12_G['LMO', 0, 0, 1]_['LMO', 0, 0, -1]_ST2_2_SZ0_1_0_3_P0_11_4_11_A0_0_C0_0_AN-0.25_-2.27_MCTS_L1_R0.0_-10.0_PL1_EL1_0_0_s1000_r10_cI1.25_cB1000_e396.mp4\": 15, \"D083020_18535800_0_F8_E14_G['LMO', 1, 0, 1]_['LMO', 0, 0, 1]_ST1_2_SZ0_0_0_0_P7_17_7_3_A0_0_C0_0_AN3.42_-1.42_MCTS_L1_R0.0_0.0_PL1_EL1_0_0_s1000_r10_cI1.25_cB1000_e216.mp4\": 15, \"D120520_10403000_0_F8_E13_G['LMO', 0, 2, 1]_['LMO', 0, 2, 1]_ST2_1_SZ2_0_0_2_P17_11_15_14_A0_0_C0_0_AN2.34_-5.59_MCTS_L1_R0.0_10.0_PL1_EL1_0_0_s1000_r10_cI1.25_cB1000_e59.mp4\": 15, \"D083020_13132300_0_F8_E16_G['LMO', 1, 3, 1]_['LMO', 1, 3, 1]_ST1_0_SZ0_0_3_2_P14_7_10_6_A0_0_C0_0_AN1.73_1.67_MCTS_L1_R10.0_0.0_PL1_EL1_0_0_s1000_r10_cI1.25_cB1000_e195.mp4\": 15, \"D082520_02514200_0_F8_E0_G['LMO', 0, 1, 1]_['LMO', 1, 0, 1]_ST3_3_SZ0_0_3_1_P13_1_7_4_A0_0_C0_0_AN-2.4_-0.34_MCTS_L1_R0.0_0.0_PL1_EL1_0_0_s1000_r10_cI1.25_cB1000_e73.mp4\": 15, \"D082020_23552100_0_F8_E12_G['LMO', 1, 3, 1]_['LMO', 1, 3, 1]_ST1_1_SZ0_0_3_1_P13_4_17_14_A0_0_C0_0_AN5.79_3.76_MCTS_L1_R0.0_0.0_PL1_EL1_0_0_s1000_r10_cI1.25_cB1000_e165.mp4\": 15, \"D082720_22445700_0_F8_E4_G['LMO', 0, 0, 1]_['LMA', 1, 3, 1]_ST1_3_SZ0_0_0_0_P1_6_4_6_A0_0_C0_0_AN2.38_5.21_MCTS_L6_R0.0_0.0_PL1_EL1_0_0_s1000_r10_cI1.25_cB1000_e243.mp4\": 15, \"D082120_00440100_0_F8_E12_G['LMO', 1, 3, 1]_['LMO', 1, 3, 1]_ST1_1_SZ0_0_3_1_P4_13_17_14_A0_0_C0_0_AN3.76_5.79_MCTS_L1_R0.0_0.0_PL1_EL1_0_0_s1000_r10_cI1.25_cB1000_e9.mp4\": 15, \"D083120_08213200_0_F8_E2_G['LMA', 0, 1, 1]_['LMA', 0, 1, -1]_ST1_3_SZ0_1_0_1_P7_14_16_0_A0_0_C0_0_AN4.66_2.95_MCTS_L1_R0.0_-10.0_PL1_EL1_0_0_s1000_r10_cI1.25_cB1000_e59.mp4\": 15, \"D090220_04115200_0_F8_E10_G['LMO', 0, 0, 1]_['LMO', 0, 2, 1]_ST1_3_SZ0_3_0_2_P4_7_15_6_A0_0_C0_0_AN5.58_-2.15_MCTS_L1_R0.0_0.0_PL1_EL1_0_0_s1000_r10_cI1.25_cB1000_e323.mp4\": 15, \"D090220_19442100_0_F8_E4_G['LMO', 1, 2, 1]_['LMO', 1, 3, 1]_ST3_3_SZ0_0_1_0_P17_12_15_10_A0_0_C0_0_AN-3.33_-0.19_MCTS_L1_R0.0_0.0_PL1_EL1_0_0_s1000_r10_cI1.25_cB1000_e92.mp4\": 15, \"D082220_09440400_0_F8_E0_G['LMO', 0, 0, 1]_['LMO', 0, 0, 1]_ST0_2_SZ0_0_0_0_P7_10_6_15_A0_0_C0_0_AN3.24_-1.19_MCTS_L1_R0.0_0.0_PL1_EL1_0_0_s1000_r10_cI1.25_cB1000_e28.mp4\": 15, \"D082520_05091400_0_F8_E0_G['LMO', 0, 3, 1]_['LMO', 1, 2, 1]_ST0_0_SZ3_0_3_0_P6_10_1_11_A0_0_C0_0_AN-2.42_1.23_MCTS_L1_R0.0_0.0_PL1_EL1_0_0_s1000_r10_cI1.25_cB1000_e31.mp4\": 15, \"D081920_18344600_0_F8_E4_G['LMA', 1, 2, -1]_['LMA', 1, 2, 1]_ST2_1_SZ3_3_0_0_P3_16_2_13_A0_0_C0_0_AN0.49_4.5_MCTS_L1_R-10.0_0.0_PL1_EL1_0_0_s1000_r10_cI1.25_cB1000_e15.mp4\": 15, \"D082520_01373500_0_F8_E0_G['LMA', 0, 2, 1]_['LMA', 1, 2, 1]_ST0_1_SZ3_0_1_1_P0_14_5_16_A0_0_C0_0_AN0.77_1.28_MCTS_L1_R0.0_0.0_PL1_EL1_0_0_s1000_r10_cI1.25_cB1000_e321.mp4\": 15, \"D082120_21451600_0_F8_E19_G['LMO', 1, 0, 1]_['LMO', 1, 0, 1]_ST1_1_SZ3_3_0_0_P15_0_2_11_A0_0_C0_0_AN-0.07_-5.47_MCTS_L1_R10.0_0.0_PL1_EL1_0_0_s1000_r10_cI1.25_cB1000_e391.mp4\": 15, \"D082220_12292900_0_F8_E10_G['LMA', 0, 1, 1]_['LMA', 0, 1, 1]_ST1_3_SZ0_3_0_2_P0_12_11_16_A0_0_C0_0_AN4.55_5.05_MCTS_L1_R0.0_10.0_PL1_EL1_0_0_s1000_r10_cI1.25_cB1000_e17.mp4\": 14, \"D083020_09162500_0_F8_E14_G['TE', 0, 1, 1]_['TE', 0, 1, -1]_ST3_2_SZ0_0_2_3_P10_17_7_4_A0_0_C0_0_AN-4.66_-4.57_MCTS_L1_R0.0_-10.0_PL1_EL1_0_0_s1000_r10_cI1.25_cB1000_e253.mp4\": 14, \"D083120_13145000_0_F8_E12_G['LMO', 0, 2, -1]_['LMO', 0, 2, 1]_ST3_3_SZ0_0_0_1_P11_2_2_16_A0_0_C0_0_AN-2.46_-4.82_MCTS_L1_R-10.0_0.0_PL1_EL1_0_0_s1000_r10_cI1.25_cB1000_e86.mp4\": 14, \"D090220_14535700_0_F8_E10_G['LMO', 1, 2, 1]_['LMO', 1, 3, 1]_ST3_3_SZ0_3_3_2_P0_11_17_12_A0_0_C0_0_AN-2.4_0.96_MCTS_L1_R0.0_0.0_PL1_EL1_0_0_s1000_r10_cI1.25_cB1000_e67.mp4\": 14, \"D082320_03250700_0_F8_E17_G['LMA', 1, 0, 1]_['LMA', 1, 0, 1]_ST3_1_SZ1_0_2_3_P10_11_1_7_A0_0_C0_0_AN0.23_-5.64_MCTS_L1_R10.0_0.0_PL1_EL1_0_0_s1000_r10_cI1.25_cB1000_e26.mp4\": 14, \"D082820_11092500_0_F8_E18_G['LMO', 1, 3, 1]_['LMO', 1, 3, 1]_ST3_0_SZ0_0_1_0_P3_11_0_6_A0_0_C0_0_AN0.61_-5.31_MCTS_L1_R0.0_0.0_PL1_EL1_0_0_s1000_r10_cI1.25_cB1000_e179.mp4\": 14, \"D083120_17512600_0_F8_E12_G['LMA', 0, 3, 1]_['LMA', 0, 3, -1]_ST3_3_SZ0_0_0_2_P16_13_11_7_A0_0_C0_0_AN2.64_2.49_MCTS_L1_R0.0_-10.0_PL1_EL1_0_0_s1000_r10_cI1.25_cB1000_e55.mp4\": 14, \"D082920_13390600_0_F8_E17_G['LMO', 0, 3, 1]_['LMO', 0, 1, 1]_ST2_3_SZ0_0_0_1_P2_2_0_15_A0_0_C0_0_AN-2.38_-3.85_MCTS_L1_R0.0_0.0_PL1_EL1_0_0_s1000_r10_cI1.25_cB1000_e341.mp4\": 14, \"D090120_21470000_0_F8_E15_G['LMO', 0, 1, 1]_['LMO', 0, 1, 1]_ST3_1_SZ2_2_0_1_P4_1_1_2_A0_0_C0_0_AN-3.27_-5.62_MCTS_L1_R0.0_10.0_PL1_EL1_0_0_s1000_r10_cI1.25_cB1000_e347.mp4\": 14, \"D082720_06182400_0_F8_E18_G['LMO', 1, 2, 1]_['LMO', 1, 2, 1]_ST0_2_SZ0_0_3_0_P1_13_2_14_A0_0_C0_0_AN-4.37_4.87_MCTS_L1_R0.0_0.0_PL1_EL1_0_0_s1000_r10_cI1.25_cB1000_e361.mp4\": 14, \"D121020_21252600_0_F8_E0_G['LMO', 0, 0, 1]_['LMO', 0, 0, 1]_ST0_2_SZ0_1_0_2_P15_0_2_4_A0_0_C0_0_AN3.41_5.52_MCTS_L1_R0.0_10.0_PL1_EL1_0_0_s1000_r10_cI1.25_cB1000_e50.mp4\": 14, \"D082820_03122700_0_F8_E21_G['LMA', 0, 0, 1]_['LMA', 1, 2, 1]_ST3_2_SZ0_0_3_2_P16_12_4_10_A0_0_C0_0_AN-4.91_-1.7_MCTS_L6_R0.0_0.0_PL1_EL1_0_0_s1000_r10_cI1.25_cB1000_e270.mp4\": 14, \"D090220_10483600_0_F8_E7_G['LMO', 1, 3, 1]_['LMO', 1, 1, 1]_ST2_1_SZ0_0_2_0_P1_17_12_14_A0_0_C0_0_AN-4.88_5.49_MCTS_L1_R0.0_0.0_PL1_EL1_0_0_s1000_r10_cI1.25_cB1000_e76.mp4\": 14, \"D113020_01474400_0_F8_E0_G['LMO', 1, 3, 1]_['LMO', 1, 3, 1]_ST0_2_SZ0_3_3_3_P5_3_0_16_A0_0_C0_0_AN-5.11_-5.28_MCTS_L1_R0.0_10.0_PL1_EL1_0_0_s1000_r10_cI1.25_cB1000_e65.mp4\": 14, \"D121020_20062900_0_F8_E0_G['LMO', 0, 1, 1]_['LMO', 0, 1, 1]_ST2_0_SZ0_0_2_1_P16_15_11_7_A0_0_C0_0_AN4.69_6.17_MCTS_L1_R10.0_0.0_PL1_EL1_0_0_s1000_r10_cI1.25_cB1000_e61.mp4\": 14, \"D083020_19492800_0_F8_E8_G['LMO', 1, 0, 1]_['LMO', 1, 0, 1]_ST3_1_SZ2_2_3_0_P1_2_7_2_A0_0_C0_0_AN2.43_1.15_MCTS_L1_R0.0_10.0_PL1_EL1_0_0_s1000_r10_cI1.25_cB1000_e205.mp4\": 14, \"D083020_18491800_0_F8_E7_G['LMA', 0, 2, 1]_['LMO', 1, 1, 1]_ST2_1_SZ1_3_3_0_P11_4_4_3_A0_0_C0_0_AN5.48_0.94_MCTS_L8_R0.0_0.0_PL1_EL1_0_0_s1000_r10_cI1.25_cB1000_e109.mp4\": 14, \"D120220_05212800_0_F8_E4_G['LMO', 0, 3, 1]_['LMO', 0, 3, 1]_ST3_1_SZ1_1_0_0_P3_10_14_7_A0_0_C0_0_AN0.6_-0.94_MCTS_L1_R0.0_0.0_PL1_EL1_0_0_s1000_r10_cI1.25_cB1000_e12.mp4\": 14, \"D082420_11053900_0_F8_E10_G['LMA', 0, 1, 1]_['LMA', 0, 1, -1]_ST0_3_SZ0_3_2_1_P10_4_16_11_A0_0_C0_0_AN-0.98_-2.46_MCTS_L1_R0.0_-10.0_PL1_EL1_0_0_s1000_r10_cI1.25_cB1000_e58.mp4\": 14, \"D082920_02191200_0_F8_E10_G['LMA', 0, 0, 1]_['LMA', 1, 1, 1]_ST0_1_SZ0_0_2_1_P12_1_2_11_A0_0_C0_0_AN-1.56_-4.49_MCTS_L8_R0.0_0.0_PL1_EL1_0_0_s1000_r10_cI1.25_cB1000_e215.mp4\": 14, \"D083020_13304100_0_F8_E2_G['LMO', 1, 3, 1]_['LMO', 1, 3, 1]_ST0_3_SZ0_2_0_2_P17_4_7_13_A0_0_C0_0_AN-2.87_5.53_MCTS_L1_R0.0_10.0_PL1_EL1_0_0_s1000_r10_cI1.25_cB1000_e327.mp4\": 14, \"D120320_14323200_0_F8_E4_G['LMO', 0, 3, 1]_['LMO', 0, 3, 1]_ST1_2_SZ3_2_0_1_P14_15_1_14_A0_0_C0_0_AN-0.96_5.69_MCTS_L1_R10.0_0.0_PL1_EL1_0_0_s1000_r10_cI1.25_cB1000_e27.mp4\": 14, \"D083120_09551600_0_F8_E17_G['LMA', 0, 2, 1]_['LMA', 0, 2, -1]_ST2_1_SZ1_0_3_0_P15_1_14_4_A0_0_C0_0_AN4.88_-5.53_MCTS_L1_R0.0_-10.0_PL1_EL1_0_0_s1000_r10_cI1.25_cB1000_e164.mp4\": 14, \"D090220_21204400_0_F8_E15_G['LMO', 0, 0, 1]_['LMO', 0, 3, 1]_ST3_3_SZ0_0_0_3_P15_5_5_11_A0_0_C0_0_AN0.25_-5.75_MCTS_L1_R0.0_0.0_PL1_EL1_0_0_s1000_r10_cI1.25_cB1000_e113.mp4\": 14, \"D082220_11242200_0_F8_E0_G['LMO', 1, 1, 1]_['LMO', 1, 1, 1]_ST1_0_SZ0_0_0_3_P12_3_11_15_A0_0_C0_0_AN1.44_-1.52_MCTS_L1_R0.0_0.0_PL1_EL1_0_0_s1000_r10_cI1.25_cB1000_e42.mp4\": 14, \"D083020_23074700_0_F8_E8_G['TE', 1, 0, -1]_['TE', 1, 0, 1]_ST3_1_SZ0_0_2_3_P1_15_17_7_A0_0_C0_0_AN5.92_-2.39_MCTS_L1_R-10.0_0.0_PL1_EL1_0_0_s1000_r10_cI1.25_cB1000_e364.mp4\": 14, \"D121020_20062800_0_F8_E12_G['LMO', 0, 1, 1]_['LMO', 0, 1, 1]_ST0_3_SZ0_0_0_1_P13_1_7_17_A0_0_C0_0_AN5.37_-5.36_MCTS_L1_R0.0_10.0_PL1_EL1_0_0_s1000_r10_cI1.25_cB1000_e69.mp4\": 14, \"D083020_10324000_0_F8_E2_G['LMO', 0, 3, 1]_['LMO', 0, 2, 1]_ST1_3_SZ3_0_0_2_P17_16_16_11_A0_0_C0_0_AN-3.51_3.88_MCTS_L1_R0.0_0.0_PL1_EL1_0_0_s1000_r10_cI1.25_cB1000_e227.mp4\": 14, \"D081820_16545200_0_F8_E2_G['LMA', 0, 1, 1]_['LMA', 0, 1, -1]_ST1_3_SZ0_1_0_1_P2_2_3_2_A0_0_C0_0_AN-1.91_-2.23_MCTS_L1_R0.0_-10.0_PL1_EL1_0_0_s1000_r10_cI1.25_cB1000_e314.mp4\": 14, \"D121120_14025400_0_F8_E21_G['LMO', 1, 2, 1]_['LMO', 1, 2, 1]_ST1_2_SZ1_1_3_0_P13_12_17_4_A0_0_C0_0_AN2.58_-3.58_MCTS_L1_R0.0_10.0_PL1_EL1_0_0_s1000_r10_cI1.25_cB1000_e71.mp4\": 14, \"D082720_08193100_0_F8_E18_G['LMO', 1, 1, 1]_['LMO', 1, 1, 1]_ST0_3_SZ0_0_1_0_P1_4_4_10_A0_0_C0_0_AN0.1_-5.58_MCTS_L1_R0.0_0.0_PL1_EL1_0_0_s1000_r10_cI1.25_cB1000_e351.mp4\": 14, \"D082420_20403800_0_F8_E21_G['LMO', 0, 2, 1]_['LMO', 0, 2, 1]_ST2_2_SZ0_1_0_3_P11_17_11_17_A0_0_C0_0_AN1.02_2.03_MCTS_L1_R10.0_0.0_PL1_EL1_0_0_s1000_r10_cI1.25_cB1000_e40.mp4\": 14, \"D083020_12301200_0_F8_E10_G['TE', 1, 0, -1]_['TE', 1, 0, 1]_ST1_3_SZ1_0_0_0_P4_3_10_6_A0_0_C0_0_AN5.57_-1.83_MCTS_L1_R-10.0_0.0_PL1_EL1_0_0_s1000_r10_cI1.25_cB1000_e307.mp4\": 14, \"D083020_19564500_0_F8_E17_G['LMA', 0, 3, 1]_['LMA', 1, 1, 1]_ST2_0_SZ2_1_3_1_P17_17_14_3_A0_0_C0_0_AN1.53_2.5_MCTS_L8_R0.0_0.0_PL1_EL1_0_0_s1000_r10_cI1.25_cB1000_e60.mp4\": 14, \"D082520_17305500_0_F8_E16_G['LMA', 0, 3, 1]_['LMA', 0, 3, -1]_ST2_1_SZ0_0_0_0_P12_0_2_16_A0_0_C0_0_AN-3.46_1.95_MCTS_L1_R0.0_-10.0_PL1_EL1_0_0_s1000_r10_cI1.25_cB1000_e269.mp4\": 14, \"D083020_19551800_0_F8_E14_G['LMA', 0, 2, 1]_['LMA', 1, 0, 1]_ST1_2_SZ0_0_0_1_P16_3_7_5_A0_0_C0_0_AN-1.26_2.11_MCTS_L1_R0.0_0.0_PL1_EL1_0_0_s1000_r10_cI1.25_cB1000_e250.mp4\": 14, \"D090220_09554800_0_F8_E21_G['TE', 0, 1, 1]_['TE', 0, 1, -1]_ST2_3_SZ0_0_2_0_P0_13_3_10_A0_0_C0_0_AN3.7_1.06_MCTS_L1_R0.0_-10.0_PL1_EL1_0_0_s1000_r10_cI1.25_cB1000_e14.mp4\": 14, \"D082220_20260000_0_F8_E4_G['LMO', 1, 3, 1]_['LMO', 1, 3, 1]_ST3_0_SZ3_0_3_1_P11_6_6_13_A0_0_C0_0_AN-0.79_1.74_MCTS_L1_R0.0_0.0_PL1_EL1_0_0_s1000_r10_cI1.25_cB1000_e369.mp4\": 14, \"D120120_03360500_0_F8_E14_G['LMO', 0, 3, 1]_['LMO', 0, 3, 1]_ST0_1_SZ0_0_0_0_P13_11_6_16_A0_0_C0_0_AN4.94_3.06_MCTS_L1_R0.0_10.0_PL1_EL1_0_0_s1000_r10_cI1.25_cB1000_e72.mp4\": 14, \"D082320_15374500_0_F8_E4_G['LMA', 1, 0, -1]_['LMA', 1, 0, 1]_ST3_1_SZ0_0_2_3_P14_15_1_3_A0_0_C0_0_AN4.87_-2.09_MCTS_L1_R-10.0_0.0_PL1_EL1_0_0_s1000_r10_cI1.25_cB1000_e302.mp4\": 14, \"D090120_02135600_0_F8_E2_G['TE', 0, 1, 1]_['TE', 0, 1, -1]_ST3_1_SZ1_0_2_0_P15_6_10_6_A0_0_C0_0_AN-0.77_-3.08_MCTS_L1_R0.0_-10.0_PL1_EL1_0_0_s1000_r10_cI1.25_cB1000_e240.mp4\": 13, \"D083020_03183100_0_F8_E9_G['TE', 1, 0, -1]_['TE', 1, 0, 1]_ST1_1_SZ1_0_3_0_P14_11_16_7_A0_0_C0_0_AN1.81_4.65_MCTS_L1_R-10.0_0.0_PL1_EL1_0_0_s1000_r10_cI1.25_cB1000_e355.mp4\": 13, \"D121120_20443200_0_F8_E6_G['LMO', 1, 3, 1]_['LMO', 1, 3, 1]_ST2_0_SZ2_0_2_3_P15_17_2_13_A0_0_C0_0_AN3.54_-3.24_MCTS_L1_R10.0_0.0_PL1_EL1_0_0_s1000_r10_cI1.25_cB1000_e2.mp4\": 13, \"D083020_06192700_0_F8_E20_G['TE', 0, 1, 1]_['TE', 0, 1, -1]_ST2_2_SZ0_0_1_3_P14_13_14_7_A0_0_C0_0_AN-4.71_1.86_MCTS_L1_R0.0_-10.0_PL1_EL1_0_0_s1000_r10_cI1.25_cB1000_e83.mp4\": 13, \"D082220_11030400_0_F8_E0_G['LMO', 0, 2, 1]_['LMO', 0, 2, 1]_ST2_0_SZ3_0_1_1_P0_12_12_7_A0_0_C0_0_AN-2.64_5.0_MCTS_L1_R0.0_0.0_PL1_EL1_0_0_s1000_r10_cI1.25_cB1000_e20.mp4\": 13, \"D083020_07440400_0_F8_E8_G['LMO', 1, 1, 1]_['LMO', 1, 0, 1]_ST1_1_SZ0_0_1_0_P1_16_6_13_A0_0_C0_0_AN2.95_-0.41_MCTS_L1_R0.0_0.0_PL1_EL1_0_0_s1000_r10_cI1.25_cB1000_e110.mp4\": 13, \"D121320_07145900_0_F8_E20_G['LMO', 0, 2, 1]_['LMO', 0, 2, 1]_ST1_1_SZ2_3_0_0_P11_17_3_17_A0_0_C0_0_AN-5.44_1.29_MCTS_L1_R10.0_0.0_PL1_EL1_0_0_s1000_r10_cI1.25_cB1000_e57.mp4\": 13, \"D082520_15190500_0_F8_E17_G['LMO', 0, 3, 1]_['LMO', 0, 3, 1]_ST3_0_SZ1_0_1_1_P12_6_6_4_A0_0_C0_0_AN5.58_-4.68_MCTS_L1_R0.0_0.0_PL1_EL1_0_0_s1000_r10_cI1.25_cB1000_e339.mp4\": 13, \"D121220_22361200_0_F8_E19_G['LMO', 0, 1, 1]_['LMO', 0, 1, 1]_ST2_0_SZ0_0_1_3_P14_6_13_1_A0_0_C0_0_AN1.51_-0.04_MCTS_L1_R10.0_0.0_PL1_EL1_0_0_s1000_r10_cI1.25_cB1000_e48.mp4\": 13, \"D083020_21114900_0_F8_E10_G['LMO', 1, 3, 1]_['LMO', 1, 3, 1]_ST3_3_SZ0_0_3_0_P7_7_11_0_A0_0_C0_0_AN-0.41_-6.15_MCTS_L1_R0.0_0.0_PL1_EL1_0_0_s1000_r10_cI1.25_cB1000_e144.mp4\": 13, \"D083120_18362600_0_F8_E20_G['LMO', 1, 0, 1]_['LMO', 1, 0, 1]_ST2_3_SZ2_2_2_0_P14_5_15_4_A0_0_C0_0_AN0.09_1.72_MCTS_L1_R0.0_10.0_PL1_EL1_0_0_s1000_r10_cI1.25_cB1000_e141.mp4\": 13, \"D082720_13432100_0_F8_E20_G['LMO', 0, 1, 1]_['LMA', 1, 3, 1]_ST2_1_SZ2_0_3_3_P13_16_7_16_A0_0_C0_0_AN-5.71_2.43_MCTS_L6_R0.0_0.0_PL1_EL1_0_0_s1000_r10_cI1.25_cB1000_e56.mp4\": 13, \"D090120_19142200_0_F8_E2_G['LMO', 1, 2, 1]_['LMO', 1, 1, 1]_ST3_1_SZ0_2_0_0_P1_7_11_1_A0_0_C0_0_AN-2.15_-1.99_MCTS_L1_R0.0_0.0_PL1_EL1_0_0_s1000_r10_cI1.25_cB1000_e187.mp4\": 13, \"D083020_03570700_0_F8_E18_G['LMA', 0, 2, 1]_['LMO', 0, 0, 1]_ST2_1_SZ0_0_0_3_P15_14_6_1_A0_0_C0_0_AN-6.05_-3.65_MCTS_L1_R0.0_0.0_PL1_EL1_0_0_s1000_r10_cI1.25_cB1000_e312.mp4\": 13, \"D083120_01302900_0_F8_E18_G['TE', 0, 1, 1]_['TE', 0, 1, -1]_ST1_2_SZ0_0_1_1_P4_3_7_4_A0_0_C0_0_AN4.31_-3.85_MCTS_L1_R0.0_-10.0_PL1_EL1_0_0_s1000_r10_cI1.25_cB1000_e196.mp4\": 13, \"D090220_06474000_0_F8_E12_G['TE', 0, 1, 1]_['TE', 0, 1, -1]_ST1_3_SZ1_2_0_3_P11_14_3_10_A0_0_C0_0_AN-1.05_-0.72_MCTS_L1_R0.0_-10.0_PL1_EL1_0_0_s1000_r10_cI1.25_cB1000_e160.mp4\": 13, \"D082420_17471900_0_F8_E12_G['LMA', 1, 2, -1]_['LMA', 1, 2, 1]_ST1_2_SZ0_0_1_3_P2_16_10_3_A0_0_C0_0_AN3.7_2.02_MCTS_L1_R-10.0_0.0_PL1_EL1_0_0_s1000_r10_cI1.25_cB1000_e46.mp4\": 13, \"D083120_09533600_0_F8_E14_G['TE', 0, 1, 1]_['TE', 0, 1, -1]_ST2_2_SZ0_0_3_1_P0_5_4_13_A0_0_C0_0_AN1.8_3.25_MCTS_L1_R0.0_-10.0_PL1_EL1_0_0_s1000_r10_cI1.25_cB1000_e338.mp4\": 13, \"D082620_01404600_0_F8_E0_G['LMA', 0, 2, 1]_['LMO', 1, 1, 1]_ST1_0_SZ0_0_0_3_P3_6_3_0_A0_0_C0_0_AN5.92_0.66_MCTS_L1_R0.0_0.0_PL1_EL1_0_0_s1000_r10_cI1.25_cB1000_e13.mp4\": 13, \"D120820_04154900_0_F8_E8_G['LMO', 1, 0, 1]_['LMO', 1, 0, 1]_ST3_2_SZ3_3_3_0_P10_3_6_2_A0_0_C0_0_AN1.62_1.13_MCTS_L1_R0.0_10.0_PL1_EL1_0_0_s1000_r10_cI1.25_cB1000_e58.mp4\": 13, \"D121120_08040600_0_F8_E4_G['LMO', 0, 0, 1]_['LMO', 0, 0, 1]_ST0_1_SZ0_0_0_2_P2_16_15_7_A0_0_C0_0_AN4.91_4.67_MCTS_L1_R0.0_10.0_PL1_EL1_0_0_s1000_r10_cI1.25_cB1000_e1.mp4\": 13, \"D083120_05531300_0_F8_E10_G['LMA', 0, 0, 1]_['LMA', 0, 0, -1]_ST2_2_SZ0_0_2_2_P12_13_3_13_A0_0_C0_0_AN-4.89_0.31_MCTS_L1_R0.0_-10.0_PL1_EL1_0_0_s1000_r10_cI1.25_cB1000_e34.mp4\": 13, \"D083020_22482400_0_F8_E15_G['LMO', 0, 0, 1]_['LMO', 0, 0, 1]_ST3_2_SZ1_1_0_0_P1_5_5_11_A0_0_C0_0_AN-0.19_-4.19_MCTS_L1_R0.0_10.0_PL1_EL1_0_0_s1000_r10_cI1.25_cB1000_e63.mp4\": 13, \"D082120_14275500_0_F8_E9_G['LMO', 1, 3, 1]_['LMO', 1, 3, 1]_ST0_3_SZ0_0_3_0_P7_11_14_0_A0_0_C0_0_AN-1.26_4.48_MCTS_L1_R0.0_0.0_PL1_EL1_0_0_s1000_r10_cI1.25_cB1000_e381.mp4\": 13, \"D082520_20293800_0_F8_E0_G['LMO', 0, 1, 1]_['LMO', 1, 0, 1]_ST3_2_SZ0_0_1_1_P7_7_11_5_A0_0_C0_0_AN-2.42_0.8_MCTS_L1_R0.0_0.0_PL1_EL1_0_0_s1000_r10_cI1.25_cB1000_e378.mp4\": 13, \"D090220_13335900_0_F8_E17_G['LMO', 0, 3, 1]_['LMO', 0, 2, 1]_ST3_3_SZ0_0_0_2_P7_3_1_0_A0_0_C0_0_AN0.82_-2.71_MCTS_L1_R0.0_0.0_PL1_EL1_0_0_s1000_r10_cI1.25_cB1000_e231.mp4\": 13, \"D113020_16410600_0_F8_E8_G['LMO', 1, 3, 1]_['LMO', 1, 3, 1]_ST2_2_SZ1_2_1_0_P3_10_16_1_A0_0_C0_0_AN-1.93_0.55_MCTS_L1_R0.0_10.0_PL1_EL1_0_0_s1000_r10_cI1.25_cB1000_e11.mp4\": 13, \"D083120_12513100_0_F8_E20_G['LMO', 1, 1, 1]_['LMO', 1, 1, 1]_ST3_2_SZ2_3_3_0_P12_1_14_10_A0_0_C0_0_AN-5.46_1.04_MCTS_L1_R0.0_10.0_PL1_EL1_0_0_s1000_r10_cI1.25_cB1000_e385.mp4\": 13, \"D090220_03280800_0_F8_E15_G['TE', 1, 0, -1]_['TE', 1, 0, 1]_ST2_2_SZ0_0_0_1_P14_16_4_6_A0_0_C0_0_AN-5.57_1.65_MCTS_L1_R-10.0_0.0_PL1_EL1_0_0_s1000_r10_cI1.25_cB1000_e282.mp4\": 13, \"D083020_22053700_0_F8_E19_G['LMO', 0, 1, 1]_['LMO', 1, 2, 1]_ST2_2_SZ0_0_0_0_P2_11_0_1_A0_0_C0_0_AN2.65_-4.05_MCTS_L1_R0.0_0.0_PL1_EL1_0_0_s1000_r10_cI1.25_cB1000_e115.mp4\": 13, \"D083120_04121700_0_F8_E20_G['TE', 0, 1, 1]_['TE', 0, 1, -1]_ST3_2_SZ0_0_0_0_P7_10_12_4_A0_0_C0_0_AN4.69_4.39_MCTS_L1_R0.0_-10.0_PL1_EL1_0_0_s1000_r10_cI1.25_cB1000_e170.mp4\": 13, \"D082420_06090700_0_F8_E10_G['LMA', 1, 0, -1]_['LMA', 1, 0, 1]_ST3_0_SZ1_0_2_0_P1_5_14_11_A0_0_C0_0_AN3.01_-0.48_MCTS_L1_R-10.0_0.0_PL1_EL1_0_0_s1000_r10_cI1.25_cB1000_e305.mp4\": 13, \"D083120_06115200_0_F8_E9_G['LMO', 1, 2, -1]_['LMO', 1, 2, 1]_ST2_2_SZ1_2_0_3_P15_16_1_10_A0_0_C0_0_AN5.86_-6.27_MCTS_L1_R-10.0_0.0_PL1_EL1_0_0_s1000_r10_cI1.25_cB1000_e193.mp4\": 13, \"D090220_12543700_0_F8_E14_G['TE', 0, 1, 1]_['TE', 0, 1, -1]_ST1_3_SZ0_0_3_1_P2_13_1_5_A0_0_C0_0_AN-1.62_2.58_MCTS_L1_R0.0_-10.0_PL1_EL1_0_0_s1000_r10_cI1.25_cB1000_e111.mp4\": 13, \"D083020_07322400_0_F8_E12_G['LMA', 1, 0, -1]_['LMA', 1, 0, 1]_ST3_1_SZ0_2_3_0_P0_15_15_11_A0_0_C0_0_AN-5.07_4.39_MCTS_L1_R-10.0_0.0_PL1_EL1_0_0_s1000_r10_cI1.25_cB1000_e132.mp4\": 13, \"D083020_16565700_0_F8_E14_G['LMO', 0, 2, 1]_['LMO', 0, 2, 1]_ST1_1_SZ1_3_0_3_P17_11_2_5_A0_0_C0_0_AN-5.19_-0.66_MCTS_L1_R0.0_10.0_PL1_EL1_0_0_s1000_r10_cI1.25_cB1000_e330.mp4\": 13, \"D120120_12284300_0_F8_E10_G['LMO', 0, 3, 1]_['LMO', 0, 3, 1]_ST3_0_SZ2_0_2_1_P11_13_13_15_A0_0_C0_0_AN-2.91_-1.57_MCTS_L1_R10.0_0.0_PL1_EL1_0_0_s1000_r10_cI1.25_cB1000_e14.mp4\": 13, \"D083020_18304500_0_F8_E19_G['LMA', 0, 2, 1]_['LMA', 0, 2, 1]_ST1_3_SZ0_1_2_3_P2_17_17_4_A0_0_C0_0_AN4.46_3.95_MCTS_L1_R0.0_10.0_PL1_EL1_0_0_s1000_r10_cI1.25_cB1000_e120.mp4\": 13, \"D081920_23380200_0_F8_E8_G['LMA', 1, 2, -1]_['LMA', 1, 2, 1]_ST1_1_SZ0_3_1_1_P10_16_3_17_A0_0_C0_0_AN-0.58_-6.08_MCTS_L1_R-10.0_0.0_PL1_EL1_0_0_s1000_r10_cI1.25_cB1000_e197.mp4\": 13, \"D082720_05412500_0_F8_E20_G['LMO', 1, 2, 1]_['LMO', 0, 2, 1]_ST2_2_SZ3_0_0_0_P16_15_0_4_A0_0_C0_0_AN4.61_-3.78_MCTS_L6_R0.0_0.0_PL1_EL1_0_0_s1000_r10_cI1.25_cB1000_e368.mp4\": 13, \"D082720_04515100_0_F8_E8_G['LMO', 0, 2, 1]_['LMA', 1, 0, 1]_ST0_2_SZ2_0_3_2_P0_13_11_13_A0_0_C0_0_AN5.68_1.56_MCTS_L6_R0.0_0.0_PL1_EL1_0_0_s1000_r10_cI1.25_cB1000_e346.mp4\": 13, \"D090120_19093100_0_F8_E20_G['TE', 0, 1, 1]_['TE', 0, 1, -1]_ST2_2_SZ0_0_0_0_P11_17_3_5_A0_0_C0_0_AN4.67_5.45_MCTS_L1_R0.0_-10.0_PL1_EL1_0_0_s1000_r10_cI1.25_cB1000_e230.mp4\": 13, \"D090320_00181000_0_F8_E17_G['LMO', 0, 2, 1]_['LMO', 0, 3, 1]_ST2_2_SZ0_0_0_2_P16_16_1_3_A0_0_C0_0_AN-5.22_-2.87_MCTS_L1_R0.0_0.0_PL1_EL1_0_0_s1000_r10_cI1.25_cB1000_e395.mp4\": 13, \"D121020_22414300_0_F8_E20_G['LMO', 0, 2, 1]_['LMO', 0, 2, 1]_ST0_3_SZ0_0_0_2_P15_0_11_5_A0_0_C0_0_AN-1.52_1.79_MCTS_L1_R0.0_10.0_PL1_EL1_0_0_s1000_r10_cI1.25_cB1000_e64.mp4\": 13, \"D083020_06230200_0_F8_E12_G['LMO', 1, 1, 1]_['LMO', 1, 1, 1]_ST0_3_SZ0_0_2_1_P17_1_10_17_A0_0_C0_0_AN1.07_-1.76_MCTS_L1_R0.0_10.0_PL1_EL1_0_0_s1000_r10_cI1.25_cB1000_e348.mp4\": 13, \"D082320_19400200_0_F8_E4_G['LMA', 1, 0, -1]_['LMA', 1, 0, 1]_ST3_1_SZ0_0_0_2_P10_15_12_1_A0_0_C0_0_AN-4.01_-4.36_MCTS_L1_R-10.0_0.0_PL1_EL1_0_0_s1000_r10_cI1.25_cB1000_e44.mp4\": 13, \"D082520_16461000_0_F8_E0_G['LMA', 0, 2, 1]_['LMO', 0, 1, 1]_ST1_0_SZ0_0_3_0_P3_6_0_3_A0_0_C0_0_AN5.92_0.66_MCTS_L1_R0.0_0.0_PL1_EL1_0_0_s1000_r10_cI1.25_cB1000_e140.mp4\": 13, \"D120120_18474600_0_F8_E15_G['LMO', 0, 2, 1]_['LMO', 0, 2, 1]_ST2_0_SZ3_0_1_2_P17_16_4_1_A0_0_C0_0_AN5.06_5.12_MCTS_L1_R10.0_0.0_PL1_EL1_0_0_s1000_r10_cI1.25_cB1000_e23.mp4\": 13, \"D083120_18060700_0_F8_E15_G['LMO', 1, 2, 1]_['LMO', 1, 3, 1]_ST3_3_SZ0_0_0_0_P0_13_14_12_A0_0_C0_0_AN2.91_-2.39_MCTS_L1_R0.0_0.0_PL1_EL1_0_0_s1000_r10_cI1.25_cB1000_e393.mp4\": 13, \"D082520_03070500_0_F8_E0_G['LMO', 0, 3, 1]_['LMA', 1, 1, 1]_ST2_1_SZ1_1_1_3_P3_15_0_12_A0_0_C0_0_AN2.73_-4.93_MCTS_L1_R0.0_0.0_PL1_EL1_0_0_s1000_r10_cI1.25_cB1000_e367.mp4\": 13, \"D082220_06115300_0_F8_E16_G['LMA', 0, 1, 1]_['LMA', 0, 1, -1]_ST2_2_SZ3_3_3_3_P3_1_11_0_A0_0_C0_0_AN-4.89_-2.38_MCTS_L1_R0.0_-10.0_PL1_EL1_0_0_s1000_r10_cI1.25_cB1000_e130.mp4\": 13, \"D121120_05111200_0_F8_E2_G['LMO', 1, 0, 1]_['LMO', 1, 0, 1]_ST0_3_SZ0_1_3_3_P4_17_14_12_A0_0_C0_0_AN-3.11_-1.62_MCTS_L1_R0.0_10.0_PL1_EL1_0_0_s1000_r10_cI1.25_cB1000_e26.mp4\": 13, \"D121020_20062800_0_F8_E7_G['LMO', 0, 2, 1]_['LMO', 0, 2, 1]_ST3_0_SZ1_0_2_2_P0_15_2_13_A0_0_C0_0_AN-2.46_2.35_MCTS_L1_R10.0_0.0_PL1_EL1_0_0_s1000_r10_cI1.25_cB1000_e28.mp4\": 13, \"D083120_09115800_0_F8_E18_G['LMO', 1, 1, 1]_['LMO', 1, 2, 1]_ST1_3_SZ0_0_1_0_P3_6_13_2_A0_0_C0_0_AN-2.01_0.46_MCTS_L1_R0.0_0.0_PL1_EL1_0_0_s1000_r10_cI1.25_cB1000_e80.mp4\": 13, \"D120720_18404400_0_F8_E4_G['LMO', 0, 0, 1]_['LMO', 0, 0, 1]_ST3_2_SZ1_0_0_2_P0_11_2_15_A0_0_C0_0_AN1.84_-5.12_MCTS_L1_R0.0_10.0_PL1_EL1_0_0_s1000_r10_cI1.25_cB1000_e0.mp4\": 13, \"D082320_17023100_0_F8_E8_G['LMA', 0, 1, 1]_['LMA', 0, 1, -1]_ST3_3_SZ3_0_3_3_P13_12_1_3_A0_0_C0_0_AN3.19_-4.89_MCTS_L1_R0.0_-10.0_PL1_EL1_0_0_s1000_r10_cI1.25_cB1000_e387.mp4\": 13, \"D083120_21540200_0_F8_E17_G['LMO', 0, 3, 1]_['LMO', 0, 3, 1]_ST2_2_SZ3_1_0_0_P3_10_10_13_A0_0_C0_0_AN-4.09_-3.25_MCTS_L1_R0.0_0.0_PL1_EL1_0_0_s1000_r10_cI1.25_cB1000_e139.mp4\": 13, \"D082020_08061800_0_F8_E0_G['LMO', 1, 0, 1]_['LMO', 1, 0, 1]_ST0_1_SZ3_0_3_3_P15_3_5_6_A0_0_C0_0_AN2.85_-2.16_MCTS_L1_R0.0_0.0_PL1_EL1_0_0_s1000_r10_cI1.25_cB1000_e222.mp4\": 13, \"D083120_14164700_0_F8_E15_G['LMA', 1, 1, -1]_['LMA', 1, 1, 1]_ST3_1_SZ0_0_2_1_P1_10_15_11_A0_0_C0_0_AN-3.56_0.54_MCTS_L1_R-10.0_0.0_PL1_EL1_0_0_s1000_r10_cI1.25_cB1000_e260.mp4\": 13, \"D082720_08445500_0_F8_E6_G['LMA', 0, 3, 1]_['LMO', 0, 1, 1]_ST2_3_SZ1_0_3_0_P16_17_3_6_A0_0_C0_0_AN6.1_-0.2_MCTS_L6_R0.0_0.0_PL1_EL1_0_0_s1000_r10_cI1.25_cB1000_e138.mp4\": 13, \"D082320_13360100_0_F8_E4_G['LMA', 1, 3, -1]_['LMA', 1, 3, 1]_ST3_1_SZ3_0_0_2_P3_0_4_2_A0_0_C0_0_AN-0.43_-4.93_MCTS_L1_R-10.0_0.0_PL1_EL1_0_0_s1000_r10_cI1.25_cB1000_e287.mp4\": 13, \"D082820_19142200_0_F8_E16_G['LMO', 1, 1, 1]_['LMA', 1, 2, 1]_ST2_2_SZ1_1_0_1_P5_12_3_11_A0_0_C0_0_AN4.66_3.99_MCTS_L8_R0.0_0.0_PL1_EL1_0_0_s1000_r10_cI1.25_cB1000_e203.mp4\": 13, \"D082420_03410700_0_F8_E10_G['LMA', 1, 1, -1]_['LMA', 1, 1, 1]_ST3_1_SZ0_0_3_2_P5_14_3_16_A0_0_C0_0_AN2.16_2.7_MCTS_L1_R-10.0_0.0_PL1_EL1_0_0_s1000_r10_cI1.25_cB1000_e25.mp4\": 13, \"D083020_01251000_0_F8_E12_G['LMO', 0, 1, 1]_['LMO', 0, 0, 1]_ST3_2_SZ0_0_0_1_P10_17_15_0_A0_0_C0_0_AN-2.25_1.93_MCTS_L1_R0.0_0.0_PL1_EL1_0_0_s1000_r10_cI1.25_cB1000_e75.mp4\": 13, \"D082920_05352800_0_F8_E4_G['LMO', 1, 3, 1]_['LMO', 1, 3, 1]_ST3_2_SZ1_1_1_0_P14_2_13_1_A0_0_C0_0_AN-2.49_-4.2_MCTS_L1_R10.0_0.0_PL1_EL1_0_0_s1000_r10_cI1.25_cB1000_e258.mp4\": 13, \"D082220_12152700_0_F8_E0_G['LMO', 0, 1, 1]_['LMO', 0, 1, 1]_ST1_3_SZ3_0_0_3_P17_7_2_11_A0_0_C0_0_AN0.11_1.47_MCTS_L1_R0.0_0.0_PL1_EL1_0_0_s1000_r10_cI1.25_cB1000_e272.mp4\": 13, \"D082620_03005200_0_F8_E0_G['LMA', 0, 0, 1]_['LMA', 1, 0, 1]_ST3_2_SZ0_1_1_3_P2_6_7_4_A0_0_C0_0_AN-3.04_0.97_MCTS_L1_R0.0_0.0_PL1_EL1_0_0_s1000_r10_cI1.25_cB1000_e18.mp4\": 13, \"D090120_12414100_0_F8_E2_G['LMO', 0, 2, 1]_['LMO', 0, 1, 1]_ST2_3_SZ1_0_0_0_P7_1_14_7_A0_0_C0_0_AN-3.6_-4.04_MCTS_L1_R0.0_0.0_PL1_EL1_0_0_s1000_r10_cI1.25_cB1000_e8.mp4\": 13, \"D082720_15234000_0_F8_E15_G['LMA', 0, 3, 1]_['LMA', 1, 2, 1]_ST2_2_SZ0_0_3_3_P16_12_14_11_A0_0_C0_0_AN-3.99_3.83_MCTS_L6_R0.0_0.0_PL1_EL1_0_0_s1000_r10_cI1.25_cB1000_e10.mp4\": 13, \"D082220_17433800_0_F8_E12_G['LMA', 1, 3, 1]_['LMA', 1, 3, 1]_ST3_1_SZ0_0_2_3_P15_7_15_7_A0_0_C0_0_AN-1.61_-0.29_MCTS_L1_R10.0_0.0_PL1_EL1_0_0_s1000_r10_cI1.25_cB1000_e48.mp4\": 13, \"D082520_13190900_0_F8_E17_G['LMO', 0, 3, 1]_['LMO', 0, 3, 1]_ST0_1_SZ0_0_0_1_P10_7_14_17_A0_0_C0_0_AN2.77_-1.19_MCTS_L1_R0.0_0.0_PL1_EL1_0_0_s1000_r10_cI1.25_cB1000_e210.mp4\": 13, \"D083020_06291500_0_F8_E8_G['LMO', 0, 0, 1]_['LMO', 0, 2, 1]_ST3_2_SZ0_0_0_3_P4_0_4_15_A0_0_C0_0_AN3.53_0.55_MCTS_L1_R0.0_0.0_PL1_EL1_0_0_s1000_r10_cI1.25_cB1000_e100.mp4\": 13, \"D083020_11134500_0_F8_E0_G['LMO', 1, 2, 1]_['LMO', 1, 2, -1]_ST1_3_SZ0_0_0_1_P2_6_15_1_A0_0_C0_0_AN-2.47_-1.73_MCTS_L1_R0.0_-10.0_PL1_EL1_0_0_s1000_r10_cI1.25_cB1000_e181.mp4\": 13, \"D081920_22233200_0_F8_E14_G['LMO', 1, 2, 1]_['LMO', 1, 2, 1]_ST3_3_SZ3_3_1_0_P15_13_1_3_A0_0_C0_0_AN-2.43_-2.7_MCTS_L1_R10.0_0.0_PL1_EL1_0_0_s1000_r10_cI1.25_cB1000_e344.mp4\": 13, \"D082420_09554400_0_F8_E20_G['LMO', 0, 0, 1]_['LMO', 0, 0, 1]_ST3_3_SZ1_0_0_3_P1_4_16_7_A0_0_C0_0_AN-1.55_-5.76_MCTS_L1_R0.0_10.0_PL1_EL1_0_0_s1000_r10_cI1.25_cB1000_e374.mp4\": 13, \"D083120_19032500_0_F8_E8_G['LMA', 1, 2, -1]_['LMA', 1, 2, 1]_ST3_3_SZ0_3_0_2_P17_12_13_2_A0_0_C0_0_AN5.18_-0.64_MCTS_L1_R-10.0_0.0_PL1_EL1_0_0_s1000_r10_cI1.25_cB1000_e292.mp4\": 13, \"D083120_00205700_0_F8_E4_G['LMO', 1, 0, 1]_['LMO', 1, 0, 1]_ST2_2_SZ0_0_3_0_P2_3_11_16_A0_0_C0_0_AN-1.33_0.86_MCTS_L1_R0.0_0.0_PL1_EL1_0_0_s1000_r10_cI1.25_cB1000_e21.mp4\": 13, \"D083020_18443200_0_F8_E7_G['TE', 1, 0, -1]_['TE', 1, 0, 1]_ST3_3_SZ2_1_2_3_P15_0_11_14_A0_0_C0_0_AN-5.68_-0.82_MCTS_L1_R-10.0_0.0_PL1_EL1_0_0_s1000_r10_cI1.25_cB1000_e242.mp4\": 13, \"D121020_23440600_0_F8_E2_G['LMO', 1, 0, 1]_['LMO', 1, 0, 1]_ST0_3_SZ0_3_2_1_P3_0_11_15_A0_0_C0_0_AN-5.77_-5.52_MCTS_L1_R0.0_10.0_PL1_EL1_0_0_s1000_r10_cI1.25_cB1000_e67.mp4\": 13, \"D090120_14522300_0_F8_E6_G['LMO', 0, 3, 1]_['LMO', 0, 0, 1]_ST3_2_SZ0_0_3_1_P13_7_17_12_A0_0_C0_0_AN-6.03_5.02_MCTS_L1_R0.0_0.0_PL1_EL1_0_0_s1000_r10_cI1.25_cB1000_e225.mp4\": 13, \"D082720_11244800_0_F8_E9_G['LMA', 0, 0, 1]_['LMA', 1, 0, 1]_ST2_0_SZ2_0_2_3_P4_3_17_16_A0_0_C0_0_AN1.37_-3.49_MCTS_L6_R0.0_0.0_PL1_EL1_0_0_s1000_r10_cI1.25_cB1000_e3.mp4\": 13, \"D120120_11464200_0_F8_E15_G['LMO', 0, 1, 1]_['LMO', 0, 1, 1]_ST0_3_SZ0_0_0_0_P3_16_3_17_A0_0_C0_0_AN6.21_-6.2_MCTS_L1_R0.0_10.0_PL1_EL1_0_0_s1000_r10_cI1.25_cB1000_e51.mp4\": 13, \"D083020_06224300_0_F8_E21_G['LMO', 0, 0, 1]_['LMO', 0, 0, 1]_ST3_3_SZ0_0_0_0_P15_15_5_6_A0_0_C0_0_AN-3.63_-4.11_MCTS_L1_R0.0_0.0_PL1_EL1_0_0_s1000_r10_cI1.25_cB1000_e206.mp4\": 13, \"D082120_00183400_0_F8_E15_G['LMO', 0, 2, 1]_['LMO', 0, 2, 1]_ST2_3_SZ0_1_0_1_P2_6_3_7_A0_0_C0_0_AN-0.61_-5.37_MCTS_L1_R10.0_0.0_PL1_EL1_0_0_s1000_r10_cI1.25_cB1000_e1.mp4\": 13, \"D083020_12084500_0_F8_E14_G['LMA', 1, 0, -1]_['LMA', 1, 0, 1]_ST3_1_SZ0_0_1_1_P3_6_17_7_A0_0_C0_0_AN3.87_5.09_MCTS_L1_R-10.0_0.0_PL1_EL1_0_0_s1000_r10_cI1.25_cB1000_e122.mp4\": 13, \"D090220_14561800_0_F8_E7_G['TE', 0, 1, 1]_['TE', 0, 1, -1]_ST3_3_SZ3_1_2_2_P1_16_0_7_A0_0_C0_0_AN-6.22_-5.59_MCTS_L1_R0.0_-10.0_PL1_EL1_0_0_s1000_r10_cI1.25_cB1000_e184.mp4\": 13, \"D113020_14004300_0_F8_E8_G['LMO', 1, 1, 1]_['LMO', 1, 1, 1]_ST0_3_SZ0_2_0_0_P13_4_5_17_A0_0_C0_0_AN-6.11_-2.85_MCTS_L1_R0.0_10.0_PL1_EL1_0_0_s1000_r10_cI1.25_cB1000_e60.mp4\": 13, \"D083020_13043400_0_F8_E16_G['LMO', 1, 2, 1]_['LMO', 1, 0, 1]_ST2_3_SZ2_3_3_0_P10_4_4_2_A0_0_C0_0_AN5.21_-1.81_MCTS_L1_R0.0_0.0_PL1_EL1_0_0_s1000_r10_cI1.25_cB1000_e142.mp4\": 13, \"D082820_04261700_0_F8_E0_G['LMO', 0, 1, 1]_['LMA', 1, 2, 1]_ST3_3_SZ3_3_1_2_P6_5_14_16_A0_0_C0_0_AN-3.29_2.45_MCTS_L6_R0.0_0.0_PL1_EL1_0_0_s1000_r10_cI1.25_cB1000_e183.mp4\": 13, \"D090220_03283500_0_F8_E18_G['LMO', 1, 1, 1]_['LMO', 1, 3, 1]_ST3_3_SZ0_0_1_0_P4_16_4_13_A0_0_C0_0_AN1.72_5.87_MCTS_L1_R0.0_0.0_PL1_EL1_0_0_s1000_r10_cI1.25_cB1000_e150.mp4\": 13, \"D120720_04492400_0_F8_E12_G['LMO', 1, 2, 1]_['LMO', 1, 2, 1]_ST0_2_SZ0_0_2_0_P5_0_3_4_A0_0_C0_0_AN-4.57_4.76_MCTS_L1_R0.0_10.0_PL1_EL1_0_0_s1000_r10_cI1.25_cB1000_e73.mp4\": 13, \"D083120_10260700_0_F8_E4_G['LMA', 0, 2, 1]_['LMA', 0, 2, -1]_ST1_3_SZ1_0_2_2_P2_16_4_14_A0_0_C0_0_AN-3.16_-2.48_MCTS_L1_R0.0_-10.0_PL1_EL1_0_0_s1000_r10_cI1.25_cB1000_e370.mp4\": 13, \"D121420_09132200_0_F8_E8_G['LMO', 0, 3, 1]_['LMO', 0, 3, 1]_ST1_1_SZ2_1_0_0_P1_2_1_6_A0_0_C0_0_AN-2.13_3.27_MCTS_L1_R10.0_0.0_PL1_EL1_0_0_s1000_r10_cI1.25_cB1000_e21.mp4\": 13, \"D083020_11124100_0_F8_E12_G['LMA', 0, 0, 1]_['LMA', 1, 0, 1]_ST1_1_SZ0_0_0_0_P4_11_10_14_A0_0_C0_0_AN-6.21_-6.02_MCTS_L1_R0.0_0.0_PL1_EL1_0_0_s1000_r10_cI1.25_cB1000_e201.mp4\": 13, \"D082120_13114300_0_F8_E7_G['LMO', 1, 3, 1]_['LMO', 1, 3, 1]_ST0_1_SZ0_0_1_3_P1_6_15_1_A0_0_C0_0_AN0.37_-3.34_MCTS_L1_R0.0_0.0_PL1_EL1_0_0_s1000_r10_cI1.25_cB1000_e16.mp4\": 13, \"D083120_03560600_0_F8_E21_G['LMO', 1, 1, 1]_['LMO', 1, 1, 1]_ST3_3_SZ0_0_3_0_P3_12_7_17_A0_0_C0_0_AN-1.14_-1.82_MCTS_L1_R0.0_0.0_PL1_EL1_0_0_s1000_r10_cI1.25_cB1000_e174.mp4\": 13, \"D082720_12102300_0_F8_E13_G['LMA', 0, 0, 1]_['LMA', 1, 2, 1]_ST2_0_SZ3_0_2_3_P15_0_5_7_A0_0_C0_0_AN2.83_-3.83_MCTS_L6_R0.0_0.0_PL1_EL1_0_0_s1000_r10_cI1.25_cB1000_e53.mp4\": 13, \"D113020_19292600_0_F8_E21_G['LMO', 0, 1, 1]_['LMO', 0, 1, 1]_ST0_2_SZ0_0_0_0_P6_10_6_4_A0_0_C0_0_AN5.52_3.32_MCTS_L1_R0.0_10.0_PL1_EL1_0_0_s1000_r10_cI1.25_cB1000_e49.mp4\": 13, \"D090320_09503000_0_F8_E13_G['LMO', 0, 0, 1]_['LMO', 0, 3, 1]_ST2_3_SZ0_0_0_2_P3_16_13_7_A0_0_C0_0_AN-2.03_5.05_MCTS_L1_R0.0_0.0_PL1_EL1_0_0_s1000_r10_cI1.25_cB1000_e274.mp4\": 13, \"D083120_01585300_0_F8_E6_G['LMO', 1, 1, 1]_['LMO', 1, 3, 1]_ST3_2_SZ0_0_3_0_P6_5_0_6_A0_0_C0_0_AN-0.1_5.91_MCTS_L1_R0.0_0.0_PL1_EL1_0_0_s1000_r10_cI1.25_cB1000_e6.mp4\": 13, \"D121120_01085700_0_F8_E12_G['LMO', 1, 2, 1]_['LMO', 1, 2, 1]_ST2_1_SZ3_1_1_0_P11_17_15_3_A0_0_C0_0_AN-5.86_-2.8_MCTS_L1_R10.0_0.0_PL1_EL1_0_0_s1000_r10_cI1.25_cB1000_e40.mp4\": 13, \"D082720_07200700_0_F8_E13_G['LMA', 0, 1, 1]_['LMA', 1, 3, 1]_ST1_3_SZ0_0_3_0_P0_14_17_16_A0_0_C0_0_AN0.15_-1.56_MCTS_L6_R0.0_0.0_PL1_EL1_0_0_s1000_r10_cI1.25_cB1000_e77.mp4\": 13, \"D090220_00194300_0_F8_E10_G['TE', 0, 1, 1]_['TE', 0, 1, -1]_ST1_2_SZ0_0_2_2_P6_10_5_2_A0_0_C0_0_AN1.11_4.45_MCTS_L1_R0.0_-10.0_PL1_EL1_0_0_s1000_r10_cI1.25_cB1000_e51.mp4\": 13, \"D121120_02361300_0_F8_E2_G['LMO', 0, 3, 1]_['LMO', 0, 3, 1]_ST0_3_SZ0_1_0_0_P17_15_7_2_A0_0_C0_0_AN-0.2_2.34_MCTS_L1_R0.0_10.0_PL1_EL1_0_0_s1000_r10_cI1.25_cB1000_e55.mp4\": 13, \"D113020_18262200_0_F8_E4_G['LMO', 1, 0, 1]_['LMO', 1, 0, 1]_ST1_3_SZ3_0_1_0_P1_15_1_15_A0_0_C0_0_AN-1.05_1.38_MCTS_L1_R0.0_0.0_PL1_EL1_0_0_s1000_r10_cI1.25_cB1000_e18.mp4\": 13, \"D082220_12595400_0_F8_E2_G['LMO', 0, 2, 1]_['LMO', 0, 2, 1]_ST0_1_SZ0_1_1_0_P2_7_15_2_A0_0_C0_0_AN1.04_2.28_MCTS_L1_R0.0_0.0_PL1_EL1_0_0_s1000_r10_cI1.25_cB1000_e271.mp4\": 13, \"D083120_19524900_0_F8_E4_G['LMO', 0, 3, 1]_['LMO', 0, 3, 1]_ST2_3_SZ1_2_0_3_P10_15_0_12_A0_0_C0_0_AN2.64_-0.74_MCTS_L1_R10.0_0.0_PL1_EL1_0_0_s1000_r10_cI1.25_cB1000_e188.mp4\": 13, \"D082820_17494000_0_F8_E4_G['LMA', 0, 2, 1]_['LMO', 0, 2, 1]_ST1_2_SZ0_2_0_0_P14_2_4_6_A0_0_C0_0_AN4.17_-4.55_MCTS_L8_R0.0_0.0_PL1_EL1_0_0_s1000_r10_cI1.25_cB1000_e155.mp4\": 13, \"D090120_14014700_0_F8_E16_G['TE', 0, 1, 1]_['TE', 0, 1, -1]_ST1_2_SZ3_2_1_2_P0_4_16_4_A0_0_C0_0_AN-5.31_0.61_MCTS_L1_R0.0_-10.0_PL1_EL1_0_0_s1000_r10_cI1.25_cB1000_e399.mp4\": 13, \"D113020_01490200_0_F8_E18_G['LMO', 1, 2, 1]_['LMO', 1, 2, 1]_ST3_3_SZ3_1_1_0_P2_13_10_2_A0_0_C0_0_AN4.89_6.15_MCTS_L1_R0.0_0.0_PL1_EL1_0_0_s1000_r10_cI1.25_cB1000_e37.mp4\": 13, \"D083020_14051100_0_F8_E21_G['LMO', 0, 1, 1]_['LMO', 0, 0, 1]_ST2_3_SZ0_0_0_3_P14_5_3_11_A0_0_C0_0_AN5.34_-4.04_MCTS_L1_R0.0_0.0_PL1_EL1_0_0_s1000_r10_cI1.25_cB1000_e379.mp4\": 13, \"D120320_11455400_0_F8_E13_G['LMO', 1, 2, 1]_['LMO', 1, 2, 1]_ST1_2_SZ0_2_2_0_P11_17_14_15_A0_0_C0_0_AN-5.59_2.34_MCTS_L1_R10.0_0.0_PL1_EL1_0_0_s1000_r10_cI1.25_cB1000_e53.mp4\": 13, \"D082220_09453700_0_F8_E0_G['LMO', 0, 0, 1]_['LMO', 0, 0, 1]_ST0_3_SZ1_0_1_3_P14_15_16_6_A0_0_C0_0_AN2.13_5.61_MCTS_L1_R0.0_0.0_PL1_EL1_0_0_s1000_r10_cI1.25_cB1000_e275.mp4\": 13, \"D120120_09270500_0_F8_E14_G['LMO', 0, 2, 1]_['LMO', 0, 2, 1]_ST2_0_SZ0_0_2_2_P3_5_5_12_A0_0_C0_0_AN-2.11_4.51_MCTS_L1_R10.0_0.0_PL1_EL1_0_0_s1000_r10_cI1.25_cB1000_e17.mp4\": 13, \"D083020_04484300_0_F8_E17_G['TE', 1, 0, -1]_['TE', 1, 0, 1]_ST1_2_SZ1_0_0_3_P13_2_10_1_A0_0_C0_0_AN-3.98_1.42_MCTS_L1_R-10.0_0.0_PL1_EL1_0_0_s1000_r10_cI1.25_cB1000_e89.mp4\": 13, \"D082220_20440000_0_F8_E14_G['LMA', 1, 0, 1]_['LMA', 1, 0, 1]_ST3_0_SZ1_0_1_2_P1_3_4_1_A0_0_C0_0_AN-3.95_1.28_MCTS_L1_R10.0_0.0_PL1_EL1_0_0_s1000_r10_cI1.25_cB1000_e353.mp4\": 13, \"D083020_22452000_0_F8_E2_G['LMA', 1, 1, -1]_['LMA', 1, 1, 1]_ST1_3_SZ0_3_2_3_P6_10_14_3_A0_0_C0_0_AN-3.53_2.16_MCTS_L1_R-10.0_0.0_PL1_EL1_0_0_s1000_r10_cI1.25_cB1000_e169.mp4\": 13, \"D081820_13363300_0_F8_E0_G['LMO', 0, 2, 1]_['LMO', 0, 2, 1]_ST1_2_SZ0_3_0_3_P13_13_12_10_A0_0_C0_0_AN-0.12_4.61_MCTS_L1_R0.0_10.0_PL1_EL1_0_0_s1000_r10_cI1.25_cB1000_e61.mp4\": 13, \"D082920_00262200_0_F8_E4_G['LMO', 0, 0, 1]_['LMA', 1, 2, 1]_ST2_0_SZ0_0_0_2_P16_10_4_17_A0_0_C0_0_AN0.35_-3.98_MCTS_L8_R0.0_0.0_PL1_EL1_0_0_s1000_r10_cI1.25_cB1000_e185.mp4\": 13, \"D121220_23201900_0_F8_E18_G['LMO', 0, 3, 1]_['LMO', 0, 3, 1]_ST2_3_SZ0_1_0_0_P13_2_13_10_A0_0_C0_0_AN-0.69_-5.58_MCTS_L1_R0.0_0.0_PL1_EL1_0_0_s1000_r10_cI1.25_cB1000_e34.mp4\": 13, \"D082020_21332800_0_F8_E8_G['LMA', 0, 2, 1]_['LMA', 0, 2, -1]_ST1_1_SZ3_0_1_1_P16_10_17_3_A0_0_C0_0_AN-6.08_-0.58_MCTS_L1_R0.0_-10.0_PL1_EL1_0_0_s1000_r10_cI1.25_cB1000_e112.mp4\": 12, \"D083120_04050100_0_F8_E6_G['TE', 0, 1, 1]_['TE', 0, 1, -1]_ST1_1_SZ3_3_3_1_P17_11_1_16_A0_0_C0_0_AN3.36_0.76_MCTS_L1_R0.0_-10.0_PL1_EL1_0_0_s1000_r10_cI1.25_cB1000_e300.mp4\": 12, \"D083020_10594200_0_F8_E2_G['TE', 1, 0, -1]_['TE', 1, 0, 1]_ST2_3_SZ3_1_0_1_P13_16_12_13_A0_0_C0_0_AN-3.99_-5.08_MCTS_L1_R-10.0_0.0_PL1_EL1_0_0_s1000_r10_cI1.25_cB1000_e301.mp4\": 12, \"D083120_20382000_0_F8_E19_G['LMO', 1, 2, 1]_['LMO', 1, 2, -1]_ST1_2_SZ0_0_3_1_P1_6_2_5_A0_0_C0_0_AN1.06_0.17_MCTS_L1_R0.0_-10.0_PL1_EL1_0_0_s1000_r10_cI1.25_cB1000_e365.mp4\": 12, \"D082920_23281500_0_F8_E10_G['LMO', 1, 1, 1]_['LMO', 1, 1, 1]_ST3_3_SZ1_1_2_0_P16_14_16_14_A0_0_C0_0_AN-1.03_-5.67_MCTS_L1_R0.0_10.0_PL1_EL1_0_0_s1000_r10_cI1.25_cB1000_e352.mp4\": 12, \"D082720_18493700_0_F8_E10_G['LMA', 0, 0, 1]_['LMA', 1, 1, 1]_ST3_3_SZ0_2_3_0_P11_7_6_11_A0_0_C0_0_AN-4.58_3.8_MCTS_L6_R0.0_0.0_PL1_EL1_0_0_s1000_r10_cI1.25_cB1000_e108.mp4\": 12, \"D090220_00074000_0_F8_E20_G['LMO', 0, 2, 1]_['LMO', 0, 1, 1]_ST3_1_SZ0_0_0_2_P12_13_1_11_A0_0_C0_0_AN-5.85_-5.13_MCTS_L1_R0.0_0.0_PL1_EL1_0_0_s1000_r10_cI1.25_cB1000_e384.mp4\": 12, \"D082320_21531300_0_F8_E4_G['LMA', 0, 0, 1]_['LMA', 0, 0, -1]_ST0_3_SZ0_1_2_1_P15_0_1_3_A0_0_C0_0_AN-2.75_-3.55_MCTS_L1_R0.0_-10.0_PL1_EL1_0_0_s1000_r10_cI1.25_cB1000_e200.mp4\": 12, \"D083020_17181100_0_F8_E16_G['TE', 1, 0, -1]_['TE', 1, 0, 1]_ST1_3_SZ3_1_0_1_P12_2_15_7_A0_0_C0_0_AN-0.53_-1.51_MCTS_L1_R-10.0_0.0_PL1_EL1_0_0_s1000_r10_cI1.25_cB1000_e239.mp4\": 12, \"D083020_14361900_0_F8_E15_G['TE', 0, 1, 1]_['TE', 0, 1, -1]_ST3_1_SZ0_0_2_2_P1_13_13_15_A0_0_C0_0_AN4.24_-4.41_MCTS_L1_R0.0_-10.0_PL1_EL1_0_0_s1000_r10_cI1.25_cB1000_e151.mp4\": 12, \"D083020_10344000_0_F8_E13_G['LMO', 1, 3, 1]_['LMO', 1, 3, 1]_ST1_1_SZ0_0_0_0_P4_2_10_6_A0_0_C0_0_AN-2.29_-5.25_MCTS_L1_R0.0_0.0_PL1_EL1_0_0_s1000_r10_cI1.25_cB1000_e251.mp4\": 12, \"D121420_08260200_0_F8_E13_G['LMO', 0, 2, 1]_['LMO', 0, 2, 1]_ST2_3_SZ2_2_0_1_P7_2_15_3_A0_0_C0_0_AN-0.76_4.09_MCTS_L1_R0.0_0.0_PL1_EL1_0_0_s1000_r10_cI1.25_cB1000_e56.mp4\": 12, \"D090220_00552100_0_F8_E9_G['LMO', 1, 2, 1]_['LMO', 1, 3, 1]_ST1_3_SZ2_0_0_3_P13_12_7_1_A0_0_C0_0_AN3.2_0.34_MCTS_L1_R0.0_0.0_PL1_EL1_0_0_s1000_r10_cI1.25_cB1000_e94.mp4\": 12, \"D082120_06172800_0_F8_E0_G['LMO', 1, 0, 1]_['LMO', 1, 0, 1]_ST2_1_SZ3_1_1_0_P16_10_4_3_A0_0_C0_0_AN-0.99_2.82_MCTS_L1_R0.0_0.0_PL1_EL1_0_0_s1000_r10_cI1.25_cB1000_e129.mp4\": 12, \"D120320_06271800_0_F8_E18_G['LMO', 0, 3, 1]_['LMO', 0, 3, 1]_ST2_1_SZ1_1_0_0_P17_11_17_12_A0_0_C0_0_AN3.21_-2.53_MCTS_L1_R10.0_0.0_PL1_EL1_0_0_s1000_r10_cI1.25_cB1000_e35.mp4\": 12, \"D082420_07562800_0_F8_E12_G['LMA', 0, 3, 1]_['LMA', 0, 3, -1]_ST0_3_SZ0_1_0_2_P13_11_16_15_A0_0_C0_0_AN2.39_1.87_MCTS_L1_R0.0_-10.0_PL1_EL1_0_0_s1000_r10_cI1.25_cB1000_e246.mp4\": 12, \"D083020_11235600_0_F8_E4_G['LMA', 1, 3, 1]_['LMA', 1, 3, 1]_ST3_0_SZ1_0_1_2_P3_14_3_2_A0_0_C0_0_AN6.28_-3.5_MCTS_L1_R10.0_0.0_PL1_EL1_0_0_s1000_r10_cI1.25_cB1000_e66.mp4\": 12, \"D082520_13461100_0_F8_E0_G['LMO', 1, 2, 1]_['LMO', 0, 3, 1]_ST0_0_SZ0_3_3_0_P10_6_1_11_A0_0_C0_0_AN1.23_-2.42_MCTS_L1_R0.0_0.0_PL1_EL1_0_0_s1000_r10_cI1.25_cB1000_e290.mp4\": 12, \"D082020_03350700_0_F8_E9_G['LMA', 0, 3, 1]_['LMA', 0, 3, -1]_ST3_3_SZ0_0_3_3_P1_7_12_3_A0_0_C0_0_AN1.72_-5.25_MCTS_L1_R0.0_-10.0_PL1_EL1_0_0_s1000_r10_cI1.25_cB1000_e213.mp4\": 12, \"D082820_21294500_0_F8_E12_G['LMO', 1, 0, 1]_['LMA', 1, 2, 1]_ST1_0_SZ0_0_2_0_P11_1_11_12_A0_0_C0_0_AN3.2_-2.16_MCTS_L8_R0.0_0.0_PL1_EL1_0_0_s1000_r10_cI1.25_cB1000_e357.mp4\": 12, \"D090220_08125500_0_F8_E19_G['LMO', 1, 3, 1]_['LMO', 1, 3, 1]_ST1_1_SZ1_0_0_0_P2_10_1_10_A0_0_C0_0_AN-5.78_3.82_MCTS_L1_R0.0_10.0_PL1_EL1_0_0_s1000_r10_cI1.25_cB1000_e328.mp4\": 11, \"D083020_21392700_0_F8_E6_G['TE', 1, 0, -1]_['TE', 1, 0, 1]_ST3_3_SZ1_1_0_0_P16_10_0_15_A0_0_C0_0_AN-3.89_1.45_MCTS_L1_R-10.0_0.0_PL1_EL1_0_0_s1000_r10_cI1.25_cB1000_e128.mp4\": 11, \"D120720_09290000_0_F8_E2_G['LMO', 0, 2, 1]_['LMO', 0, 2, 1]_ST0_2_SZ0_0_2_2_P15_12_2_13_A0_0_C0_0_AN-5.11_1.05_MCTS_L1_R0.0_10.0_PL1_EL1_0_0_s1000_r10_cI1.25_cB1000_e10.mp4\": 11, \"D090120_00520800_0_F8_E21_G['LMA', 1, 0, -1]_['LMA', 1, 0, 1]_ST3_2_SZ0_0_3_2_P4_11_7_3_A0_0_C0_0_AN-2.17_4.83_MCTS_L1_R-10.0_0.0_PL1_EL1_0_0_s1000_r10_cI1.25_cB1000_e295.mp4\": 11, \"D083020_21062600_0_F8_E7_G['LMA', 0, 3, 1]_['LMO', 1, 0, 1]_ST2_3_SZ1_1_1_0_P17_17_2_11_A0_0_C0_0_AN-3.55_3.23_MCTS_L8_R0.0_0.0_PL1_EL1_0_0_s1000_r10_cI1.25_cB1000_e57.mp4\": 11, \"D090220_22433200_0_F8_E12_G['LMO', 1, 2, 1]_['LMO', 1, 1, 1]_ST1_3_SZ0_0_1_0_P0_13_12_15_A0_0_C0_0_AN1.86_2.73_MCTS_L1_R0.0_0.0_PL1_EL1_0_0_s1000_r10_cI1.25_cB1000_e102.mp4\": 11, \"D082320_23463700_0_F8_E4_G['LMA', 1, 3, -1]_['LMA', 1, 3, 1]_ST3_0_SZ0_0_2_3_P2_14_2_15_A0_0_C0_0_AN-6.11_-2.05_MCTS_L1_R-10.0_0.0_PL1_EL1_0_0_s1000_r10_cI1.25_cB1000_e50.mp4\": 11, \"D082520_08240100_0_F8_E0_G['LMO', 0, 3, 1]_['LMO', 1, 3, 1]_ST1_2_SZ1_1_1_1_P16_10_12_6_A0_0_C0_0_AN2.67_-0.01_MCTS_L1_R0.0_0.0_PL1_EL1_0_0_s1000_r10_cI1.25_cB1000_e363.mp4\": 11, \"D121020_20062900_0_F8_E16_G['LMO', 1, 1, 1]_['LMO', 1, 1, 1]_ST0_1_SZ0_0_1_0_P3_13_14_15_A0_0_C0_0_AN-2.64_3.16_MCTS_L1_R0.0_10.0_PL1_EL1_0_0_s1000_r10_cI1.25_cB1000_e43.mp4\": 11, \"D090220_03103900_0_F8_E21_G['TE', 0, 1, 1]_['TE', 0, 1, -1]_ST3_1_SZ0_0_1_1_P10_16_14_2_A0_0_C0_0_AN2.37_-2.84_MCTS_L1_R0.0_-10.0_PL1_EL1_0_0_s1000_r10_cI1.25_cB1000_e54.mp4\": 11, \"D083020_23165900_0_F8_E10_G['LMA', 1, 0, -1]_['LMA', 1, 0, 1]_ST1_1_SZ0_0_0_1_P6_2_7_11_A0_0_C0_0_AN5.89_5.53_MCTS_L1_R-10.0_0.0_PL1_EL1_0_0_s1000_r10_cI1.25_cB1000_e27.mp4\": 11, \"D090120_11390100_0_F8_E20_G['LMO', 0, 3, 1]_['LMO', 0, 1, 1]_ST3_2_SZ0_0_0_3_P11_0_0_16_A0_0_C0_0_AN-0.55_1.4_MCTS_L1_R0.0_0.0_PL1_EL1_0_0_s1000_r10_cI1.25_cB1000_e313.mp4\": 11, \"D083020_20493200_0_F8_E12_G['TE', 0, 1, 1]_['TE', 0, 1, -1]_ST2_1_SZ0_0_3_2_P5_2_7_6_A0_0_C0_0_AN-2.47_1.45_MCTS_L1_R0.0_-10.0_PL1_EL1_0_0_s1000_r10_cI1.25_cB1000_e64.mp4\": 11, \"D082520_21363600_0_F8_E17_G['LMA', 0, 3, 1]_['LMA', 0, 3, -1]_ST1_3_SZ0_3_2_0_P14_3_2_7_A0_0_C0_0_AN-5.28_-0.79_MCTS_L1_R0.0_-10.0_PL1_EL1_0_0_s1000_r10_cI1.25_cB1000_e252.mp4\": 11, \"D083020_01344000_0_F8_E19_G['LMA', 0, 0, 1]_['LMA', 1, 1, 1]_ST1_0_SZ0_0_1_3_P4_1_15_3_A0_0_C0_0_AN-1.31_-5.94_MCTS_L1_R0.0_0.0_PL1_EL1_0_0_s1000_r10_cI1.25_cB1000_e134.mp4\": 11, \"D083120_07070000_0_F8_E12_G['LMA', 0, 2, 1]_['LMA', 0, 2, -1]_ST1_2_SZ0_0_2_1_P3_2_2_16_A0_0_C0_0_AN6.21_5.27_MCTS_L1_R0.0_-10.0_PL1_EL1_0_0_s1000_r10_cI1.25_cB1000_e331.mp4\": 11, \"D090220_00532200_0_F8_E10_G['LMO', 0, 0, 1]_['LMO', 0, 0, 1]_ST3_3_SZ1_2_0_1_P0_5_12_3_A0_0_C0_0_AN6.04_-4.71_MCTS_L1_R0.0_10.0_PL1_EL1_0_0_s1000_r10_cI1.25_cB1000_e133.mp4\": 11, \"D082820_00554600_0_F8_E19_G['LMA', 0, 1, 1]_['LMA', 1, 1, 1]_ST0_3_SZ0_0_0_3_P1_3_6_12_A0_0_C0_0_AN-5.2_-0.67_MCTS_L6_R0.0_0.0_PL1_EL1_0_0_s1000_r10_cI1.25_cB1000_e74.mp4\": 11, \"D083020_15115600_0_F8_E13_G['TE', 0, 1, 1]_['TE', 0, 1, -1]_ST3_3_SZ0_0_0_0_P14_12_14_2_A0_0_C0_0_AN4.25_5.54_MCTS_L1_R0.0_-10.0_PL1_EL1_0_0_s1000_r10_cI1.25_cB1000_e281.mp4\": 11, \"D083020_23312400_0_F8_E21_G['LMO', 0, 3, 1]_['LMA', 1, 3, 1]_ST2_1_SZ0_0_0_0_P13_4_7_12_A0_0_C0_0_AN-3.79_3.21_MCTS_L1_R0.0_0.0_PL1_EL1_0_0_s1000_r10_cI1.25_cB1000_e47.mp4\": 11, \"D082820_03271700_0_F8_E18_G['LMO', 1, 1, 1]_['LMO', 1, 1, 1]_ST1_0_SZ3_0_3_1_P12_13_14_7_A0_0_C0_0_AN0.91_-5.0_MCTS_L1_R0.0_0.0_PL1_EL1_0_0_s1000_r10_cI1.25_cB1000_e103.mp4\": 11, \"D082820_06162200_0_F8_E8_G['LMO', 0, 1, 1]_['LMO', 0, 1, 1]_ST3_3_SZ0_0_0_2_P7_6_1_5_A0_0_C0_0_AN5.22_-3.24_MCTS_L1_R0.0_0.0_PL1_EL1_0_0_s1000_r10_cI1.25_cB1000_e380.mp4\": 11, \"D082520_08100400_0_F8_E0_G['LMA', 0, 3, 1]_['LMO', 1, 0, 1]_ST2_3_SZ3_1_0_3_P17_3_7_11_A0_0_C0_0_AN4.62_-1.71_MCTS_L1_R0.0_0.0_PL1_EL1_0_0_s1000_r10_cI1.25_cB1000_e322.mp4\": 11, \"D120720_06453300_0_F8_E12_G['LMO', 0, 0, 1]_['LMO', 0, 0, 1]_ST0_1_SZ0_0_1_2_P15_17_2_3_A0_0_C0_0_AN6.25_-1.98_MCTS_L1_R0.0_10.0_PL1_EL1_0_0_s1000_r10_cI1.25_cB1000_e22.mp4\": 11, \"D120720_04492400_0_F8_E7_G['LMO', 1, 1, 1]_['LMO', 1, 1, 1]_ST2_0_SZ2_0_2_3_P1_13_17_13_A0_0_C0_0_AN-1.41_-0.06_MCTS_L1_R10.0_0.0_PL1_EL1_0_0_s1000_r10_cI1.25_cB1000_e16.mp4\": 11, \"D082320_02464900_0_F8_E6_G['LMO', 1, 2, 1]_['LMO', 1, 2, 1]_ST3_0_SZ1_0_0_1_P10_12_16_4_A0_0_C0_0_AN-2.39_-1.97_MCTS_L1_R0.0_0.0_PL1_EL1_0_0_s1000_r10_cI1.25_cB1000_e149.mp4\": 11, \"D090220_04441700_0_F8_E19_G['TE', 1, 0, -1]_['TE', 1, 0, 1]_ST2_1_SZ0_0_1_2_P5_10_16_12_A0_0_C0_0_AN0.21_4.34_MCTS_L1_R-10.0_0.0_PL1_EL1_0_0_s1000_r10_cI1.25_cB1000_e329.mp4\": 11, \"D082920_16393000_0_F8_E10_G['LMO', 0, 0, 1]_['LMO', 0, 1, 1]_ST2_3_SZ0_1_0_3_P14_3_17_12_A0_0_C0_0_AN4.08_-4.85_MCTS_L1_R0.0_0.0_PL1_EL1_0_0_s1000_r10_cI1.25_cB1000_e69.mp4\": 11, \"D090120_08324200_0_F8_E2_G['TE', 1, 0, -1]_['TE', 1, 0, 1]_ST3_3_SZ2_2_2_3_P5_7_10_1_A0_0_C0_0_AN3.05_1.39_MCTS_L1_R-10.0_0.0_PL1_EL1_0_0_s1000_r10_cI1.25_cB1000_e35.mp4\": 11, \"D082820_06543900_0_F8_E10_G['LMA', 0, 3, 1]_['LMO', 0, 2, 1]_ST1_0_SZ3_0_1_1_P16_11_12_2_A0_0_C0_0_AN1.96_-1.84_MCTS_L6_R0.0_0.0_PL1_EL1_0_0_s1000_r10_cI1.25_cB1000_e389.mp4\": 11, \"D083020_17304100_0_F8_E14_G['LMA', 0, 3, 1]_['LMO', 0, 0, 1]_ST0_2_SZ0_0_0_1_P4_16_7_12_A0_0_C0_0_AN3.46_-2.59_MCTS_L8_R0.0_0.0_PL1_EL1_0_0_s1000_r10_cI1.25_cB1000_e219.mp4\": 11, \"D083020_07385000_0_F8_E7_G['LMO', 1, 3, 1]_['LMO', 1, 0, 1]_ST3_1_SZ3_1_3_0_P2_6_11_16_A0_0_C0_0_AN-1.04_1.52_MCTS_L1_R0.0_0.0_PL1_EL1_0_0_s1000_r10_cI1.25_cB1000_e298.mp4\": 11, \"D090120_17232400_0_F8_E16_G['TE', 0, 1, 1]_['TE', 0, 1, -1]_ST1_1_SZ3_2_1_3_P3_16_4_11_A0_0_C0_0_AN-1.05_0.55_MCTS_L1_R0.0_-10.0_PL1_EL1_0_0_s1000_r10_cI1.25_cB1000_e39.mp4\": 11, \"D113020_17045200_0_F8_E19_G['LMO', 0, 0, 1]_['LMO', 0, 0, 1]_ST2_1_SZ0_3_0_2_P11_10_3_17_A0_0_C0_0_AN-3.78_-2.7_MCTS_L1_R10.0_0.0_PL1_EL1_0_0_s1000_r10_cI1.25_cB1000_e6.mp4\": 11, \"D082820_00100100_0_F8_E13_G['LMO', 0, 0, 1]_['LMO', 1, 3, 1]_ST3_3_SZ0_0_0_0_P7_14_16_4_A0_0_C0_0_AN3.47_-4.48_MCTS_L6_R0.0_0.0_PL1_EL1_0_0_s1000_r10_cI1.25_cB1000_e264.mp4\": 11, \"D121120_10200900_0_F8_E17_G['LMO', 0, 1, 1]_['LMO', 0, 1, 1]_ST0_3_SZ0_0_0_0_P7_12_13_2_A0_0_C0_0_AN6.19_4.62_MCTS_L1_R0.0_10.0_PL1_EL1_0_0_s1000_r10_cI1.25_cB1000_e62.mp4\": 11, \"D121120_16174500_0_F8_E8_G['LMO', 1, 3, 1]_['LMO', 1, 3, 1]_ST3_3_SZ3_1_0_0_P0_3_7_0_A0_0_C0_0_AN3.53_-4.37_MCTS_L1_R10.0_0.0_PL1_EL1_0_0_s1000_r10_cI1.25_cB1000_e74.mp4\": 11, \"D083020_18295600_0_F8_E13_G['LMA', 0, 3, 1]_['LMO', 1, 2, 1]_ST2_2_SZ1_0_2_0_P0_6_1_10_A0_0_C0_0_AN-3.98_-5.2_MCTS_L1_R0.0_0.0_PL1_EL1_0_0_s1000_r10_cI1.25_cB1000_e198.mp4\": 11, \"D082820_09163100_0_F8_E18_G['LMO', 0, 1, 1]_['LMO', 0, 1, 1]_ST3_0_SZ0_0_1_1_P15_17_6_0_A0_0_C0_0_AN1.07_3.2_MCTS_L1_R0.0_0.0_PL1_EL1_0_0_s1000_r10_cI1.25_cB1000_e107.mp4\": 11, \"D082720_23043500_0_F8_E13_G['LMA', 0, 2, 1]_['LMA', 1, 3, 1]_ST0_0_SZ0_3_1_0_P3_10_15_14_A0_0_C0_0_AN-1.87_-2.65_MCTS_L6_R0.0_0.0_PL1_EL1_0_0_s1000_r10_cI1.25_cB1000_e235.mp4\": 11, \"D082920_18471700_0_F8_E19_G['LMO', 1, 2, 1]_['LMO', 1, 1, 1]_ST2_1_SZ0_0_0_0_P0_10_10_3_A0_0_C0_0_AN-1.36_3.32_MCTS_L1_R0.0_0.0_PL1_EL1_0_0_s1000_r10_cI1.25_cB1000_e392.mp4\": 11, \"D082920_01292600_0_F8_E0_G['LMO', 0, 1, 1]_['LMA', 1, 3, 1]_ST2_3_SZ1_1_3_1_P6_1_3_12_A0_0_C0_0_AN-3.24_6.07_MCTS_L8_R0.0_0.0_PL1_EL1_0_0_s1000_r10_cI1.25_cB1000_e131.mp4\": 11, \"D083120_07263500_0_F8_E8_G['TE', 0, 1, 1]_['TE', 0, 1, -1]_ST2_2_SZ3_2_0_0_P2_4_1_6_A0_0_C0_0_AN-1.98_-1.42_MCTS_L1_R0.0_-10.0_PL1_EL1_0_0_s1000_r10_cI1.25_cB1000_e304.mp4\": 11, \"D082520_02140100_0_F8_E15_G['LMO', 0, 1, 1]_['LMO', 0, 1, 1]_ST0_1_SZ0_0_0_1_P1_3_14_1_A0_0_C0_0_AN4.02_-1.16_MCTS_L1_R0.0_0.0_PL1_EL1_0_0_s1000_r10_cI1.25_cB1000_e117.mp4\": 11, \"D081920_03595900_0_F8_E7_G['LMA', 1, 2, -1]_['LMA', 1, 2, 1]_ST1_1_SZ3_0_1_1_P3_4_3_12_A0_0_C0_0_AN3.44_2.49_MCTS_L1_R-10.0_0.0_PL1_EL1_0_0_s1000_r10_cI1.25_cB1000_e90.mp4\": 11, \"D121120_20061700_0_F8_E10_G['LMO', 0, 1, 1]_['LMO', 0, 1, 1]_ST2_2_SZ3_3_0_3_P1_4_14_0_A0_0_C0_0_AN4.33_-1.89_MCTS_L1_R10.0_0.0_PL1_EL1_0_0_s1000_r10_cI1.25_cB1000_e70.mp4\": 11, \"D082820_02372500_0_F8_E18_G['LMO', 0, 3, 1]_['LMO', 0, 3, 1]_ST0_3_SZ0_0_0_2_P14_14_4_5_A0_0_C0_0_AN-5.23_1.98_MCTS_L1_R0.0_0.0_PL1_EL1_0_0_s1000_r10_cI1.25_cB1000_e145.mp4\": 11, \"D120720_11193900_0_F8_E2_G['LMO', 1, 0, 1]_['LMO', 1, 0, 1]_ST0_2_SZ0_0_0_3_P12_13_16_5_A0_0_C0_0_AN1.21_-5.88_MCTS_L1_R0.0_10.0_PL1_EL1_0_0_s1000_r10_cI1.25_cB1000_e29.mp4\": 11, \"D121120_10160000_0_F8_E4_G['LMO', 0, 0, 1]_['LMO', 0, 0, 1]_ST2_0_SZ0_0_0_1_P15_7_17_14_A0_0_C0_0_AN-5.89_4.83_MCTS_L1_R10.0_0.0_PL1_EL1_0_0_s1000_r10_cI1.25_cB1000_e19.mp4\": 11, \"D082720_05454100_0_F8_E21_G['LMA', 0, 0, 1]_['LMO', 1, 1, 1]_ST2_1_SZ0_0_1_0_P4_0_13_3_A0_0_C0_0_AN-4.53_5.11_MCTS_L6_R0.0_0.0_PL1_EL1_0_0_s1000_r10_cI1.25_cB1000_e162.mp4\": 11, \"D083020_17172300_0_F8_E12_G['LMA', 0, 0, 1]_['LMA', 1, 2, 1]_ST0_3_SZ3_0_2_3_P3_15_1_6_A0_0_C0_0_AN-2.22_2.11_MCTS_L1_R0.0_0.0_PL1_EL1_0_0_s1000_r10_cI1.25_cB1000_e224.mp4\": 11, \"D120320_11232900_0_F8_E8_G['LMO', 1, 3, 1]_['LMO', 1, 3, 1]_ST2_3_SZ1_1_0_0_P3_14_3_0_A0_0_C0_0_AN3.15_-0.5_MCTS_L1_R0.0_10.0_PL1_EL1_0_0_s1000_r10_cI1.25_cB1000_e3.mp4\": 11, \"D083120_06083000_0_F8_E4_G['LMO', 0, 0, 1]_['LMO', 0, 0, 1]_ST3_2_SZ3_3_0_2_P1_15_15_3_A0_0_C0_0_AN3.5_1.05_MCTS_L1_R0.0_0.0_PL1_EL1_0_0_s1000_r10_cI1.25_cB1000_e218.mp4\": 11, \"D083020_08060900_0_F8_E15_G['LMO', 1, 0, 1]_['LMO', 1, 3, 1]_ST1_3_SZ0_0_1_0_P0_12_5_16_A0_0_C0_0_AN-2.83_3.58_MCTS_L1_R0.0_0.0_PL1_EL1_0_0_s1000_r10_cI1.25_cB1000_e284.mp4\": 11, \"D082720_20543100_0_F8_E7_G['LMA', 0, 3, 1]_['LMA', 1, 2, 1]_ST0_2_SZ1_2_1_2_P13_11_0_11_A0_0_C0_0_AN3.12_6.07_MCTS_L6_R0.0_0.0_PL1_EL1_0_0_s1000_r10_cI1.25_cB1000_e333.mp4\": 11, \"D082720_07175300_0_F8_E13_G['LMO', 0, 0, 1]_['LMO', 1, 2, 1]_ST3_3_SZ3_0_1_0_P11_2_15_1_A0_0_C0_0_AN5.49_3.21_MCTS_L6_R0.0_0.0_PL1_EL1_0_0_s1000_r10_cI1.25_cB1000_e233.mp4\": 11, \"D113020_04174800_0_F8_E12_G['LMO', 1, 2, 1]_['LMO', 1, 2, 1]_ST2_3_SZ1_1_2_0_P3_7_0_3_A0_0_C0_0_AN-0.23_-0.98_MCTS_L1_R10.0_0.0_PL1_EL1_0_0_s1000_r10_cI1.25_cB1000_e66.mp4\": 11, \"D082620_15085000_0_F8_E19_G['LMA', 0, 3, 1]_['LMA', 0, 3, -1]_ST0_3_SZ0_0_3_2_P14_3_3_2_A0_0_C0_0_AN-5.92_-2.4_MCTS_L1_R0.0_-10.0_PL1_EL1_0_0_s1000_r10_cI1.25_cB1000_e249.mp4\": 11, \"D082320_02520700_0_F8_E7_G['LMO', 0, 2, 1]_['LMO', 0, 2, 1]_ST1_3_SZ3_0_1_0_P6_10_12_0_A0_0_C0_0_AN1.81_0.84_MCTS_L1_R0.0_0.0_PL1_EL1_0_0_s1000_r10_cI1.25_cB1000_e394.mp4\": 11, \"D090120_11104200_0_F8_E8_G['TE', 1, 0, -1]_['TE', 1, 0, 1]_ST2_2_SZ0_0_2_3_P2_0_5_16_A0_0_C0_0_AN6.17_-1.0_MCTS_L1_R-10.0_0.0_PL1_EL1_0_0_s1000_r10_cI1.25_cB1000_e152.mp4\": 11, \"D082820_20383700_0_F8_E8_G['LMO', 1, 2, 1]_['LMA', 1, 3, 1]_ST1_2_SZ0_1_3_0_P4_5_11_10_A0_0_C0_0_AN0.9_4.21_MCTS_L8_R0.0_0.0_PL1_EL1_0_0_s1000_r10_cI1.25_cB1000_e244.mp4\": 11, \"D082220_19075900_0_F8_E4_G['LMO', 1, 0, 1]_['LMO', 1, 0, 1]_ST0_3_SZ0_0_3_0_P7_3_17_13_A0_0_C0_0_AN-1.14_4.71_MCTS_L1_R0.0_0.0_PL1_EL1_0_0_s1000_r10_cI1.25_cB1000_e342.mp4\": 11, \"D083020_22472400_0_F8_E17_G['LMO', 1, 0, 1]_['LMO', 0, 2, 1]_ST0_1_SZ0_0_0_0_P0_1_11_2_A0_0_C0_0_AN-1.76_6.1_MCTS_L8_R0.0_0.0_PL1_EL1_0_0_s1000_r10_cI1.25_cB1000_e36.mp4\": 11, \"D082520_21285800_0_F8_E0_G['LMO', 1, 2, 1]_['LMA', 1, 3, 1]_ST3_0_SZ1_3_1_0_P1_6_12_10_A0_0_C0_0_AN-3.47_1.0_MCTS_L1_R0.0_0.0_PL1_EL1_0_0_s1000_r10_cI1.25_cB1000_e337.mp4\": 11, \"D082820_13593400_0_F8_E12_G['LMA', 0, 2, 1]_['LMA', 1, 1, 1]_ST2_2_SZ0_0_1_1_P14_0_0_15_A0_0_C0_0_AN2.64_5.66_MCTS_L6_R0.0_0.0_PL1_EL1_0_0_s1000_r10_cI1.25_cB1000_e255.mp4\": 11, \"D082520_16305000_0_F8_E0_G['LMO', 1, 0, 1]_['LMA', 1, 3, 1]_ST3_2_SZ1_3_0_3_P3_17_7_11_A0_0_C0_0_AN-1.71_4.62_MCTS_L1_R0.0_0.0_PL1_EL1_0_0_s1000_r10_cI1.25_cB1000_e267.mp4\": 11, \"D120120_08585800_0_F8_E6_G['LMO', 0, 2, 1]_['LMO', 0, 2, 1]_ST0_1_SZ0_3_0_2_P16_6_12_0_A0_0_C0_0_AN-2.02_2.86_MCTS_L1_R0.0_10.0_PL1_EL1_0_0_s1000_r10_cI1.25_cB1000_e13.mp4\": 11, \"D083020_10520200_0_F8_E16_G['LMO', 0, 0, 1]_['LMO', 0, 0, 1]_ST3_0_SZ3_0_1_3_P7_11_15_6_A0_0_C0_0_AN5.75_-4.92_MCTS_L1_R10.0_0.0_PL1_EL1_0_0_s1000_r10_cI1.25_cB1000_e180.mp4\": 11, \"D083020_12463400_0_F8_E6_G['LMO', 1, 0, 1]_['LMO', 1, 0, 1]_ST3_3_SZ0_0_3_0_P0_1_6_17_A0_0_C0_0_AN3.17_-0.73_MCTS_L1_R0.0_0.0_PL1_EL1_0_0_s1000_r10_cI1.25_cB1000_e171.mp4\": 11, \"D083020_02223200_0_F8_E0_G['TE', 1, 0, -1]_['TE', 1, 0, 1]_ST1_1_SZ1_3_2_1_P15_0_17_4_A0_0_C0_0_AN-0.2_2.21_MCTS_L1_R-10.0_0.0_PL1_EL1_0_0_s1000_r10_cI1.25_cB1000_e105.mp4\": 11, \"D120720_08525800_0_F8_E7_G['LMO', 0, 1, 1]_['LMO', 0, 1, 1]_ST0_1_SZ0_1_3_2_P6_4_13_10_A0_0_C0_0_AN-4.18_-2.17_MCTS_L1_R0.0_10.0_PL1_EL1_0_0_s1000_r10_cI1.25_cB1000_e45.mp4\": 11, \"D083020_02175800_0_F8_E10_G['LMO', 0, 1, 1]_['LMA', 1, 2, 1]_ST1_2_SZ3_3_2_1_P3_5_17_4_A0_0_C0_0_AN3.03_1.3_MCTS_L1_R0.0_0.0_PL1_EL1_0_0_s1000_r10_cI1.25_cB1000_e286.mp4\": 11, \"D082420_21114800_0_F8_E16_G['LMO', 1, 0, 1]_['LMO', 1, 0, 1]_ST3_0_SZ0_1_1_0_P10_6_6_4_A0_0_C0_0_AN-0.32_-5.07_MCTS_L1_R0.0_0.0_PL1_EL1_0_0_s1000_r10_cI1.25_cB1000_e178.mp4\": 11, \"D082020_05392600_0_F8_E4_G['LMA', 0, 0, 1]_['LMA', 0, 0, -1]_ST0_3_SZ0_0_0_1_P11_0_7_1_A0_0_C0_0_AN4.25_0.81_MCTS_L1_R0.0_-10.0_PL1_EL1_0_0_s1000_r10_cI1.25_cB1000_e265.mp4\": 11, \"D082120_21594500_0_F8_E10_G['LMA', 1, 1, -1]_['LMA', 1, 1, 1]_ST2_0_SZ1_0_3_2_P4_0_0_16_A0_0_C0_0_AN3.17_2.58_MCTS_L1_R-10.0_0.0_PL1_EL1_0_0_s1000_r10_cI1.25_cB1000_e276.mp4\": 11, \"D082020_15482600_0_F8_E4_G['LMA', 0, 2, 1]_['LMA', 0, 2, -1]_ST1_2_SZ3_3_0_0_P16_3_2_13_A0_0_C0_0_AN4.5_0.49_MCTS_L1_R0.0_-10.0_PL1_EL1_0_0_s1000_r10_cI1.25_cB1000_e68.mp4\": 11, \"D121020_20534100_0_F8_E12_G['LMO', 1, 3, 1]_['LMO', 1, 3, 1]_ST0_3_SZ0_0_1_0_P5_7_7_5_A0_0_C0_0_AN5.15_-5.32_MCTS_L1_R0.0_10.0_PL1_EL1_0_0_s1000_r10_cI1.25_cB1000_e20.mp4\": 11, \"D082620_09091500_0_F8_E19_G['LMA', 0, 3, 1]_['LMA', 0, 3, -1]_ST0_3_SZ0_1_1_2_P6_11_3_15_A0_0_C0_0_AN-0.26_-5.65_MCTS_L1_R0.0_-10.0_PL1_EL1_0_0_s1000_r10_cI1.25_cB1000_e52.mp4\": 11, \"D082220_23143200_0_F8_E15_G['LMA', 0, 0, 1]_['LMA', 0, 0, 1]_ST0_3_SZ0_0_2_0_P16_1_14_16_A0_0_C0_0_AN-0.45_2.67_MCTS_L1_R0.0_10.0_PL1_EL1_0_0_s1000_r10_cI1.25_cB1000_e356.mp4\": 11, \"D121220_07332400_0_F8_E18_G['LMO', 1, 3, 1]_['LMO', 1, 3, 1]_ST2_3_SZ1_3_0_0_P3_6_1_7_A0_0_C0_0_AN-2.03_3.91_MCTS_L1_R0.0_10.0_PL1_EL1_0_0_s1000_r10_cI1.25_cB1000_e47.mp4\": 11, \"D082820_05081600_0_F8_E18_G['LMO', 0, 0, 1]_['LMO', 0, 0, 1]_ST2_0_SZ0_0_1_3_P13_3_2_15_A0_0_C0_0_AN-1.48_2.02_MCTS_L1_R0.0_0.0_PL1_EL1_0_0_s1000_r10_cI1.25_cB1000_e204.mp4\": 11, \"D090220_01590300_0_F8_E4_G['LMO', 1, 0, 1]_['LMO', 1, 0, 1]_ST3_2_SZ1_3_2_0_P11_10_14_2_A0_0_C0_0_AN-2.58_-0.37_MCTS_L1_R10.0_0.0_PL1_EL1_0_0_s1000_r10_cI1.25_cB1000_e336.mp4\": 11, \"D121120_06290600_0_F8_E15_G['LMO', 1, 2, 1]_['LMO', 1, 2, 1]_ST3_3_SZ3_3_0_0_P2_13_15_2_A0_0_C0_0_AN0.23_4.45_MCTS_L1_R10.0_0.0_PL1_EL1_0_0_s1000_r10_cI1.25_cB1000_e44.mp4\": 11, \"D121320_13405400_0_F8_E12_G['LMO', 1, 2, 1]_['LMO', 1, 2, 1]_ST1_2_SZ1_3_1_0_P17_11_15_3_A0_0_C0_0_AN-2.8_-5.86_MCTS_L1_R0.0_10.0_PL1_EL1_0_0_s1000_r10_cI1.25_cB1000_e75.mp4\": 11, \"D082120_06161200_0_F8_E0_G['LMO', 1, 0, 1]_['LMO', 1, 0, 1]_ST2_1_SZ3_1_1_0_P16_10_4_3_A0_0_C0_0_AN-0.99_2.82_MCTS_L1_R0.0_0.0_PL1_EL1_0_0_s1000_r10_cI1.25_cB1000_e72.mp4\": 11, \"D082220_16110300_0_F8_E12_G['LMA', 1, 3, 1]_['LMA', 1, 3, 1]_ST3_1_SZ0_0_3_2_P2_6_17_15_A0_0_C0_0_AN3.72_2.99_MCTS_L1_R10.0_0.0_PL1_EL1_0_0_s1000_r10_cI1.25_cB1000_e343.mp4\": 11, \"D082820_10064600_0_F8_E17_G['LMA', 0, 0, 1]_['LMO', 0, 0, 1]_ST3_1_SZ0_0_0_2_P7_4_13_2_A0_0_C0_0_AN2.87_5.79_MCTS_L6_R0.0_0.0_PL1_EL1_0_0_s1000_r10_cI1.25_cB1000_e248.mp4\": 11, \"D113020_23133300_0_F8_E20_G['LMO', 1, 3, 1]_['LMO', 1, 3, 1]_ST1_1_SZ3_1_3_0_P11_7_15_13_A0_0_C0_0_AN5.88_4.12_MCTS_L1_R0.0_10.0_PL1_EL1_0_0_s1000_r10_cI1.25_cB1000_e33.mp4\": 11, \"D082720_14041100_0_F8_E8_G['LMA', 0, 1, 1]_['LMO', 0, 1, 1]_ST0_0_SZ2_0_0_1_P6_10_1_10_A0_0_C0_0_AN0.09_-4.17_MCTS_L6_R0.0_0.0_PL1_EL1_0_0_s1000_r10_cI1.25_cB1000_e237.mp4\": 11, \"D082920_11250700_0_F8_E14_G['LMO', 1, 2, 1]_['LMO', 1, 0, 1]_ST1_3_SZ0_0_1_0_P5_14_6_4_A0_0_C0_0_AN2.85_4.87_MCTS_L1_R0.0_0.0_PL1_EL1_0_0_s1000_r10_cI1.25_cB1000_e11.mp4\": 11, \"D082420_09542000_0_F8_E12_G['LMA', 1, 2, -1]_['LMA', 1, 2, 1]_ST3_1_SZ0_0_2_1_P6_2_17_4_A0_0_C0_0_AN4.34_4.08_MCTS_L1_R-10.0_0.0_PL1_EL1_0_0_s1000_r10_cI1.25_cB1000_e207.mp4\": 11, \"D083020_22515700_0_F8_E4_G['LMA', 0, 1, 1]_['LMA', 1, 1, 1]_ST2_2_SZ1_0_3_1_P15_10_0_10_A0_0_C0_0_AN0.14_-0.2_MCTS_L1_R0.0_0.0_PL1_EL1_0_0_s1000_r10_cI1.25_cB1000_e320.mp4\": 11, \"D090220_06503000_0_F8_E19_G['TE', 1, 0, -1]_['TE', 1, 0, 1]_ST2_1_SZ0_0_0_1_P11_10_6_14_A0_0_C0_0_AN-1.33_3.51_MCTS_L1_R-10.0_0.0_PL1_EL1_0_0_s1000_r10_cI1.25_cB1000_e268.mp4\": 11, \"D090320_01261900_0_F8_E19_G['TE', 0, 1, 1]_['TE', 0, 1, -1]_ST1_3_SZ0_0_3_0_P1_6_16_0_A0_0_C0_0_AN-0.7_4.47_MCTS_L1_R0.0_-10.0_PL1_EL1_0_0_s1000_r10_cI1.25_cB1000_e229.mp4\": 11, \"D121120_01300300_0_F8_E8_G['LMO', 0, 3, 1]_['LMO', 0, 3, 1]_ST3_3_SZ1_3_0_0_P3_0_0_7_A0_0_C0_0_AN-4.37_3.53_MCTS_L1_R0.0_10.0_PL1_EL1_0_0_s1000_r10_cI1.25_cB1000_e31.mp4\": 11, \"D082520_19312600_0_F8_E0_G['LMO', 0, 1, 1]_['LMA', 1, 1, 1]_ST0_0_SZ0_0_0_1_P4_11_15_16_A0_0_C0_0_AN1.23_-4.2_MCTS_L1_R0.0_0.0_PL1_EL1_0_0_s1000_r10_cI1.25_cB1000_e95.mp4\": 11, \"D083020_06230800_0_F8_E16_G['LMO', 1, 3, 1]_['LMO', 1, 3, 1]_ST3_0_SZ3_0_0_0_P14_16_10_4_A0_0_C0_0_AN-5.0_-5.79_MCTS_L1_R10.0_0.0_PL1_EL1_0_0_s1000_r10_cI1.25_cB1000_e104.mp4\": 11, \"D120320_07281800_0_F8_E4_G['LMO', 0, 0, 1]_['LMO', 0, 0, 1]_ST3_3_SZ2_1_0_2_P10_15_3_13_A0_0_C0_0_AN5.49_-4.15_MCTS_L1_R0.0_0.0_PL1_EL1_0_0_s1000_r10_cI1.25_cB1000_e38.mp4\": 11, \"D082820_05264300_0_F8_E9_G['LMO', 1, 3, 1]_['LMA', 1, 1, 1]_ST1_3_SZ3_1_1_3_P5_7_15_10_A0_0_C0_0_AN-2.79_2.31_MCTS_L6_R0.0_0.0_PL1_EL1_0_0_s1000_r10_cI1.25_cB1000_e126.mp4\": 11, \"D083020_18312100_0_F8_E9_G['LMO', 0, 3, 1]_['LMA', 1, 1, 1]_ST3_1_SZ1_3_0_0_P11_14_0_13_A0_0_C0_0_AN-2.43_0.78_MCTS_L1_R0.0_0.0_PL1_EL1_0_0_s1000_r10_cI1.25_cB1000_e154.mp4\": 11, \"D083120_12155200_0_F8_E7_G['LMO', 1, 3, 1]_['LMO', 1, 1, 1]_ST2_3_SZ0_3_3_3_P0_12_12_13_A0_0_C0_0_AN-4.5_-2.6_MCTS_L1_R0.0_0.0_PL1_EL1_0_0_s1000_r10_cI1.25_cB1000_e147.mp4\": 11, \"D082920_10500500_0_F8_E15_G['LMA', 1, 1, 1]_['LMA', 1, 1, 1]_ST3_1_SZ2_0_2_2_P12_10_16_6_A0_0_C0_0_AN-2.38_1.91_MCTS_L1_R10.0_0.0_PL1_EL1_0_0_s1000_r10_cI1.25_cB1000_e127.mp4\": 11, \"D082320_07452500_0_F8_E8_G['LMO', 0, 1, 1]_['LMO', 0, 1, 1]_ST3_2_SZ0_1_1_1_P14_3_6_5_A0_0_C0_0_AN-0.56_-4.96_MCTS_L1_R0.0_0.0_PL1_EL1_0_0_s1000_r10_cI1.25_cB1000_e232.mp4\": 11, \"D083020_16461600_0_F8_E12_G['TE', 1, 0, -1]_['TE', 1, 0, 1]_ST3_1_SZ0_0_3_1_P5_14_15_0_A0_0_C0_0_AN-5.93_-3.7_MCTS_L1_R-10.0_0.0_PL1_EL1_0_0_s1000_r10_cI1.25_cB1000_e2.mp4\": 11, \"D083020_15011400_0_F8_E17_G['LMA', 1, 0, 1]_['LMA', 1, 0, 1]_ST3_1_SZ3_0_0_2_P14_2_11_1_A0_0_C0_0_AN-5.51_3.87_MCTS_L1_R10.0_0.0_PL1_EL1_0_0_s1000_r10_cI1.25_cB1000_e163.mp4\": 11, \"D082120_23541100_0_F8_E12_G['LMA', 0, 2, 1]_['LMA', 0, 2, -1]_ST0_2_SZ0_1_2_0_P11_7_17_11_A0_0_C0_0_AN-4.96_1.08_MCTS_L1_R0.0_-10.0_PL1_EL1_0_0_s1000_r10_cI1.25_cB1000_e262.mp4\": 11, \"D083020_23200800_0_F8_E14_G['LMO', 1, 1, 1]_['LMO', 1, 0, 1]_ST3_3_SZ0_0_1_0_P10_4_6_13_A0_0_C0_0_AN2.57_3.34_MCTS_L1_R0.0_0.0_PL1_EL1_0_0_s1000_r10_cI1.25_cB1000_e24.mp4\": 11, \"D083120_08523500_0_F8_E7_G['LMO', 0, 3, 1]_['LMO', 0, 3, 1]_ST3_3_SZ0_1_1_1_P2_2_1_0_A0_0_C0_0_AN2.55_-5.22_MCTS_L1_R0.0_0.0_PL1_EL1_0_0_s1000_r10_cI1.25_cB1000_e199.mp4\": 11, \"D120320_05115100_0_F8_E18_G['LMO', 1, 3, 1]_['LMO', 1, 3, 1]_ST1_2_SZ3_1_1_0_P7_2_10_13_A0_0_C0_0_AN-6.21_4.2_MCTS_L1_R10.0_0.0_PL1_EL1_0_0_s1000_r10_cI1.25_cB1000_e24.mp4\": 11, \"D083020_23184000_0_F8_E2_G['LMA', 0, 1, 1]_['LMA', 0, 1, -1]_ST3_2_SZ1_0_2_1_P1_0_14_12_A0_0_C0_0_AN-5.8_2.56_MCTS_L1_R0.0_-10.0_PL1_EL1_0_0_s1000_r10_cI1.25_cB1000_e4.mp4\": 11, \"D082820_01590200_0_F8_E14_G['LMA', 0, 3, 1]_['LMA', 1, 1, 1]_ST3_3_SZ0_3_3_3_P0_6_0_4_A0_0_C0_0_AN-2.59_-1.51_MCTS_L6_R0.0_0.0_PL1_EL1_0_0_s1000_r10_cI1.25_cB1000_e293.mp4\": 11, \"D090120_06114900_0_F8_E6_G['TE', 0, 1, 1]_['TE', 0, 1, -1]_ST3_1_SZ1_0_1_0_P6_0_6_14_A0_0_C0_0_AN-1.76_-0.57_MCTS_L1_R0.0_-10.0_PL1_EL1_0_0_s1000_r10_cI1.25_cB1000_e345.mp4\": 11, \"D083020_05324900_0_F8_E2_G['LMO', 0, 1, 1]_['LMO', 0, 2, 1]_ST1_2_SZ2_3_1_3_P7_7_11_7_A0_0_C0_0_AN-5.85_4.7_MCTS_L1_R0.0_0.0_PL1_EL1_0_0_s1000_r10_cI1.25_cB1000_e217.mp4\": 11, \"D082520_11250100_0_F8_E0_G['LMO', 0, 1, 1]_['LMO', 1, 0, 1]_ST3_3_SZ0_0_3_1_P13_1_7_4_A0_0_C0_0_AN-2.4_-0.34_MCTS_L1_R0.0_0.0_PL1_EL1_0_0_s1000_r10_cI1.25_cB1000_e236.mp4\": 11, \"D121020_21594100_0_F8_E12_G['LMO', 1, 2, 1]_['LMO', 1, 2, 1]_ST0_3_SZ0_0_1_1_P16_11_0_12_A0_0_C0_0_AN-3.63_3.53_MCTS_L1_R0.0_10.0_PL1_EL1_0_0_s1000_r10_cI1.25_cB1000_e41.mp4\": 11, \"D082920_02080700_0_F8_E0_G['LMA', 0, 1, 1]_['LMO', 0, 0, 1]_ST2_3_SZ3_2_2_2_P3_14_12_17_A0_0_C0_0_AN-1.34_4.38_MCTS_L8_R0.0_0.0_PL1_EL1_0_0_s1000_r10_cI1.25_cB1000_e294.mp4\": 11, \"D090120_23365500_0_F8_E4_G['TE', 1, 0, -1]_['TE', 1, 0, 1]_ST3_3_SZ2_0_3_0_P13_12_2_1_A0_0_C0_0_AN3.95_-0.08_MCTS_L1_R-10.0_0.0_PL1_EL1_0_0_s1000_r10_cI1.25_cB1000_e277.mp4\": 11, \"D120120_00263100_0_F8_E21_G['LMO', 1, 2, 1]_['LMO', 1, 2, 1]_ST3_1_SZ1_1_1_0_P16_7_6_5_A0_0_C0_0_AN2.1_4.44_MCTS_L1_R10.0_0.0_PL1_EL1_0_0_s1000_r10_cI1.25_cB1000_e8.mp4\": 11, \"D082820_11083100_0_F8_E12_G['LMO', 0, 2, 1]_['LMO', 0, 2, 1]_ST3_3_SZ0_0_2_1_P11_3_16_7_A0_0_C0_0_AN3.18_-3.77_MCTS_L1_R0.0_0.0_PL1_EL1_0_0_s1000_r10_cI1.25_cB1000_e350.mp4\": 11, \"D113020_16530400_0_F8_E20_G['LMO', 1, 3, 1]_['LMO', 1, 3, 1]_ST0_3_SZ0_0_3_0_P13_11_15_6_A0_0_C0_0_AN-5.37_3.16_MCTS_L1_R0.0_10.0_PL1_EL1_0_0_s1000_r10_cI1.25_cB1000_e68.mp4\": 11, \"D083020_20362900_0_F8_E8_G['LMA', 0, 1, 1]_['LMO', 1, 1, 1]_ST0_3_SZ0_0_1_0_P1_3_6_1_A0_0_C0_0_AN-4.42_-4.76_MCTS_L1_R0.0_0.0_PL1_EL1_0_0_s1000_r10_cI1.25_cB1000_e78.mp4\": 11, \"D082920_14160800_0_F8_E9_G['TE', 0, 1, 1]_['TE', 0, 1, -1]_ST3_3_SZ3_1_2_1_P0_2_4_2_A0_0_C0_0_AN-6.19_1.37_MCTS_L1_R0.0_-10.0_PL1_EL1_0_0_s1000_r10_cI1.25_cB1000_e192.mp4\": 11, \"D082120_03030600_0_F8_E13_G['LMA', 1, 3, -1]_['LMA', 1, 3, 1]_ST1_1_SZ0_0_3_3_P13_5_7_6_A0_0_C0_0_AN-1.13_-3.16_MCTS_L1_R-10.0_0.0_PL1_EL1_0_0_s1000_r10_cI1.25_cB1000_e306.mp4\": 11, \"D082320_00315300_0_F8_E6_G['LMO', 0, 2, 1]_['LMO', 0, 2, 1]_ST0_2_SZ0_3_0_1_P1_5_10_4_A0_0_C0_0_AN2.79_-1.64_MCTS_L1_R0.0_0.0_PL1_EL1_0_0_s1000_r10_cI1.25_cB1000_e324.mp4\": 11, \"D083020_01303400_0_F8_E10_G['LMO', 0, 3, 1]_['LMO', 0, 0, 1]_ST3_2_SZ0_0_0_1_P10_12_4_10_A0_0_C0_0_AN3.41_-1.8_MCTS_L1_R0.0_0.0_PL1_EL1_0_0_s1000_r10_cI1.25_cB1000_e85.mp4\": 11, \"D083120_00013100_0_F8_E0_G['TE', 0, 1, 1]_['TE', 0, 1, -1]_ST1_3_SZ2_3_0_1_P0_6_4_14_A0_0_C0_0_AN2.91_4.39_MCTS_L1_R0.0_-10.0_PL1_EL1_0_0_s1000_r10_cI1.25_cB1000_e37.mp4\": 11, \"D082920_05341600_0_F8_E4_G['LMO', 1, 0, 1]_['LMO', 1, 2, 1]_ST3_2_SZ0_0_2_0_P5_1_10_15_A0_0_C0_0_AN-6.13_-1.01_MCTS_L1_R0.0_0.0_PL1_EL1_0_0_s1000_r10_cI1.25_cB1000_e96.mp4\": 11, \"D113020_21031500_0_F8_E9_G['LMO', 0, 0, 1]_['LMO', 0, 0, 1]_ST0_2_SZ0_0_3_0_P5_1_4_0_A0_0_C0_0_AN-1.03_2.92_MCTS_L1_R0.0_10.0_PL1_EL1_0_0_s1000_r10_cI1.25_cB1000_e7.mp4\": 11, \"D082320_17563700_0_F8_E9_G['LMO', 0, 1, 1]_['LMO', 0, 1, 1]_ST0_3_SZ0_0_3_1_P0_11_0_1_A0_0_C0_0_AN-3.45_2.43_MCTS_L1_R0.0_0.0_PL1_EL1_0_0_s1000_r10_cI1.25_cB1000_e326.mp4\": 11, \"D083020_17412500_0_F8_E19_G['LMO', 1, 3, 1]_['LMO', 1, 3, 1]_ST3_3_SZ1_3_1_0_P2_0_3_0_A0_0_C0_0_AN-5.74_-1.98_MCTS_L1_R0.0_10.0_PL1_EL1_0_0_s1000_r10_cI1.25_cB1000_e234.mp4\": 11, \"D083120_11185000_0_F8_E4_G['LMO', 0, 2, 1]_['LMO', 0, 1, 1]_ST1_2_SZ3_1_3_2_P17_16_11_4_A0_0_C0_0_AN5.79_-2.07_MCTS_L1_R0.0_0.0_PL1_EL1_0_0_s1000_r10_cI1.25_cB1000_e308.mp4\": 11, \"D082320_17364000_0_F8_E4_G['LMA', 0, 0, 1]_['LMA', 0, 0, -1]_ST1_3_SZ0_3_2_1_P3_10_1_12_A0_0_C0_0_AN-4.32_5.81_MCTS_L1_R0.0_-10.0_PL1_EL1_0_0_s1000_r10_cI1.25_cB1000_e315.mp4\": 11, \"D083020_17275200_0_F8_E2_G['LMO', 1, 0, 1]_['LMO', 1, 0, 1]_ST0_3_SZ0_2_3_3_P3_0_2_11_A0_0_C0_0_AN4.08_-3.87_MCTS_L1_R0.0_10.0_PL1_EL1_0_0_s1000_r10_cI1.25_cB1000_e263.mp4\": 11, \"D113020_06091500_0_F8_E2_G['LMO', 1, 1, 1]_['LMO', 1, 1, 1]_ST0_2_SZ0_1_0_3_P6_4_12_13_A0_0_C0_0_AN-5.45_4.21_MCTS_L1_R0.0_10.0_PL1_EL1_0_0_s1000_r10_cI1.25_cB1000_e15.mp4\": 11, \"D083120_15034100_0_F8_E19_G['TE', 1, 0, -1]_['TE', 1, 0, 1]_ST2_2_SZ0_0_2_1_P2_14_6_0_A0_0_C0_0_AN-4.66_2.27_MCTS_L1_R-10.0_0.0_PL1_EL1_0_0_s1000_r10_cI1.25_cB1000_e177.mp4\": 11, \"D090220_08542000_0_F8_E13_G['LMO', 1, 1, 1]_['LMO', 1, 3, 1]_ST1_2_SZ0_0_1_0_P4_1_17_1_A0_0_C0_0_AN-6.11_-1.82_MCTS_L1_R0.0_0.0_PL1_EL1_0_0_s1000_r10_cI1.25_cB1000_e38.mp4\": 11, \"D082720_19493400_0_F8_E12_G['LMA', 0, 0, 1]_['LMA', 1, 0, 1]_ST3_0_SZ0_0_3_1_P7_5_17_5_A0_0_C0_0_AN-1.92_-6.09_MCTS_L6_R0.0_0.0_PL1_EL1_0_0_s1000_r10_cI1.25_cB1000_e358.mp4\": 11, \"D090220_18142800_0_F8_E10_G['TE', 0, 1, 1]_['TE', 0, 1, -1]_ST2_3_SZ0_0_3_0_P4_0_4_14_A0_0_C0_0_AN0.55_-4.59_MCTS_L1_R0.0_-10.0_PL1_EL1_0_0_s1000_r10_cI1.25_cB1000_e124.mp4\": 11, \"D082020_13573000_0_F8_E6_G['LMO', 1, 1, 1]_['LMO', 1, 1, 1]_ST2_0_SZ3_0_3_0_P2_7_14_0_A0_0_C0_0_AN-0.84_-2.24_MCTS_L1_R0.0_0.0_PL1_EL1_0_0_s1000_r10_cI1.25_cB1000_e99.mp4\": 11, \"D082720_16313100_0_F8_E14_G['LMO', 0, 2, 1]_['LMA', 1, 0, 1]_ST1_1_SZ0_0_0_1_P3_5_14_16_A0_0_C0_0_AN-1.26_5.41_MCTS_L6_R0.0_0.0_PL1_EL1_0_0_s1000_r10_cI1.25_cB1000_e87.mp4\": 11, \"D120120_00485500_0_F8_E6_G['LMO', 0, 3, 1]_['LMO', 0, 3, 1]_ST0_2_SZ0_2_0_3_P4_7_4_0_A0_0_C0_0_AN-2.35_-0.33_MCTS_L1_R0.0_10.0_PL1_EL1_0_0_s1000_r10_cI1.25_cB1000_e39.mp4\": 11, \"D083120_23122400_0_F8_E13_G['TE', 0, 1, 1]_['TE', 0, 1, -1]_ST1_3_SZ3_0_3_3_P16_17_14_16_A0_0_C0_0_AN2.11_-2.66_MCTS_L1_R0.0_-10.0_PL1_EL1_0_0_s1000_r10_cI1.25_cB1000_e101.mp4\": 11, \"D121120_19145700_0_F8_E6_G['LMO', 0, 1, 1]_['LMO', 0, 1, 1]_ST0_2_SZ0_0_1_2_P13_0_6_1_A0_0_C0_0_AN-4.0_2.9_MCTS_L1_R0.0_10.0_PL1_EL1_0_0_s1000_r10_cI1.25_cB1000_e46.mp4\": 11, \"D083120_11411800_0_F8_E13_G['LMO', 1, 2, 1]_['LMO', 1, 2, -1]_ST3_3_SZ0_0_3_1_P5_0_16_5_A0_0_C0_0_AN-3.19_-3.83_MCTS_L1_R0.0_-10.0_PL1_EL1_0_0_s1000_r10_cI1.25_cB1000_e390.mp4\": 11, \"D083020_15583600_0_F8_E18_G['TE', 1, 0, -1]_['TE', 1, 0, 1]_ST2_1_SZ0_0_1_3_P7_15_6_10_A0_0_C0_0_AN4.69_-3.67_MCTS_L1_R-10.0_0.0_PL1_EL1_0_0_s1000_r10_cI1.25_cB1000_e0.mp4\": 11, \"D083020_10485200_0_F8_E8_G['TE', 1, 0, -1]_['TE', 1, 0, 1]_ST3_2_SZ0_0_0_2_P11_6_7_0_A0_0_C0_0_AN-2.94_4.23_MCTS_L1_R-10.0_0.0_PL1_EL1_0_0_s1000_r10_cI1.25_cB1000_e91.mp4\": 11, \"D082720_10031000_0_F8_E14_G['LMA', 0, 3, 1]_['LMO', 0, 1, 1]_ST1_3_SZ0_0_0_1_P14_12_15_3_A0_0_C0_0_AN-2.77_-1.61_MCTS_L6_R0.0_0.0_PL1_EL1_0_0_s1000_r10_cI1.25_cB1000_e168.mp4\": 11, \"D090120_14423400_0_F8_E16_G['TE', 1, 0, -1]_['TE', 1, 0, 1]_ST1_2_SZ1_3_3_3_P6_12_17_0_A0_0_C0_0_AN-0.03_-1.64_MCTS_L1_R-10.0_0.0_PL1_EL1_0_0_s1000_r10_cI1.25_cB1000_e285.mp4\": 11, \"D081920_01561200_0_F8_E6_G['LMA', 1, 1, -1]_['LMA', 1, 1, 1]_ST2_1_SZ0_3_1_1_P4_6_5_4_A0_0_C0_0_AN-5.47_-0.63_MCTS_L1_R-10.0_0.0_PL1_EL1_0_0_s1000_r10_cI1.25_cB1000_e191.mp4\": 11, \"D082920_16450800_0_F8_E21_G['TE', 0, 1, 1]_['TE', 0, 1, -1]_ST1_1_SZ0_0_1_1_P2_0_5_10_A0_0_C0_0_AN-2.9_5.58_MCTS_L1_R0.0_-10.0_PL1_EL1_0_0_s1000_r10_cI1.25_cB1000_e280.mp4\": 11, \"D120720_04492500_0_F8_E19_G['LMO', 1, 3, 1]_['LMO', 1, 3, 1]_ST2_1_SZ3_2_0_0_P3_0_13_0_A0_0_C0_0_AN0.74_3.51_MCTS_L1_R0.0_0.0_PL1_EL1_0_0_s1000_r10_cI1.25_cB1000_e25.mp4\": 11, \"D082520_18020800_0_F8_E0_G['LMA', 0, 0, 1]_['LMA', 1, 0, 1]_ST3_2_SZ0_1_3_1_P2_6_4_7_A0_0_C0_0_AN-3.04_0.97_MCTS_L1_R0.0_0.0_PL1_EL1_0_0_s1000_r10_cI1.25_cB1000_e311.mp4\": 11, \"D082820_08482900_0_F8_E13_G['LMA', 0, 0, 1]_['LMO', 1, 2, 1]_ST3_2_SZ0_0_2_0_P13_13_17_10_A0_0_C0_0_AN5.8_1.75_MCTS_L6_R0.0_0.0_PL1_EL1_0_0_s1000_r10_cI1.25_cB1000_e190.mp4\": 11, \"D090120_01325500_0_F8_E2_G['LMA', 0, 1, 1]_['LMA', 0, 1, -1]_ST2_3_SZ1_3_2_2_P10_15_17_11_A0_0_C0_0_AN2.62_-4.14_MCTS_L1_R0.0_-10.0_PL1_EL1_0_0_s1000_r10_cI1.25_cB1000_e266.mp4\": 11, \"D121420_00140200_0_F8_E12_G['LMO', 0, 2, 1]_['LMO', 0, 2, 1]_ST1_2_SZ1_3_0_1_P17_11_3_15_A0_0_C0_0_AN-2.8_-5.86_MCTS_L1_R0.0_10.0_PL1_EL1_0_0_s1000_r10_cI1.25_cB1000_e54.mp4\": 11, \"D090120_11402200_0_F8_E18_G['TE', 0, 1, 1]_['TE', 0, 1, -1]_ST3_1_SZ0_0_3_1_P3_12_13_1_A0_0_C0_0_AN-3.0_-4.23_MCTS_L1_R0.0_-10.0_PL1_EL1_0_0_s1000_r10_cI1.25_cB1000_e189.mp4\": 11, \"D083020_22191500_0_F8_E6_G['LMA', 0, 3, 1]_['LMA', 1, 3, 1]_ST1_2_SZ3_1_3_2_P4_12_17_10_A0_0_C0_0_AN-5.8_1.23_MCTS_L1_R0.0_0.0_PL1_EL1_0_0_s1000_r10_cI1.25_cB1000_e241.mp4\": 11, \"D082420_21241100_0_F8_E12_G['LMA', 1, 0, -1]_['LMA', 1, 0, 1]_ST2_3_SZ0_0_0_0_P13_6_7_17_A0_0_C0_0_AN2.9_0.65_MCTS_L1_R-10.0_0.0_PL1_EL1_0_0_s1000_r10_cI1.25_cB1000_e334.mp4\": 11, \"D121220_01451700_0_F8_E6_G['LMO', 0, 2, 1]_['LMO', 0, 2, 1]_ST0_2_SZ0_3_2_3_P1_16_14_5_A0_0_C0_0_AN-3.6_-4.72_MCTS_L1_R0.0_10.0_PL1_EL1_0_0_s1000_r10_cI1.25_cB1000_e5.mp4\": 11, \"D083120_02432200_0_F8_E16_G['TE', 0, 1, 1]_['TE', 0, 1, -1]_ST2_2_SZ2_0_2_1_P3_7_10_11_A0_0_C0_0_AN5.66_4.39_MCTS_L1_R0.0_-10.0_PL1_EL1_0_0_s1000_r10_cI1.25_cB1000_e32.mp4\": 11, \"D090120_09521500_0_F8_E20_G['LMA', 1, 0, -1]_['LMA', 1, 0, 1]_ST1_3_SZ0_0_0_0_P4_13_3_14_A0_0_C0_0_AN2.69_3.56_MCTS_L1_R-10.0_0.0_PL1_EL1_0_0_s1000_r10_cI1.25_cB1000_e289.mp4\": 10, \"D083120_07490800_0_F8_E15_G['LMO', 0, 0, 1]_['LMO', 0, 1, 1]_ST1_3_SZ0_0_0_1_P14_11_6_3_A0_0_C0_0_AN-0.79_-3.5_MCTS_L1_R0.0_0.0_PL1_EL1_0_0_s1000_r10_cI1.25_cB1000_e84.mp4\": 10, \"D090120_22310100_0_F8_E12_G['TE', 0, 1, 1]_['TE', 0, 1, -1]_ST3_2_SZ0_1_2_2_P3_14_17_13_A0_0_C0_0_AN-4.05_1.07_MCTS_L1_R0.0_-10.0_PL1_EL1_0_0_s1000_r10_cI1.25_cB1000_e273.mp4\": 10, \"D083120_15080000_0_F8_E7_G['LMA', 1, 1, -1]_['LMA', 1, 1, 1]_ST3_3_SZ0_0_3_0_P5_15_11_5_A0_0_C0_0_AN4.42_5.71_MCTS_L1_R-10.0_0.0_PL1_EL1_0_0_s1000_r10_cI1.25_cB1000_e106.mp4\": 10, \"D083020_22225500_0_F8_E0_G['LMA', 0, 0, 1]_['LMO', 1, 0, 1]_ST3_2_SZ2_1_2_2_P2_2_6_12_A0_0_C0_0_AN-3.96_1.11_MCTS_L1_R0.0_0.0_PL1_EL1_0_0_s1000_r10_cI1.25_cB1000_e261.mp4\": 10, \"D083120_12032900_0_F8_E19_G['TE', 1, 0, -1]_['TE', 1, 0, 1]_ST2_2_SZ0_0_0_0_P15_10_5_12_A0_0_C0_0_AN2.0_-4.49_MCTS_L1_R-10.0_0.0_PL1_EL1_0_0_s1000_r10_cI1.25_cB1000_e81.mp4\": 10, \"D082820_02512600_0_F8_E20_G['LMO', 1, 1, 1]_['LMO', 0, 0, 1]_ST2_1_SZ0_0_0_0_P6_5_3_11_A0_0_C0_0_AN-1.59_5.12_MCTS_L6_R0.0_0.0_PL1_EL1_0_0_s1000_r10_cI1.25_cB1000_e148.mp4\": 10, \"D090120_16360800_0_F8_E4_G['LMO', 0, 3, 1]_['LMO', 0, 2, 1]_ST1_1_SZ0_0_0_2_P12_11_1_11_A0_0_C0_0_AN-6.23_-5.21_MCTS_L1_R0.0_0.0_PL1_EL1_0_0_s1000_r10_cI1.25_cB1000_e372.mp4\": 10, \"D090120_23064000_0_F8_E8_G['LMO', 0, 0, 1]_['LMO', 0, 0, 1]_ST3_3_SZ2_1_0_1_P3_10_2_11_A0_0_C0_0_AN-6.09_-3.35_MCTS_L1_R10.0_0.0_PL1_EL1_0_0_s1000_r10_cI1.25_cB1000_e283.mp4\": 10, \"D082420_08092000_0_F8_E14_G['LMA', 0, 3, 1]_['LMA', 0, 3, -1]_ST0_3_SZ0_0_2_1_P5_11_2_7_A0_0_C0_0_AN5.67_-3.29_MCTS_L1_R0.0_-10.0_PL1_EL1_0_0_s1000_r10_cI1.25_cB1000_e7.mp4\": 10, \"D082920_08570000_0_F8_E4_G['LMA', 0, 3, 1]_['LMA', 0, 3, 1]_ST0_3_SZ0_2_0_2_P10_3_3_2_A0_0_C0_0_AN0.08_-2.16_MCTS_L1_R0.0_10.0_PL1_EL1_0_0_s1000_r10_cI1.25_cB1000_e146.mp4\": 10, \"D090220_00370100_0_F8_E7_G['TE', 1, 0, -1]_['TE', 1, 0, 1]_ST1_1_SZ0_0_2_1_P15_6_16_5_A0_0_C0_0_AN1.84_-5.6_MCTS_L1_R-10.0_0.0_PL1_EL1_0_0_s1000_r10_cI1.25_cB1000_e176.mp4\": 10, \"D082720_21492000_0_F8_E7_G['LMO', 0, 0, 1]_['LMA', 1, 2, 1]_ST3_3_SZ3_1_2_3_P5_2_13_7_A0_0_C0_0_AN3.06_1.62_MCTS_L6_R0.0_0.0_PL1_EL1_0_0_s1000_r10_cI1.25_cB1000_e366.mp4\": 10, \"D083120_05403300_0_F8_E18_G['LMO', 0, 3, 1]_['LMO', 0, 3, 1]_ST3_2_SZ1_1_0_3_P17_2_17_4_A0_0_C0_0_AN-4.41_-5.88_MCTS_L1_R10.0_0.0_PL1_EL1_0_0_s1000_r10_cI1.25_cB1000_e172.mp4\": 10, \"D082420_04295800_0_F8_E8_G['LMA', 1, 0, -1]_['LMA', 1, 0, 1]_ST3_1_SZ1_0_2_0_P14_3_1_15_A0_0_C0_0_AN-6.14_1.77_MCTS_L1_R-10.0_0.0_PL1_EL1_0_0_s1000_r10_cI1.25_cB1000_e182.mp4\": 10, \"D082720_12582000_0_F8_E0_G['LMA', 0, 3, 1]_['LMO', 0, 1, 1]_ST1_1_SZ0_3_1_3_P14_14_7_6_A0_0_C0_0_AN-0.99_3.6_MCTS_L6_R0.0_0.0_PL1_EL1_0_0_s1000_r10_cI1.25_cB1000_e259.mp4\": 10, \"D083020_20113800_0_F8_E7_G['LMA', 0, 3, 1]_['LMA', 0, 3, -1]_ST3_3_SZ2_0_0_0_P6_11_14_12_A0_0_C0_0_AN3.87_4.47_MCTS_L1_R0.0_-10.0_PL1_EL1_0_0_s1000_r10_cI1.25_cB1000_e376.mp4\": 10, \"D121220_02084200_0_F8_E18_G['LMO', 0, 3, 1]_['LMO', 0, 3, 1]_ST0_2_SZ0_0_0_1_P12_1_12_4_A0_0_C0_0_AN-2.01_5.07_MCTS_L1_R0.0_10.0_PL1_EL1_0_0_s1000_r10_cI1.25_cB1000_e30.mp4\": 10, \"D113020_01485700_0_F8_E12_G['LMO', 1, 3, 1]_['LMO', 1, 3, 1]_ST0_2_SZ0_0_2_2_P0_7_11_10_A0_0_C0_0_AN-5.22_-3.73_MCTS_L1_R0.0_10.0_PL1_EL1_0_0_s1000_r10_cI1.25_cB1000_e4.mp4\": 10, \"D090220_02321700_0_F8_E15_G['LMO', 0, 2, 1]_['LMO', 0, 2, 1]_ST1_2_SZ1_2_0_2_P6_11_3_7_A0_0_C0_0_AN1.09_-5.09_MCTS_L1_R0.0_10.0_PL1_EL1_0_0_s1000_r10_cI1.25_cB1000_e119.mp4\": 10, \"D082320_20291600_0_F8_E10_G['LMO', 1, 2, 1]_['LMO', 1, 2, 1]_ST2_3_SZ0_0_1_0_P3_12_17_1_A0_0_C0_0_AN4.62_-0.36_MCTS_L1_R0.0_0.0_PL1_EL1_0_0_s1000_r10_cI1.25_cB1000_e257.mp4\": 10, \"D120120_11084500_0_F8_E15_G['LMO', 0, 3, 1]_['LMO', 0, 3, 1]_ST3_1_SZ1_1_0_0_P13_3_7_4_A0_0_C0_0_AN-6.18_-1.36_MCTS_L1_R10.0_0.0_PL1_EL1_0_0_s1000_r10_cI1.25_cB1000_e52.mp4\": 10, \"D082520_10351300_0_F8_E0_G['LMA', 0, 1, 1]_['LMO', 1, 1, 1]_ST0_0_SZ0_0_1_0_P11_4_16_15_A0_0_C0_0_AN-4.2_1.23_MCTS_L1_R0.0_0.0_PL1_EL1_0_0_s1000_r10_cI1.25_cB1000_e125.mp4\": 10, \"D121120_04091100_0_F8_E8_G['LMO', 1, 2, 1]_['LMO', 1, 2, 1]_ST0_1_SZ0_0_3_3_P15_12_16_3_A0_0_C0_0_AN1.85_5.41_MCTS_L1_R0.0_10.0_PL1_EL1_0_0_s1000_r10_cI1.25_cB1000_e36.mp4\": 10, \"D090120_06490600_0_F8_E17_G['LMO', 1, 2, 1]_['LMO', 1, 1, 1]_ST3_1_SZ0_0_0_0_P14_11_13_0_A0_0_C0_0_AN-1.94_-3.1_MCTS_L1_R0.0_0.0_PL1_EL1_0_0_s1000_r10_cI1.25_cB1000_e386.mp4\": 10, \"D082520_22541300_0_F8_E20_G['LMO', 0, 3, 1]_['LMO', 0, 3, 1]_ST0_1_SZ0_0_0_0_P11_15_17_7_A0_0_C0_0_AN-4.15_1.11_MCTS_L1_R0.0_0.0_PL1_EL1_0_0_s1000_r10_cI1.25_cB1000_e208.mp4\": 10, \"D083120_10525300_0_F8_E7_G['LMO', 0, 3, 1]_['LMO', 0, 0, 1]_ST1_3_SZ3_0_0_1_P12_11_7_14_A0_0_C0_0_AN2.75_0.82_MCTS_L1_R0.0_0.0_PL1_EL1_0_0_s1000_r10_cI1.25_cB1000_e194.mp4\": 10, \"D090120_02301000_0_F8_E2_G['LMO', 1, 0, 1]_['LMO', 1, 2, 1]_ST1_2_SZ1_1_3_3_P11_11_0_12_A0_0_C0_0_AN-3.82_2.19_MCTS_L1_R0.0_0.0_PL1_EL1_0_0_s1000_r10_cI1.25_cB1000_e316.mp4\": 10, \"D121120_22442800_0_F8_E17_G['LMO', 1, 0, 1]_['LMO', 1, 0, 1]_ST3_1_SZ3_1_2_0_P3_1_17_11_A0_0_C0_0_AN4.36_4.27_MCTS_L1_R0.0_0.0_PL1_EL1_0_0_s1000_r10_cI1.25_cB1000_e32.mp4\": 10, \"D082820_23533800_0_F8_E17_G['LMA', 0, 1, 1]_['LMO', 0, 2, 1]_ST1_3_SZ2_1_3_0_P17_16_12_10_A0_0_C0_0_AN-1.21_1.54_MCTS_L8_R0.0_0.0_PL1_EL1_0_0_s1000_r10_cI1.25_cB1000_e136.mp4\": 10, \"D082720_23562700_0_F8_E15_G['LMO', 1, 3, 1]_['LMA', 1, 1, 1]_ST0_2_SZ0_0_1_0_P7_0_13_16_A0_0_C0_0_AN-5.41_3.54_MCTS_L6_R0.0_0.0_PL1_EL1_0_0_s1000_r10_cI1.25_cB1000_e299.mp4\": 10, \"D081920_08023200_0_F8_E6_G['LMO', 1, 0, 1]_['LMO', 1, 0, 1]_ST0_1_SZ0_1_0_1_P2_3_4_1_A0_0_C0_0_AN6.18_-0.5_MCTS_L1_R0.0_0.0_PL1_EL1_0_0_s1000_r10_cI1.25_cB1000_e383.mp4\": 10, \"D090220_04135600_0_F8_E12_G['LMO', 1, 3, 1]_['LMO', 1, 3, 1]_ST1_3_SZ3_1_2_0_P17_11_7_17_A0_0_C0_0_AN1.21_-1.48_MCTS_L1_R10.0_0.0_PL1_EL1_0_0_s1000_r10_cI1.25_cB1000_e175.mp4\": 10, \"D113020_15404600_0_F8_E8_G['LMO', 0, 1, 1]_['LMO', 0, 1, 1]_ST0_2_SZ0_0_0_0_P0_15_10_6_A0_0_C0_0_AN3.41_4.69_MCTS_L1_R0.0_10.0_PL1_EL1_0_0_s1000_r10_cI1.25_cB1000_e63.mp4\": 10, \"D082920_03250900_0_F8_E10_G['LMO', 1, 0, 1]_['LMA', 1, 0, 1]_ST0_2_SZ0_0_2_0_P7_4_4_3_A0_0_C0_0_AN0.39_4.92_MCTS_L8_R0.0_0.0_PL1_EL1_0_0_s1000_r10_cI1.25_cB1000_e238.mp4\": 10, \"D082720_13330200_0_F8_E6_G['LMA', 0, 2, 1]_['LMA', 1, 0, 1]_ST2_0_SZ2_0_3_3_P15_13_15_14_A0_0_C0_0_AN-4.32_2.27_MCTS_L6_R0.0_0.0_PL1_EL1_0_0_s1000_r10_cI1.25_cB1000_e310.mp4\": 10, \"D090220_08575700_0_F8_E18_G['TE', 1, 0, -1]_['TE', 1, 0, 1]_ST1_2_SZ0_0_3_1_P15_13_16_15_A0_0_C0_0_AN0.22_3.15_MCTS_L1_R-10.0_0.0_PL1_EL1_0_0_s1000_r10_cI1.25_cB1000_e137.mp4\": 10, \"D082920_08152400_0_F8_E18_G['LMO', 0, 3, 1]_['LMO', 0, 3, 1]_ST1_3_SZ0_2_0_0_P13_3_13_2_A0_0_C0_0_AN1.17_1.39_MCTS_L1_R10.0_0.0_PL1_EL1_0_0_s1000_r10_cI1.25_cB1000_e318.mp4\": 10, \"D121020_23234500_0_F8_E16_G['LMO', 1, 1, 1]_['LMO', 1, 1, 1]_ST0_3_SZ0_0_0_1_P0_13_11_14_A0_0_C0_0_AN4.21_0.06_MCTS_L1_R0.0_10.0_PL1_EL1_0_0_s1000_r10_cI1.25_cB1000_e42.mp4\": 10, \"D083120_04303000_0_F8_E19_G['TE', 0, 1, 1]_['TE', 0, 1, -1]_ST2_2_SZ0_0_1_1_P2_13_6_10_A0_0_C0_0_AN-1.26_-5.45_MCTS_L1_R0.0_-10.0_PL1_EL1_0_0_s1000_r10_cI1.25_cB1000_e158.mp4\": 10})\n",
            "Counter({'White': 203, 'Hispanic or Latino': 34, 'Asian': 32, 'Black or African American': 17, 'Other': 10, 'American Indian or Alaska Native': 1, 'Native Hawaiian or Other Pacific Islander': 1})\n",
            "Counter({'Female': 158, 'Male': 137, 'Other': 3})\n",
            "18 68 27.07046979865772\n"
          ]
        },
        {
          "output_type": "display_data",
          "data": {
            "text/plain": [
              "                                                                                       relationship\n",
              "videos                                                                                             \n",
              "D081820_13363300_0_F8_E0_G['LMO', 0, 2, 1]_['LM...               {'adversarial': 2, 'friendly': 11}\n",
              "D081820_16545200_0_F8_E2_G['LMA', 0, 1, 1]_['LM...                              {'adversarial': 14}\n",
              "D081920_01561200_0_F8_E6_G['LMA', 1, 1, -1]_['L...                {'adversarial': 10, 'neutral': 1}\n",
              "D081920_03595900_0_F8_E7_G['LMA', 1, 2, -1]_['L...  {'neutral': 1, 'adversarial': 7, 'friendly': 3}\n",
              "D081920_08023200_0_F8_E6_G['LMO', 1, 0, 1]_['LM...                                 {'friendly': 10}\n",
              "...                                                                                             ...\n",
              "D121320_07145900_0_F8_E20_G['LMO', 0, 2, 1]_['L...                    {'neutral': 5, 'friendly': 8}\n",
              "D121320_13405400_0_F8_E12_G['LMO', 1, 2, 1]_['L...                   {'friendly': 10, 'neutral': 1}\n",
              "D121420_00140200_0_F8_E12_G['LMO', 0, 2, 1]_['L...                    {'friendly': 9, 'neutral': 2}\n",
              "D121420_08260200_0_F8_E13_G['LMO', 0, 2, 1]_['L...  {'friendly': 8, 'neutral': 3, 'adversarial': 1}\n",
              "D121420_09132200_0_F8_E8_G['LMO', 0, 3, 1]_['LM...  {'neutral': 5, 'friendly': 7, 'adversarial': 1}\n",
              "\n",
              "[403 rows x 1 columns]"
            ],
            "text/html": [
              "\n",
              "  <div id=\"df-a92199fd-0c04-4b9a-ae3c-4f673f974ad2\">\n",
              "    <div class=\"colab-df-container\">\n",
              "      <div>\n",
              "<style scoped>\n",
              "    .dataframe tbody tr th:only-of-type {\n",
              "        vertical-align: middle;\n",
              "    }\n",
              "\n",
              "    .dataframe tbody tr th {\n",
              "        vertical-align: top;\n",
              "    }\n",
              "\n",
              "    .dataframe thead th {\n",
              "        text-align: right;\n",
              "    }\n",
              "</style>\n",
              "<table border=\"1\" class=\"dataframe\">\n",
              "  <thead>\n",
              "    <tr style=\"text-align: right;\">\n",
              "      <th></th>\n",
              "      <th>relationship</th>\n",
              "    </tr>\n",
              "    <tr>\n",
              "      <th>videos</th>\n",
              "      <th></th>\n",
              "    </tr>\n",
              "  </thead>\n",
              "  <tbody>\n",
              "    <tr>\n",
              "      <th>D081820_13363300_0_F8_E0_G['LMO', 0, 2, 1]_['LMO', 0, 2, 1]_ST1_2_SZ0_3_0_3_P13_13_12_10_A0_0_C0_0_AN-0.12_4.61_MCTS_L1_R0.0_10.0_PL1_EL1_0_0_s1000_r10_cI1.25_cB1000_e61.mp4</th>\n",
              "      <td>{'adversarial': 2, 'friendly': 11}</td>\n",
              "    </tr>\n",
              "    <tr>\n",
              "      <th>D081820_16545200_0_F8_E2_G['LMA', 0, 1, 1]_['LMA', 0, 1, -1]_ST1_3_SZ0_1_0_1_P2_2_3_2_A0_0_C0_0_AN-1.91_-2.23_MCTS_L1_R0.0_-10.0_PL1_EL1_0_0_s1000_r10_cI1.25_cB1000_e314.mp4</th>\n",
              "      <td>{'adversarial': 14}</td>\n",
              "    </tr>\n",
              "    <tr>\n",
              "      <th>D081920_01561200_0_F8_E6_G['LMA', 1, 1, -1]_['LMA', 1, 1, 1]_ST2_1_SZ0_3_1_1_P4_6_5_4_A0_0_C0_0_AN-5.47_-0.63_MCTS_L1_R-10.0_0.0_PL1_EL1_0_0_s1000_r10_cI1.25_cB1000_e191.mp4</th>\n",
              "      <td>{'adversarial': 10, 'neutral': 1}</td>\n",
              "    </tr>\n",
              "    <tr>\n",
              "      <th>D081920_03595900_0_F8_E7_G['LMA', 1, 2, -1]_['LMA', 1, 2, 1]_ST1_1_SZ3_0_1_1_P3_4_3_12_A0_0_C0_0_AN3.44_2.49_MCTS_L1_R-10.0_0.0_PL1_EL1_0_0_s1000_r10_cI1.25_cB1000_e90.mp4</th>\n",
              "      <td>{'neutral': 1, 'adversarial': 7, 'friendly': 3}</td>\n",
              "    </tr>\n",
              "    <tr>\n",
              "      <th>D081920_08023200_0_F8_E6_G['LMO', 1, 0, 1]_['LMO', 1, 0, 1]_ST0_1_SZ0_1_0_1_P2_3_4_1_A0_0_C0_0_AN6.18_-0.5_MCTS_L1_R0.0_0.0_PL1_EL1_0_0_s1000_r10_cI1.25_cB1000_e383.mp4</th>\n",
              "      <td>{'friendly': 10}</td>\n",
              "    </tr>\n",
              "    <tr>\n",
              "      <th>...</th>\n",
              "      <td>...</td>\n",
              "    </tr>\n",
              "    <tr>\n",
              "      <th>D121320_07145900_0_F8_E20_G['LMO', 0, 2, 1]_['LMO', 0, 2, 1]_ST1_1_SZ2_3_0_0_P11_17_3_17_A0_0_C0_0_AN-5.44_1.29_MCTS_L1_R10.0_0.0_PL1_EL1_0_0_s1000_r10_cI1.25_cB1000_e57.mp4</th>\n",
              "      <td>{'neutral': 5, 'friendly': 8}</td>\n",
              "    </tr>\n",
              "    <tr>\n",
              "      <th>D121320_13405400_0_F8_E12_G['LMO', 1, 2, 1]_['LMO', 1, 2, 1]_ST1_2_SZ1_3_1_0_P17_11_15_3_A0_0_C0_0_AN-2.8_-5.86_MCTS_L1_R0.0_10.0_PL1_EL1_0_0_s1000_r10_cI1.25_cB1000_e75.mp4</th>\n",
              "      <td>{'friendly': 10, 'neutral': 1}</td>\n",
              "    </tr>\n",
              "    <tr>\n",
              "      <th>D121420_00140200_0_F8_E12_G['LMO', 0, 2, 1]_['LMO', 0, 2, 1]_ST1_2_SZ1_3_0_1_P17_11_3_15_A0_0_C0_0_AN-2.8_-5.86_MCTS_L1_R0.0_10.0_PL1_EL1_0_0_s1000_r10_cI1.25_cB1000_e54.mp4</th>\n",
              "      <td>{'friendly': 9, 'neutral': 2}</td>\n",
              "    </tr>\n",
              "    <tr>\n",
              "      <th>D121420_08260200_0_F8_E13_G['LMO', 0, 2, 1]_['LMO', 0, 2, 1]_ST2_3_SZ2_2_0_1_P7_2_15_3_A0_0_C0_0_AN-0.76_4.09_MCTS_L1_R0.0_0.0_PL1_EL1_0_0_s1000_r10_cI1.25_cB1000_e56.mp4</th>\n",
              "      <td>{'friendly': 8, 'neutral': 3, 'adversarial': 1}</td>\n",
              "    </tr>\n",
              "    <tr>\n",
              "      <th>D121420_09132200_0_F8_E8_G['LMO', 0, 3, 1]_['LMO', 0, 3, 1]_ST1_1_SZ2_1_0_0_P1_2_1_6_A0_0_C0_0_AN-2.13_3.27_MCTS_L1_R10.0_0.0_PL1_EL1_0_0_s1000_r10_cI1.25_cB1000_e21.mp4</th>\n",
              "      <td>{'neutral': 5, 'friendly': 7, 'adversarial': 1}</td>\n",
              "    </tr>\n",
              "  </tbody>\n",
              "</table>\n",
              "<p>403 rows × 1 columns</p>\n",
              "</div>\n",
              "      <button class=\"colab-df-convert\" onclick=\"convertToInteractive('df-a92199fd-0c04-4b9a-ae3c-4f673f974ad2')\"\n",
              "              title=\"Convert this dataframe to an interactive table.\"\n",
              "              style=\"display:none;\">\n",
              "        \n",
              "  <svg xmlns=\"http://www.w3.org/2000/svg\" height=\"24px\"viewBox=\"0 0 24 24\"\n",
              "       width=\"24px\">\n",
              "    <path d=\"M0 0h24v24H0V0z\" fill=\"none\"/>\n",
              "    <path d=\"M18.56 5.44l.94 2.06.94-2.06 2.06-.94-2.06-.94-.94-2.06-.94 2.06-2.06.94zm-11 1L8.5 8.5l.94-2.06 2.06-.94-2.06-.94L8.5 2.5l-.94 2.06-2.06.94zm10 10l.94 2.06.94-2.06 2.06-.94-2.06-.94-.94-2.06-.94 2.06-2.06.94z\"/><path d=\"M17.41 7.96l-1.37-1.37c-.4-.4-.92-.59-1.43-.59-.52 0-1.04.2-1.43.59L10.3 9.45l-7.72 7.72c-.78.78-.78 2.05 0 2.83L4 21.41c.39.39.9.59 1.41.59.51 0 1.02-.2 1.41-.59l7.78-7.78 2.81-2.81c.8-.78.8-2.07 0-2.86zM5.41 20L4 18.59l7.72-7.72 1.47 1.35L5.41 20z\"/>\n",
              "  </svg>\n",
              "      </button>\n",
              "      \n",
              "  <style>\n",
              "    .colab-df-container {\n",
              "      display:flex;\n",
              "      flex-wrap:wrap;\n",
              "      gap: 12px;\n",
              "    }\n",
              "\n",
              "    .colab-df-convert {\n",
              "      background-color: #E8F0FE;\n",
              "      border: none;\n",
              "      border-radius: 50%;\n",
              "      cursor: pointer;\n",
              "      display: none;\n",
              "      fill: #1967D2;\n",
              "      height: 32px;\n",
              "      padding: 0 0 0 0;\n",
              "      width: 32px;\n",
              "    }\n",
              "\n",
              "    .colab-df-convert:hover {\n",
              "      background-color: #E2EBFA;\n",
              "      box-shadow: 0px 1px 2px rgba(60, 64, 67, 0.3), 0px 1px 3px 1px rgba(60, 64, 67, 0.15);\n",
              "      fill: #174EA6;\n",
              "    }\n",
              "\n",
              "    [theme=dark] .colab-df-convert {\n",
              "      background-color: #3B4455;\n",
              "      fill: #D2E3FC;\n",
              "    }\n",
              "\n",
              "    [theme=dark] .colab-df-convert:hover {\n",
              "      background-color: #434B5C;\n",
              "      box-shadow: 0px 1px 3px 1px rgba(0, 0, 0, 0.15);\n",
              "      filter: drop-shadow(0px 1px 2px rgba(0, 0, 0, 0.3));\n",
              "      fill: #FFFFFF;\n",
              "    }\n",
              "  </style>\n",
              "\n",
              "      <script>\n",
              "        const buttonEl =\n",
              "          document.querySelector('#df-a92199fd-0c04-4b9a-ae3c-4f673f974ad2 button.colab-df-convert');\n",
              "        buttonEl.style.display =\n",
              "          google.colab.kernel.accessAllowed ? 'block' : 'none';\n",
              "\n",
              "        async function convertToInteractive(key) {\n",
              "          const element = document.querySelector('#df-a92199fd-0c04-4b9a-ae3c-4f673f974ad2');\n",
              "          const dataTable =\n",
              "            await google.colab.kernel.invokeFunction('convertToInteractive',\n",
              "                                                     [key], {});\n",
              "          if (!dataTable) return;\n",
              "\n",
              "          const docLinkHtml = 'Like what you see? Visit the ' +\n",
              "            '<a target=\"_blank\" href=https://colab.research.google.com/notebooks/data_table.ipynb>data table notebook</a>'\n",
              "            + ' to learn more about interactive tables.';\n",
              "          element.innerHTML = '';\n",
              "          dataTable['output_type'] = 'display_data';\n",
              "          await google.colab.output.renderOutput(dataTable, element);\n",
              "          const docLink = document.createElement('div');\n",
              "          docLink.innerHTML = docLinkHtml;\n",
              "          element.appendChild(docLink);\n",
              "        }\n",
              "      </script>\n",
              "    </div>\n",
              "  </div>\n",
              "  "
            ]
          },
          "metadata": {}
        },
        {
          "output_type": "execute_result",
          "data": {
            "text/plain": [
              "\" for range of no. of raters per video\\nHR = data.groupby(by='videos').agg(lambda x: len(x))\\nimport numpy as np\\nx = sorted(HR['relationship'])[:-3]\\nprint(sorted(x))\\nprint(min(x), max(x), len(x), np.median(x))\\n\""
            ],
            "application/vnd.google.colaboratory.intrinsic+json": {
              "type": "string"
            }
          },
          "metadata": {},
          "execution_count": 38
        }
      ]
    },
    {
      "cell_type": "markdown",
      "source": [
        "### HR final labels"
      ],
      "metadata": {
        "id": "gJUVn6lClvV0"
      }
    },
    {
      "cell_type": "code",
      "source": [
        "from scipy import stats\n",
        "final_labels = data.groupby(by='videos').agg(lambda x: stats.mode(x)[0][0])\n",
        "\n",
        "final_labels = final_labels.drop(a)\n",
        "final_labels = final_labels.drop(f)\n",
        "final_labels = final_labels.drop(n)\n",
        "\n",
        "final_labels_dict = final_labels.to_dict('index')\n",
        "\n",
        "display(final_labels)\n",
        "print(Counter(final_labels.relationship))"
      ],
      "metadata": {
        "colab": {
          "base_uri": "https://localhost:8080/",
          "height": 472
        },
        "id": "X-VhiJe4lwax",
        "outputId": "638c8fa8-95ea-436c-da2f-4d562f15d3b9"
      },
      "execution_count": null,
      "outputs": [
        {
          "output_type": "display_data",
          "data": {
            "text/plain": [
              "                                                   relationship\n",
              "videos                                                         \n",
              "D081820_13363300_0_F8_E0_G['LMO', 0, 2, 1]_['LM...     friendly\n",
              "D081820_16545200_0_F8_E2_G['LMA', 0, 1, 1]_['LM...  adversarial\n",
              "D081920_01561200_0_F8_E6_G['LMA', 1, 1, -1]_['L...  adversarial\n",
              "D081920_03595900_0_F8_E7_G['LMA', 1, 2, -1]_['L...  adversarial\n",
              "D081920_08023200_0_F8_E6_G['LMO', 1, 0, 1]_['LM...     friendly\n",
              "...                                                         ...\n",
              "D121320_07145900_0_F8_E20_G['LMO', 0, 2, 1]_['L...     friendly\n",
              "D121320_13405400_0_F8_E12_G['LMO', 1, 2, 1]_['L...     friendly\n",
              "D121420_00140200_0_F8_E12_G['LMO', 0, 2, 1]_['L...     friendly\n",
              "D121420_08260200_0_F8_E13_G['LMO', 0, 2, 1]_['L...     friendly\n",
              "D121420_09132200_0_F8_E8_G['LMO', 0, 3, 1]_['LM...     friendly\n",
              "\n",
              "[400 rows x 1 columns]"
            ],
            "text/html": [
              "\n",
              "  <div id=\"df-8641b084-46b9-4d52-86d0-640d9be2151b\">\n",
              "    <div class=\"colab-df-container\">\n",
              "      <div>\n",
              "<style scoped>\n",
              "    .dataframe tbody tr th:only-of-type {\n",
              "        vertical-align: middle;\n",
              "    }\n",
              "\n",
              "    .dataframe tbody tr th {\n",
              "        vertical-align: top;\n",
              "    }\n",
              "\n",
              "    .dataframe thead th {\n",
              "        text-align: right;\n",
              "    }\n",
              "</style>\n",
              "<table border=\"1\" class=\"dataframe\">\n",
              "  <thead>\n",
              "    <tr style=\"text-align: right;\">\n",
              "      <th></th>\n",
              "      <th>relationship</th>\n",
              "    </tr>\n",
              "    <tr>\n",
              "      <th>videos</th>\n",
              "      <th></th>\n",
              "    </tr>\n",
              "  </thead>\n",
              "  <tbody>\n",
              "    <tr>\n",
              "      <th>D081820_13363300_0_F8_E0_G['LMO', 0, 2, 1]_['LMO', 0, 2, 1]_ST1_2_SZ0_3_0_3_P13_13_12_10_A0_0_C0_0_AN-0.12_4.61_MCTS_L1_R0.0_10.0_PL1_EL1_0_0_s1000_r10_cI1.25_cB1000_e61.mp4</th>\n",
              "      <td>friendly</td>\n",
              "    </tr>\n",
              "    <tr>\n",
              "      <th>D081820_16545200_0_F8_E2_G['LMA', 0, 1, 1]_['LMA', 0, 1, -1]_ST1_3_SZ0_1_0_1_P2_2_3_2_A0_0_C0_0_AN-1.91_-2.23_MCTS_L1_R0.0_-10.0_PL1_EL1_0_0_s1000_r10_cI1.25_cB1000_e314.mp4</th>\n",
              "      <td>adversarial</td>\n",
              "    </tr>\n",
              "    <tr>\n",
              "      <th>D081920_01561200_0_F8_E6_G['LMA', 1, 1, -1]_['LMA', 1, 1, 1]_ST2_1_SZ0_3_1_1_P4_6_5_4_A0_0_C0_0_AN-5.47_-0.63_MCTS_L1_R-10.0_0.0_PL1_EL1_0_0_s1000_r10_cI1.25_cB1000_e191.mp4</th>\n",
              "      <td>adversarial</td>\n",
              "    </tr>\n",
              "    <tr>\n",
              "      <th>D081920_03595900_0_F8_E7_G['LMA', 1, 2, -1]_['LMA', 1, 2, 1]_ST1_1_SZ3_0_1_1_P3_4_3_12_A0_0_C0_0_AN3.44_2.49_MCTS_L1_R-10.0_0.0_PL1_EL1_0_0_s1000_r10_cI1.25_cB1000_e90.mp4</th>\n",
              "      <td>adversarial</td>\n",
              "    </tr>\n",
              "    <tr>\n",
              "      <th>D081920_08023200_0_F8_E6_G['LMO', 1, 0, 1]_['LMO', 1, 0, 1]_ST0_1_SZ0_1_0_1_P2_3_4_1_A0_0_C0_0_AN6.18_-0.5_MCTS_L1_R0.0_0.0_PL1_EL1_0_0_s1000_r10_cI1.25_cB1000_e383.mp4</th>\n",
              "      <td>friendly</td>\n",
              "    </tr>\n",
              "    <tr>\n",
              "      <th>...</th>\n",
              "      <td>...</td>\n",
              "    </tr>\n",
              "    <tr>\n",
              "      <th>D121320_07145900_0_F8_E20_G['LMO', 0, 2, 1]_['LMO', 0, 2, 1]_ST1_1_SZ2_3_0_0_P11_17_3_17_A0_0_C0_0_AN-5.44_1.29_MCTS_L1_R10.0_0.0_PL1_EL1_0_0_s1000_r10_cI1.25_cB1000_e57.mp4</th>\n",
              "      <td>friendly</td>\n",
              "    </tr>\n",
              "    <tr>\n",
              "      <th>D121320_13405400_0_F8_E12_G['LMO', 1, 2, 1]_['LMO', 1, 2, 1]_ST1_2_SZ1_3_1_0_P17_11_15_3_A0_0_C0_0_AN-2.8_-5.86_MCTS_L1_R0.0_10.0_PL1_EL1_0_0_s1000_r10_cI1.25_cB1000_e75.mp4</th>\n",
              "      <td>friendly</td>\n",
              "    </tr>\n",
              "    <tr>\n",
              "      <th>D121420_00140200_0_F8_E12_G['LMO', 0, 2, 1]_['LMO', 0, 2, 1]_ST1_2_SZ1_3_0_1_P17_11_3_15_A0_0_C0_0_AN-2.8_-5.86_MCTS_L1_R0.0_10.0_PL1_EL1_0_0_s1000_r10_cI1.25_cB1000_e54.mp4</th>\n",
              "      <td>friendly</td>\n",
              "    </tr>\n",
              "    <tr>\n",
              "      <th>D121420_08260200_0_F8_E13_G['LMO', 0, 2, 1]_['LMO', 0, 2, 1]_ST2_3_SZ2_2_0_1_P7_2_15_3_A0_0_C0_0_AN-0.76_4.09_MCTS_L1_R0.0_0.0_PL1_EL1_0_0_s1000_r10_cI1.25_cB1000_e56.mp4</th>\n",
              "      <td>friendly</td>\n",
              "    </tr>\n",
              "    <tr>\n",
              "      <th>D121420_09132200_0_F8_E8_G['LMO', 0, 3, 1]_['LMO', 0, 3, 1]_ST1_1_SZ2_1_0_0_P1_2_1_6_A0_0_C0_0_AN-2.13_3.27_MCTS_L1_R10.0_0.0_PL1_EL1_0_0_s1000_r10_cI1.25_cB1000_e21.mp4</th>\n",
              "      <td>friendly</td>\n",
              "    </tr>\n",
              "  </tbody>\n",
              "</table>\n",
              "<p>400 rows × 1 columns</p>\n",
              "</div>\n",
              "      <button class=\"colab-df-convert\" onclick=\"convertToInteractive('df-8641b084-46b9-4d52-86d0-640d9be2151b')\"\n",
              "              title=\"Convert this dataframe to an interactive table.\"\n",
              "              style=\"display:none;\">\n",
              "        \n",
              "  <svg xmlns=\"http://www.w3.org/2000/svg\" height=\"24px\"viewBox=\"0 0 24 24\"\n",
              "       width=\"24px\">\n",
              "    <path d=\"M0 0h24v24H0V0z\" fill=\"none\"/>\n",
              "    <path d=\"M18.56 5.44l.94 2.06.94-2.06 2.06-.94-2.06-.94-.94-2.06-.94 2.06-2.06.94zm-11 1L8.5 8.5l.94-2.06 2.06-.94-2.06-.94L8.5 2.5l-.94 2.06-2.06.94zm10 10l.94 2.06.94-2.06 2.06-.94-2.06-.94-.94-2.06-.94 2.06-2.06.94z\"/><path d=\"M17.41 7.96l-1.37-1.37c-.4-.4-.92-.59-1.43-.59-.52 0-1.04.2-1.43.59L10.3 9.45l-7.72 7.72c-.78.78-.78 2.05 0 2.83L4 21.41c.39.39.9.59 1.41.59.51 0 1.02-.2 1.41-.59l7.78-7.78 2.81-2.81c.8-.78.8-2.07 0-2.86zM5.41 20L4 18.59l7.72-7.72 1.47 1.35L5.41 20z\"/>\n",
              "  </svg>\n",
              "      </button>\n",
              "      \n",
              "  <style>\n",
              "    .colab-df-container {\n",
              "      display:flex;\n",
              "      flex-wrap:wrap;\n",
              "      gap: 12px;\n",
              "    }\n",
              "\n",
              "    .colab-df-convert {\n",
              "      background-color: #E8F0FE;\n",
              "      border: none;\n",
              "      border-radius: 50%;\n",
              "      cursor: pointer;\n",
              "      display: none;\n",
              "      fill: #1967D2;\n",
              "      height: 32px;\n",
              "      padding: 0 0 0 0;\n",
              "      width: 32px;\n",
              "    }\n",
              "\n",
              "    .colab-df-convert:hover {\n",
              "      background-color: #E2EBFA;\n",
              "      box-shadow: 0px 1px 2px rgba(60, 64, 67, 0.3), 0px 1px 3px 1px rgba(60, 64, 67, 0.15);\n",
              "      fill: #174EA6;\n",
              "    }\n",
              "\n",
              "    [theme=dark] .colab-df-convert {\n",
              "      background-color: #3B4455;\n",
              "      fill: #D2E3FC;\n",
              "    }\n",
              "\n",
              "    [theme=dark] .colab-df-convert:hover {\n",
              "      background-color: #434B5C;\n",
              "      box-shadow: 0px 1px 3px 1px rgba(0, 0, 0, 0.15);\n",
              "      filter: drop-shadow(0px 1px 2px rgba(0, 0, 0, 0.3));\n",
              "      fill: #FFFFFF;\n",
              "    }\n",
              "  </style>\n",
              "\n",
              "      <script>\n",
              "        const buttonEl =\n",
              "          document.querySelector('#df-8641b084-46b9-4d52-86d0-640d9be2151b button.colab-df-convert');\n",
              "        buttonEl.style.display =\n",
              "          google.colab.kernel.accessAllowed ? 'block' : 'none';\n",
              "\n",
              "        async function convertToInteractive(key) {\n",
              "          const element = document.querySelector('#df-8641b084-46b9-4d52-86d0-640d9be2151b');\n",
              "          const dataTable =\n",
              "            await google.colab.kernel.invokeFunction('convertToInteractive',\n",
              "                                                     [key], {});\n",
              "          if (!dataTable) return;\n",
              "\n",
              "          const docLinkHtml = 'Like what you see? Visit the ' +\n",
              "            '<a target=\"_blank\" href=https://colab.research.google.com/notebooks/data_table.ipynb>data table notebook</a>'\n",
              "            + ' to learn more about interactive tables.';\n",
              "          element.innerHTML = '';\n",
              "          dataTable['output_type'] = 'display_data';\n",
              "          await google.colab.output.renderOutput(dataTable, element);\n",
              "          const docLink = document.createElement('div');\n",
              "          docLink.innerHTML = docLinkHtml;\n",
              "          element.appendChild(docLink);\n",
              "        }\n",
              "      </script>\n",
              "    </div>\n",
              "  </div>\n",
              "  "
            ]
          },
          "metadata": {}
        },
        {
          "output_type": "stream",
          "name": "stdout",
          "text": [
            "Counter({'friendly': 161, 'adversarial': 154, 'neutral': 85})\n"
          ]
        }
      ]
    },
    {
      "cell_type": "markdown",
      "source": [
        "### HR agreement"
      ],
      "metadata": {
        "id": "JMhJtSLLlbtL"
      }
    },
    {
      "cell_type": "code",
      "source": [
        "def agreement_ratings(ratings):\n",
        "  mapping = {'friendly': 0, 'Friendly': 0, 'neutral': 1, 'Neutral' : 1, 'adversarial': 2, 'Adversarial' : 2}\n",
        "  ratings_int = [mapping[x] for x in ratings]\n",
        "  #median = np.median(ratings_int)\n",
        "  mode = scipy.stats.mode(ratings_int)[0][0]\n",
        "  ratings_int.count(mode)\n",
        "  return ratings_int.count(mode)/len(ratings_int)\n",
        "\n",
        "HR_agreement = data.groupby(by='videos').agg(lambda x: agreement_ratings(x))\n",
        "\n",
        "HR_agreement = HR_agreement.drop(a)\n",
        "HR_agreement = HR_agreement.drop(f)\n",
        "HR_agreement = HR_agreement.drop(n)\n",
        "\n",
        "print(\"\\n\\nAgreement in ratings across videos:\", HR_agreement['relationship'].mean())\n",
        "#HR_agreement.index = HR_agreement.index.str[:14]\n",
        "display(HR_agreement)\n",
        "\n",
        "HR_agreement_dict = HR_agreement.to_dict('index')"
      ],
      "metadata": {
        "colab": {
          "base_uri": "https://localhost:8080/",
          "height": 507
        },
        "id": "Oq-OpvaNlADZ",
        "outputId": "1ba4923c-4cb2-499d-9d7c-0ebcbbe6e595"
      },
      "execution_count": null,
      "outputs": [
        {
          "output_type": "stream",
          "name": "stdout",
          "text": [
            "\n",
            "\n",
            "Agreement in ratings across videos: 0.787197594072594\n"
          ]
        },
        {
          "output_type": "display_data",
          "data": {
            "text/plain": [
              "                                                    relationship\n",
              "videos                                                          \n",
              "D081820_13363300_0_F8_E0_G['LMO', 0, 2, 1]_['LM...      0.846154\n",
              "D081820_16545200_0_F8_E2_G['LMA', 0, 1, 1]_['LM...      1.000000\n",
              "D081920_01561200_0_F8_E6_G['LMA', 1, 1, -1]_['L...      0.909091\n",
              "D081920_03595900_0_F8_E7_G['LMA', 1, 2, -1]_['L...      0.636364\n",
              "D081920_08023200_0_F8_E6_G['LMO', 1, 0, 1]_['LM...      1.000000\n",
              "...                                                          ...\n",
              "D121320_07145900_0_F8_E20_G['LMO', 0, 2, 1]_['L...      0.615385\n",
              "D121320_13405400_0_F8_E12_G['LMO', 1, 2, 1]_['L...      0.909091\n",
              "D121420_00140200_0_F8_E12_G['LMO', 0, 2, 1]_['L...      0.818182\n",
              "D121420_08260200_0_F8_E13_G['LMO', 0, 2, 1]_['L...      0.666667\n",
              "D121420_09132200_0_F8_E8_G['LMO', 0, 3, 1]_['LM...      0.538462\n",
              "\n",
              "[400 rows x 1 columns]"
            ],
            "text/html": [
              "\n",
              "  <div id=\"df-f067ecb0-fe80-4a6c-b75e-04deaebf6383\">\n",
              "    <div class=\"colab-df-container\">\n",
              "      <div>\n",
              "<style scoped>\n",
              "    .dataframe tbody tr th:only-of-type {\n",
              "        vertical-align: middle;\n",
              "    }\n",
              "\n",
              "    .dataframe tbody tr th {\n",
              "        vertical-align: top;\n",
              "    }\n",
              "\n",
              "    .dataframe thead th {\n",
              "        text-align: right;\n",
              "    }\n",
              "</style>\n",
              "<table border=\"1\" class=\"dataframe\">\n",
              "  <thead>\n",
              "    <tr style=\"text-align: right;\">\n",
              "      <th></th>\n",
              "      <th>relationship</th>\n",
              "    </tr>\n",
              "    <tr>\n",
              "      <th>videos</th>\n",
              "      <th></th>\n",
              "    </tr>\n",
              "  </thead>\n",
              "  <tbody>\n",
              "    <tr>\n",
              "      <th>D081820_13363300_0_F8_E0_G['LMO', 0, 2, 1]_['LMO', 0, 2, 1]_ST1_2_SZ0_3_0_3_P13_13_12_10_A0_0_C0_0_AN-0.12_4.61_MCTS_L1_R0.0_10.0_PL1_EL1_0_0_s1000_r10_cI1.25_cB1000_e61.mp4</th>\n",
              "      <td>0.846154</td>\n",
              "    </tr>\n",
              "    <tr>\n",
              "      <th>D081820_16545200_0_F8_E2_G['LMA', 0, 1, 1]_['LMA', 0, 1, -1]_ST1_3_SZ0_1_0_1_P2_2_3_2_A0_0_C0_0_AN-1.91_-2.23_MCTS_L1_R0.0_-10.0_PL1_EL1_0_0_s1000_r10_cI1.25_cB1000_e314.mp4</th>\n",
              "      <td>1.000000</td>\n",
              "    </tr>\n",
              "    <tr>\n",
              "      <th>D081920_01561200_0_F8_E6_G['LMA', 1, 1, -1]_['LMA', 1, 1, 1]_ST2_1_SZ0_3_1_1_P4_6_5_4_A0_0_C0_0_AN-5.47_-0.63_MCTS_L1_R-10.0_0.0_PL1_EL1_0_0_s1000_r10_cI1.25_cB1000_e191.mp4</th>\n",
              "      <td>0.909091</td>\n",
              "    </tr>\n",
              "    <tr>\n",
              "      <th>D081920_03595900_0_F8_E7_G['LMA', 1, 2, -1]_['LMA', 1, 2, 1]_ST1_1_SZ3_0_1_1_P3_4_3_12_A0_0_C0_0_AN3.44_2.49_MCTS_L1_R-10.0_0.0_PL1_EL1_0_0_s1000_r10_cI1.25_cB1000_e90.mp4</th>\n",
              "      <td>0.636364</td>\n",
              "    </tr>\n",
              "    <tr>\n",
              "      <th>D081920_08023200_0_F8_E6_G['LMO', 1, 0, 1]_['LMO', 1, 0, 1]_ST0_1_SZ0_1_0_1_P2_3_4_1_A0_0_C0_0_AN6.18_-0.5_MCTS_L1_R0.0_0.0_PL1_EL1_0_0_s1000_r10_cI1.25_cB1000_e383.mp4</th>\n",
              "      <td>1.000000</td>\n",
              "    </tr>\n",
              "    <tr>\n",
              "      <th>...</th>\n",
              "      <td>...</td>\n",
              "    </tr>\n",
              "    <tr>\n",
              "      <th>D121320_07145900_0_F8_E20_G['LMO', 0, 2, 1]_['LMO', 0, 2, 1]_ST1_1_SZ2_3_0_0_P11_17_3_17_A0_0_C0_0_AN-5.44_1.29_MCTS_L1_R10.0_0.0_PL1_EL1_0_0_s1000_r10_cI1.25_cB1000_e57.mp4</th>\n",
              "      <td>0.615385</td>\n",
              "    </tr>\n",
              "    <tr>\n",
              "      <th>D121320_13405400_0_F8_E12_G['LMO', 1, 2, 1]_['LMO', 1, 2, 1]_ST1_2_SZ1_3_1_0_P17_11_15_3_A0_0_C0_0_AN-2.8_-5.86_MCTS_L1_R0.0_10.0_PL1_EL1_0_0_s1000_r10_cI1.25_cB1000_e75.mp4</th>\n",
              "      <td>0.909091</td>\n",
              "    </tr>\n",
              "    <tr>\n",
              "      <th>D121420_00140200_0_F8_E12_G['LMO', 0, 2, 1]_['LMO', 0, 2, 1]_ST1_2_SZ1_3_0_1_P17_11_3_15_A0_0_C0_0_AN-2.8_-5.86_MCTS_L1_R0.0_10.0_PL1_EL1_0_0_s1000_r10_cI1.25_cB1000_e54.mp4</th>\n",
              "      <td>0.818182</td>\n",
              "    </tr>\n",
              "    <tr>\n",
              "      <th>D121420_08260200_0_F8_E13_G['LMO', 0, 2, 1]_['LMO', 0, 2, 1]_ST2_3_SZ2_2_0_1_P7_2_15_3_A0_0_C0_0_AN-0.76_4.09_MCTS_L1_R0.0_0.0_PL1_EL1_0_0_s1000_r10_cI1.25_cB1000_e56.mp4</th>\n",
              "      <td>0.666667</td>\n",
              "    </tr>\n",
              "    <tr>\n",
              "      <th>D121420_09132200_0_F8_E8_G['LMO', 0, 3, 1]_['LMO', 0, 3, 1]_ST1_1_SZ2_1_0_0_P1_2_1_6_A0_0_C0_0_AN-2.13_3.27_MCTS_L1_R10.0_0.0_PL1_EL1_0_0_s1000_r10_cI1.25_cB1000_e21.mp4</th>\n",
              "      <td>0.538462</td>\n",
              "    </tr>\n",
              "  </tbody>\n",
              "</table>\n",
              "<p>400 rows × 1 columns</p>\n",
              "</div>\n",
              "      <button class=\"colab-df-convert\" onclick=\"convertToInteractive('df-f067ecb0-fe80-4a6c-b75e-04deaebf6383')\"\n",
              "              title=\"Convert this dataframe to an interactive table.\"\n",
              "              style=\"display:none;\">\n",
              "        \n",
              "  <svg xmlns=\"http://www.w3.org/2000/svg\" height=\"24px\"viewBox=\"0 0 24 24\"\n",
              "       width=\"24px\">\n",
              "    <path d=\"M0 0h24v24H0V0z\" fill=\"none\"/>\n",
              "    <path d=\"M18.56 5.44l.94 2.06.94-2.06 2.06-.94-2.06-.94-.94-2.06-.94 2.06-2.06.94zm-11 1L8.5 8.5l.94-2.06 2.06-.94-2.06-.94L8.5 2.5l-.94 2.06-2.06.94zm10 10l.94 2.06.94-2.06 2.06-.94-2.06-.94-.94-2.06-.94 2.06-2.06.94z\"/><path d=\"M17.41 7.96l-1.37-1.37c-.4-.4-.92-.59-1.43-.59-.52 0-1.04.2-1.43.59L10.3 9.45l-7.72 7.72c-.78.78-.78 2.05 0 2.83L4 21.41c.39.39.9.59 1.41.59.51 0 1.02-.2 1.41-.59l7.78-7.78 2.81-2.81c.8-.78.8-2.07 0-2.86zM5.41 20L4 18.59l7.72-7.72 1.47 1.35L5.41 20z\"/>\n",
              "  </svg>\n",
              "      </button>\n",
              "      \n",
              "  <style>\n",
              "    .colab-df-container {\n",
              "      display:flex;\n",
              "      flex-wrap:wrap;\n",
              "      gap: 12px;\n",
              "    }\n",
              "\n",
              "    .colab-df-convert {\n",
              "      background-color: #E8F0FE;\n",
              "      border: none;\n",
              "      border-radius: 50%;\n",
              "      cursor: pointer;\n",
              "      display: none;\n",
              "      fill: #1967D2;\n",
              "      height: 32px;\n",
              "      padding: 0 0 0 0;\n",
              "      width: 32px;\n",
              "    }\n",
              "\n",
              "    .colab-df-convert:hover {\n",
              "      background-color: #E2EBFA;\n",
              "      box-shadow: 0px 1px 2px rgba(60, 64, 67, 0.3), 0px 1px 3px 1px rgba(60, 64, 67, 0.15);\n",
              "      fill: #174EA6;\n",
              "    }\n",
              "\n",
              "    [theme=dark] .colab-df-convert {\n",
              "      background-color: #3B4455;\n",
              "      fill: #D2E3FC;\n",
              "    }\n",
              "\n",
              "    [theme=dark] .colab-df-convert:hover {\n",
              "      background-color: #434B5C;\n",
              "      box-shadow: 0px 1px 3px 1px rgba(0, 0, 0, 0.15);\n",
              "      filter: drop-shadow(0px 1px 2px rgba(0, 0, 0, 0.3));\n",
              "      fill: #FFFFFF;\n",
              "    }\n",
              "  </style>\n",
              "\n",
              "      <script>\n",
              "        const buttonEl =\n",
              "          document.querySelector('#df-f067ecb0-fe80-4a6c-b75e-04deaebf6383 button.colab-df-convert');\n",
              "        buttonEl.style.display =\n",
              "          google.colab.kernel.accessAllowed ? 'block' : 'none';\n",
              "\n",
              "        async function convertToInteractive(key) {\n",
              "          const element = document.querySelector('#df-f067ecb0-fe80-4a6c-b75e-04deaebf6383');\n",
              "          const dataTable =\n",
              "            await google.colab.kernel.invokeFunction('convertToInteractive',\n",
              "                                                     [key], {});\n",
              "          if (!dataTable) return;\n",
              "\n",
              "          const docLinkHtml = 'Like what you see? Visit the ' +\n",
              "            '<a target=\"_blank\" href=https://colab.research.google.com/notebooks/data_table.ipynb>data table notebook</a>'\n",
              "            + ' to learn more about interactive tables.';\n",
              "          element.innerHTML = '';\n",
              "          dataTable['output_type'] = 'display_data';\n",
              "          await google.colab.output.renderOutput(dataTable, element);\n",
              "          const docLink = document.createElement('div');\n",
              "          docLink.innerHTML = docLinkHtml;\n",
              "          element.appendChild(docLink);\n",
              "        }\n",
              "      </script>\n",
              "    </div>\n",
              "  </div>\n",
              "  "
            ]
          },
          "metadata": {}
        }
      ]
    },
    {
      "cell_type": "markdown",
      "metadata": {
        "id": "zw-v-AfTMcfK"
      },
      "source": [
        "## Ratings to pickle file for Training/Testing labels"
      ]
    },
    {
      "cell_type": "code",
      "metadata": {
        "colab": {
          "base_uri": "https://localhost:8080/",
          "height": 35
        },
        "id": "_r2d9Ot-MbNu",
        "outputId": "11d3ecc5-1b84-419e-c200-0803e4b6a981"
      },
      "source": [
        "import pickle\n",
        "with open('./Human_Experiment_Files/human_rating_labels_all', 'wb') as file:\n",
        "  pickle.dump(HR, file)\n",
        "\n",
        "'''\n",
        "with open('./Human_Experiment_Files/human_rating_labels', 'wb') as file:\n",
        "  pickle.dump(final_labels_dict, file)\n",
        "'''\n",
        "\n",
        "'''\n",
        "with open('./Human_Experiment_Files/human_rating_labels_agreement', 'wb') as file:\n",
        "  pickle.dump(HR_agreement_dict, file)\n",
        "'''\n",
        "\n",
        "'''\n",
        "with open('./Human_Experiment_Files/human_rating_labels_notonlymedian', 'wb') as file:\n",
        "  pickle.dump(final_labels_dict, file)\n",
        "'''"
      ],
      "execution_count": null,
      "outputs": [
        {
          "output_type": "execute_result",
          "data": {
            "text/plain": [
              "\"\\nwith open('./Human_Experiment_Files/human_rating_labels_notonlymedian', 'wb') as file:\\n  pickle.dump(final_labels_dict, file)\\n\""
            ],
            "application/vnd.google.colaboratory.intrinsic+json": {
              "type": "string"
            }
          },
          "metadata": {},
          "execution_count": 26
        }
      ]
    },
    {
      "cell_type": "markdown",
      "metadata": {
        "id": "OirfhIo6MPTs"
      },
      "source": [
        "## Plotting Rating Data"
      ]
    },
    {
      "cell_type": "code",
      "source": [
        "import matplotlib.pyplot as plt\n",
        "import seaborn as sns"
      ],
      "metadata": {
        "id": "4PBBWmFd0rS0"
      },
      "execution_count": null,
      "outputs": []
    },
    {
      "cell_type": "code",
      "metadata": {
        "id": "ElDdr-isPQTV",
        "colab": {
          "base_uri": "https://localhost:8080/",
          "height": 1000
        },
        "outputId": "cde78c96-c0ae-45b2-c94f-dede330c933a"
      },
      "source": [
        "## Boxplots\n",
        "new = data.replace({\"relationship\": {'friendly':1, 'neutral': 0, 'adversarial': -1}})\n",
        "display(new)\n",
        "\n",
        "fig, ax = plt.subplots()\n",
        "sns.set_theme()\n",
        "sns.set(rc={'figure.figsize':(100,10)})\n",
        "sns.set(font_scale=2)\n",
        "\n",
        "# draw pointplot\n",
        "'''\n",
        "sns.boxplot(x = \"videos\", y = \"relationship\", data = new, showmeans=True,\n",
        "            meanprops={\"marker\":\"o\",\n",
        "                       \"markerfacecolor\":\"white\", \n",
        "                       \"markeredgecolor\":\"black\",\n",
        "                      \"markersize\":\"10\"}, boxprops=dict(alpha=.3))\n",
        "sns.stripplot(x = \"videos\", y = \"relationship\", data = new)\n",
        "'''\n",
        "\n",
        "#sns.lineplot(x='videos', y='relationship', data=new, marker='o', linestyle='', err_style='bars', ci = \"sd\")\n",
        "sns.barplot(x='videos', y='relationship', data=new, alpha=0.3, ci=\"sd\")\n",
        "sns.swarmplot(x = \"videos\", y = \"relationship\", data = new)\n",
        "\n",
        "ax.set_xticklabels([str(i) for i in range(1,404)], rotation=45)\n",
        "# show the plot\n",
        "ax.xaxis.grid(True)\n",
        "plt.show()"
      ],
      "execution_count": null,
      "outputs": [
        {
          "output_type": "display_data",
          "data": {
            "text/plain": [
              "                                                 videos  relationship\n",
              "0     D082920_03052000_0_F8_E8_G['LMO', 1, 2, 1]_['L...             0\n",
              "1     D120320_08110800_0_F8_E21_G['LMO', 1, 2, 1]_['...             1\n",
              "2     D083020_03153400_0_F8_E10_G['LMO', 0, 0, -1]_[...            -1\n",
              "3     D083120_06431400_0_F8_E17_G['TE', 1, 0, -1]_['...            -1\n",
              "4     D083120_08300300_0_F8_E12_G['LMO', 0, 0, 1]_['...             0\n",
              "...                                                 ...           ...\n",
              "5538  D083120_07263500_0_F8_E8_G['TE', 0, 1, 1]_['TE...            -1\n",
              "5539  D083120_06083000_0_F8_E4_G['LMO', 0, 0, 1]_['L...             1\n",
              "5540  D082720_05454100_0_F8_E21_G['LMA', 0, 0, 1]_['...             0\n",
              "5541  D121120_10160000_0_F8_E4_G['LMO', 0, 0, 1]_['L...             1\n",
              "5542  D083020_17172300_0_F8_E12_G['LMA', 0, 0, 1]_['...             0\n",
              "\n",
              "[5543 rows x 2 columns]"
            ],
            "text/html": [
              "\n",
              "  <div id=\"df-81b986c8-20c6-4ceb-9625-7cc0146484cf\">\n",
              "    <div class=\"colab-df-container\">\n",
              "      <div>\n",
              "<style scoped>\n",
              "    .dataframe tbody tr th:only-of-type {\n",
              "        vertical-align: middle;\n",
              "    }\n",
              "\n",
              "    .dataframe tbody tr th {\n",
              "        vertical-align: top;\n",
              "    }\n",
              "\n",
              "    .dataframe thead th {\n",
              "        text-align: right;\n",
              "    }\n",
              "</style>\n",
              "<table border=\"1\" class=\"dataframe\">\n",
              "  <thead>\n",
              "    <tr style=\"text-align: right;\">\n",
              "      <th></th>\n",
              "      <th>videos</th>\n",
              "      <th>relationship</th>\n",
              "    </tr>\n",
              "  </thead>\n",
              "  <tbody>\n",
              "    <tr>\n",
              "      <th>0</th>\n",
              "      <td>D082920_03052000_0_F8_E8_G['LMO', 1, 2, 1]_['L...</td>\n",
              "      <td>0</td>\n",
              "    </tr>\n",
              "    <tr>\n",
              "      <th>1</th>\n",
              "      <td>D120320_08110800_0_F8_E21_G['LMO', 1, 2, 1]_['...</td>\n",
              "      <td>1</td>\n",
              "    </tr>\n",
              "    <tr>\n",
              "      <th>2</th>\n",
              "      <td>D083020_03153400_0_F8_E10_G['LMO', 0, 0, -1]_[...</td>\n",
              "      <td>-1</td>\n",
              "    </tr>\n",
              "    <tr>\n",
              "      <th>3</th>\n",
              "      <td>D083120_06431400_0_F8_E17_G['TE', 1, 0, -1]_['...</td>\n",
              "      <td>-1</td>\n",
              "    </tr>\n",
              "    <tr>\n",
              "      <th>4</th>\n",
              "      <td>D083120_08300300_0_F8_E12_G['LMO', 0, 0, 1]_['...</td>\n",
              "      <td>0</td>\n",
              "    </tr>\n",
              "    <tr>\n",
              "      <th>...</th>\n",
              "      <td>...</td>\n",
              "      <td>...</td>\n",
              "    </tr>\n",
              "    <tr>\n",
              "      <th>5538</th>\n",
              "      <td>D083120_07263500_0_F8_E8_G['TE', 0, 1, 1]_['TE...</td>\n",
              "      <td>-1</td>\n",
              "    </tr>\n",
              "    <tr>\n",
              "      <th>5539</th>\n",
              "      <td>D083120_06083000_0_F8_E4_G['LMO', 0, 0, 1]_['L...</td>\n",
              "      <td>1</td>\n",
              "    </tr>\n",
              "    <tr>\n",
              "      <th>5540</th>\n",
              "      <td>D082720_05454100_0_F8_E21_G['LMA', 0, 0, 1]_['...</td>\n",
              "      <td>0</td>\n",
              "    </tr>\n",
              "    <tr>\n",
              "      <th>5541</th>\n",
              "      <td>D121120_10160000_0_F8_E4_G['LMO', 0, 0, 1]_['L...</td>\n",
              "      <td>1</td>\n",
              "    </tr>\n",
              "    <tr>\n",
              "      <th>5542</th>\n",
              "      <td>D083020_17172300_0_F8_E12_G['LMA', 0, 0, 1]_['...</td>\n",
              "      <td>0</td>\n",
              "    </tr>\n",
              "  </tbody>\n",
              "</table>\n",
              "<p>5543 rows × 2 columns</p>\n",
              "</div>\n",
              "      <button class=\"colab-df-convert\" onclick=\"convertToInteractive('df-81b986c8-20c6-4ceb-9625-7cc0146484cf')\"\n",
              "              title=\"Convert this dataframe to an interactive table.\"\n",
              "              style=\"display:none;\">\n",
              "        \n",
              "  <svg xmlns=\"http://www.w3.org/2000/svg\" height=\"24px\"viewBox=\"0 0 24 24\"\n",
              "       width=\"24px\">\n",
              "    <path d=\"M0 0h24v24H0V0z\" fill=\"none\"/>\n",
              "    <path d=\"M18.56 5.44l.94 2.06.94-2.06 2.06-.94-2.06-.94-.94-2.06-.94 2.06-2.06.94zm-11 1L8.5 8.5l.94-2.06 2.06-.94-2.06-.94L8.5 2.5l-.94 2.06-2.06.94zm10 10l.94 2.06.94-2.06 2.06-.94-2.06-.94-.94-2.06-.94 2.06-2.06.94z\"/><path d=\"M17.41 7.96l-1.37-1.37c-.4-.4-.92-.59-1.43-.59-.52 0-1.04.2-1.43.59L10.3 9.45l-7.72 7.72c-.78.78-.78 2.05 0 2.83L4 21.41c.39.39.9.59 1.41.59.51 0 1.02-.2 1.41-.59l7.78-7.78 2.81-2.81c.8-.78.8-2.07 0-2.86zM5.41 20L4 18.59l7.72-7.72 1.47 1.35L5.41 20z\"/>\n",
              "  </svg>\n",
              "      </button>\n",
              "      \n",
              "  <style>\n",
              "    .colab-df-container {\n",
              "      display:flex;\n",
              "      flex-wrap:wrap;\n",
              "      gap: 12px;\n",
              "    }\n",
              "\n",
              "    .colab-df-convert {\n",
              "      background-color: #E8F0FE;\n",
              "      border: none;\n",
              "      border-radius: 50%;\n",
              "      cursor: pointer;\n",
              "      display: none;\n",
              "      fill: #1967D2;\n",
              "      height: 32px;\n",
              "      padding: 0 0 0 0;\n",
              "      width: 32px;\n",
              "    }\n",
              "\n",
              "    .colab-df-convert:hover {\n",
              "      background-color: #E2EBFA;\n",
              "      box-shadow: 0px 1px 2px rgba(60, 64, 67, 0.3), 0px 1px 3px 1px rgba(60, 64, 67, 0.15);\n",
              "      fill: #174EA6;\n",
              "    }\n",
              "\n",
              "    [theme=dark] .colab-df-convert {\n",
              "      background-color: #3B4455;\n",
              "      fill: #D2E3FC;\n",
              "    }\n",
              "\n",
              "    [theme=dark] .colab-df-convert:hover {\n",
              "      background-color: #434B5C;\n",
              "      box-shadow: 0px 1px 3px 1px rgba(0, 0, 0, 0.15);\n",
              "      filter: drop-shadow(0px 1px 2px rgba(0, 0, 0, 0.3));\n",
              "      fill: #FFFFFF;\n",
              "    }\n",
              "  </style>\n",
              "\n",
              "      <script>\n",
              "        const buttonEl =\n",
              "          document.querySelector('#df-81b986c8-20c6-4ceb-9625-7cc0146484cf button.colab-df-convert');\n",
              "        buttonEl.style.display =\n",
              "          google.colab.kernel.accessAllowed ? 'block' : 'none';\n",
              "\n",
              "        async function convertToInteractive(key) {\n",
              "          const element = document.querySelector('#df-81b986c8-20c6-4ceb-9625-7cc0146484cf');\n",
              "          const dataTable =\n",
              "            await google.colab.kernel.invokeFunction('convertToInteractive',\n",
              "                                                     [key], {});\n",
              "          if (!dataTable) return;\n",
              "\n",
              "          const docLinkHtml = 'Like what you see? Visit the ' +\n",
              "            '<a target=\"_blank\" href=https://colab.research.google.com/notebooks/data_table.ipynb>data table notebook</a>'\n",
              "            + ' to learn more about interactive tables.';\n",
              "          element.innerHTML = '';\n",
              "          dataTable['output_type'] = 'display_data';\n",
              "          await google.colab.output.renderOutput(dataTable, element);\n",
              "          const docLink = document.createElement('div');\n",
              "          docLink.innerHTML = docLinkHtml;\n",
              "          element.appendChild(docLink);\n",
              "        }\n",
              "      </script>\n",
              "    </div>\n",
              "  </div>\n",
              "  "
            ]
          },
          "metadata": {}
        },
        {
          "output_type": "stream",
          "name": "stderr",
          "text": [
            "/usr/local/lib/python3.7/dist-packages/seaborn/categorical.py:1296: UserWarning: 93.3% of the points cannot be placed; you may want to decrease the size of the markers or use stripplot.\n",
            "  warnings.warn(msg, UserWarning)\n",
            "/usr/local/lib/python3.7/dist-packages/seaborn/categorical.py:1296: UserWarning: 86.7% of the points cannot be placed; you may want to decrease the size of the markers or use stripplot.\n",
            "  warnings.warn(msg, UserWarning)\n",
            "/usr/local/lib/python3.7/dist-packages/seaborn/categorical.py:1296: UserWarning: 80.0% of the points cannot be placed; you may want to decrease the size of the markers or use stripplot.\n",
            "  warnings.warn(msg, UserWarning)\n",
            "/usr/local/lib/python3.7/dist-packages/seaborn/categorical.py:1296: UserWarning: 99.6% of the points cannot be placed; you may want to decrease the size of the markers or use stripplot.\n",
            "  warnings.warn(msg, UserWarning)\n",
            "/usr/local/lib/python3.7/dist-packages/seaborn/categorical.py:1296: UserWarning: 72.7% of the points cannot be placed; you may want to decrease the size of the markers or use stripplot.\n",
            "  warnings.warn(msg, UserWarning)\n",
            "/usr/local/lib/python3.7/dist-packages/seaborn/categorical.py:1296: UserWarning: 81.8% of the points cannot be placed; you may want to decrease the size of the markers or use stripplot.\n",
            "  warnings.warn(msg, UserWarning)\n",
            "/usr/local/lib/python3.7/dist-packages/seaborn/categorical.py:1296: UserWarning: 90.9% of the points cannot be placed; you may want to decrease the size of the markers or use stripplot.\n",
            "  warnings.warn(msg, UserWarning)\n",
            "/usr/local/lib/python3.7/dist-packages/seaborn/categorical.py:1296: UserWarning: 76.9% of the points cannot be placed; you may want to decrease the size of the markers or use stripplot.\n",
            "  warnings.warn(msg, UserWarning)\n",
            "/usr/local/lib/python3.7/dist-packages/seaborn/categorical.py:1296: UserWarning: 84.6% of the points cannot be placed; you may want to decrease the size of the markers or use stripplot.\n",
            "  warnings.warn(msg, UserWarning)\n",
            "/usr/local/lib/python3.7/dist-packages/seaborn/categorical.py:1296: UserWarning: 92.3% of the points cannot be placed; you may want to decrease the size of the markers or use stripplot.\n",
            "  warnings.warn(msg, UserWarning)\n",
            "/usr/local/lib/python3.7/dist-packages/seaborn/categorical.py:1296: UserWarning: 85.7% of the points cannot be placed; you may want to decrease the size of the markers or use stripplot.\n",
            "  warnings.warn(msg, UserWarning)\n",
            "/usr/local/lib/python3.7/dist-packages/seaborn/categorical.py:1296: UserWarning: 78.6% of the points cannot be placed; you may want to decrease the size of the markers or use stripplot.\n",
            "  warnings.warn(msg, UserWarning)\n",
            "/usr/local/lib/python3.7/dist-packages/seaborn/categorical.py:1296: UserWarning: 92.9% of the points cannot be placed; you may want to decrease the size of the markers or use stripplot.\n",
            "  warnings.warn(msg, UserWarning)\n",
            "/usr/local/lib/python3.7/dist-packages/seaborn/categorical.py:1296: UserWarning: 75.0% of the points cannot be placed; you may want to decrease the size of the markers or use stripplot.\n",
            "  warnings.warn(msg, UserWarning)\n",
            "/usr/local/lib/python3.7/dist-packages/seaborn/categorical.py:1296: UserWarning: 83.3% of the points cannot be placed; you may want to decrease the size of the markers or use stripplot.\n",
            "  warnings.warn(msg, UserWarning)\n",
            "/usr/local/lib/python3.7/dist-packages/seaborn/categorical.py:1296: UserWarning: 91.7% of the points cannot be placed; you may want to decrease the size of the markers or use stripplot.\n",
            "  warnings.warn(msg, UserWarning)\n",
            "/usr/local/lib/python3.7/dist-packages/seaborn/categorical.py:1296: UserWarning: 70.0% of the points cannot be placed; you may want to decrease the size of the markers or use stripplot.\n",
            "  warnings.warn(msg, UserWarning)\n",
            "/usr/local/lib/python3.7/dist-packages/seaborn/categorical.py:1296: UserWarning: 90.0% of the points cannot be placed; you may want to decrease the size of the markers or use stripplot.\n",
            "  warnings.warn(msg, UserWarning)\n"
          ]
        },
        {
          "output_type": "display_data",
          "data": {
            "text/plain": [
              "<Figure size 432x288 with 1 Axes>"
            ],
            "image/png": "[encoded data removed]"
          },
          "metadata": {
            "needs_background": "light"
          }
        }
      ]
    },
    {
      "cell_type": "code",
      "metadata": {
        "colab": {
          "base_uri": "https://localhost:8080/",
          "height": 1000
        },
        "id": "Qvu2_zKlPcon",
        "outputId": "60d0e227-88f9-44f8-f964-5c4e34a879ad"
      },
      "source": [
        "import scipy\n",
        "\n",
        "## Lineplot\n",
        "def get_dist_stats(g):\n",
        "  mapping = {'friendly':1, 'neutral': 0, 'adversarial': -1}\n",
        "  ratings = [mapping[x] for x in g]\n",
        "  stats = (np.mean(ratings), np.std(ratings), np.median(ratings) - scipy.stats.mode(ratings)[0][0]) #median-mode\n",
        "  #stats = (np.mean(ratings), np.std(ratings), np.median(ratings) - np.mean(ratings)) #median-mean\n",
        "  #stats = (np.mean(ratings), np.std(ratings), np.mean(ratings) - scipy.stats.mode(ratings)[0][0]) #median-mode\n",
        "  return stats\n",
        "\n",
        "display(HR)\n",
        "\n",
        "HR_stats = data.groupby(by='videos').agg(lambda x: get_dist_stats(list(x)))\n",
        "HR_stats.index = HR_stats.index.str[:14]\n",
        "display(HR_stats)\n",
        "\n",
        "means = [x[0] for x in HR_stats['relationship']]\n",
        "stds = [x[1] for x in HR_stats['relationship']]\n",
        "stats_df = {\"videos\":HR_stats.index, \"means\":means,\"std\":stds}\n",
        "\n",
        "'''\n",
        "fig, ax = plt.subplots()\n",
        "sns.set_theme()\n",
        "sns.set(rc={'figure.figsize':(100,10)})\n",
        "sns.set(font_scale=2)\n",
        "\n",
        "# draw pointplot\n",
        "#sns.lineplot(x = \"videos\", y = \"means\", data = stats_df, linestyle='')\n",
        "sns.lineplot(x='videos', y='relationship', data=new, marker='o', linestyle='', err_style='bars', ci = \"sd\")\n",
        "\n",
        "ax.set_xticklabels([str(i) for i in range(1,404)], rotation=45)\n",
        "# show the plot\n",
        "ax.xaxis.grid(True)\n",
        "plt.show()\n",
        "'''\n",
        "sns.set(rc={'figure.figsize':(10,10)})\n",
        "stat_difference = [x[2] for x in HR_stats['relationship']]\n",
        "plt.hist(stat_difference)\n",
        "plt.title('Median-Mode')\n",
        "plt.plot()"
      ],
      "execution_count": null,
      "outputs": [
        {
          "output_type": "display_data",
          "data": {
            "text/html": [
              "<div>\n",
              "<style scoped>\n",
              "    .dataframe tbody tr th:only-of-type {\n",
              "        vertical-align: middle;\n",
              "    }\n",
              "\n",
              "    .dataframe tbody tr th {\n",
              "        vertical-align: top;\n",
              "    }\n",
              "\n",
              "    .dataframe thead th {\n",
              "        text-align: right;\n",
              "    }\n",
              "</style>\n",
              "<table border=\"1\" class=\"dataframe\">\n",
              "  <thead>\n",
              "    <tr style=\"text-align: right;\">\n",
              "      <th></th>\n",
              "      <th>relationship</th>\n",
              "    </tr>\n",
              "    <tr>\n",
              "      <th>videos</th>\n",
              "      <th></th>\n",
              "    </tr>\n",
              "  </thead>\n",
              "  <tbody>\n",
              "    <tr>\n",
              "      <th>D081820_133633</th>\n",
              "      <td>13</td>\n",
              "    </tr>\n",
              "    <tr>\n",
              "      <th>D081820_165452</th>\n",
              "      <td>14</td>\n",
              "    </tr>\n",
              "    <tr>\n",
              "      <th>D081920_015612</th>\n",
              "      <td>11</td>\n",
              "    </tr>\n",
              "    <tr>\n",
              "      <th>D081920_035959</th>\n",
              "      <td>11</td>\n",
              "    </tr>\n",
              "    <tr>\n",
              "      <th>D081920_080232</th>\n",
              "      <td>10</td>\n",
              "    </tr>\n",
              "    <tr>\n",
              "      <th>...</th>\n",
              "      <td>...</td>\n",
              "    </tr>\n",
              "    <tr>\n",
              "      <th>D121320_071459</th>\n",
              "      <td>13</td>\n",
              "    </tr>\n",
              "    <tr>\n",
              "      <th>D121320_134054</th>\n",
              "      <td>11</td>\n",
              "    </tr>\n",
              "    <tr>\n",
              "      <th>D121420_001402</th>\n",
              "      <td>11</td>\n",
              "    </tr>\n",
              "    <tr>\n",
              "      <th>D121420_082602</th>\n",
              "      <td>12</td>\n",
              "    </tr>\n",
              "    <tr>\n",
              "      <th>D121420_091322</th>\n",
              "      <td>13</td>\n",
              "    </tr>\n",
              "  </tbody>\n",
              "</table>\n",
              "<p>403 rows × 1 columns</p>\n",
              "</div>"
            ],
            "text/plain": [
              "                relationship\n",
              "videos                      \n",
              "D081820_133633            13\n",
              "D081820_165452            14\n",
              "D081920_015612            11\n",
              "D081920_035959            11\n",
              "D081920_080232            10\n",
              "...                      ...\n",
              "D121320_071459            13\n",
              "D121320_134054            11\n",
              "D121420_001402            11\n",
              "D121420_082602            12\n",
              "D121420_091322            13\n",
              "\n",
              "[403 rows x 1 columns]"
            ]
          },
          "metadata": {}
        },
        {
          "output_type": "display_data",
          "data": {
            "text/html": [
              "<div>\n",
              "<style scoped>\n",
              "    .dataframe tbody tr th:only-of-type {\n",
              "        vertical-align: middle;\n",
              "    }\n",
              "\n",
              "    .dataframe tbody tr th {\n",
              "        vertical-align: top;\n",
              "    }\n",
              "\n",
              "    .dataframe thead th {\n",
              "        text-align: right;\n",
              "    }\n",
              "</style>\n",
              "<table border=\"1\" class=\"dataframe\">\n",
              "  <thead>\n",
              "    <tr style=\"text-align: right;\">\n",
              "      <th></th>\n",
              "      <th>relationship</th>\n",
              "    </tr>\n",
              "    <tr>\n",
              "      <th>videos</th>\n",
              "      <th></th>\n",
              "    </tr>\n",
              "  </thead>\n",
              "  <tbody>\n",
              "    <tr>\n",
              "      <th>D081820_133633</th>\n",
              "      <td>(0.6923076923076923, 0.7216024245882199, 0.0)</td>\n",
              "    </tr>\n",
              "    <tr>\n",
              "      <th>D081820_165452</th>\n",
              "      <td>(-1.0, 0.0, 0.0)</td>\n",
              "    </tr>\n",
              "    <tr>\n",
              "      <th>D081920_015612</th>\n",
              "      <td>(-0.9090909090909091, 0.28747978728803447, 0.0)</td>\n",
              "    </tr>\n",
              "    <tr>\n",
              "      <th>D081920_035959</th>\n",
              "      <td>(-0.36363636363636365, 0.8813963377120598, 0.0)</td>\n",
              "    </tr>\n",
              "    <tr>\n",
              "      <th>D081920_080232</th>\n",
              "      <td>(1.0, 0.0, 0.0)</td>\n",
              "    </tr>\n",
              "    <tr>\n",
              "      <th>...</th>\n",
              "      <td>...</td>\n",
              "    </tr>\n",
              "    <tr>\n",
              "      <th>D121320_071459</th>\n",
              "      <td>(0.6153846153846154, 0.48650425541051995, 0.0)</td>\n",
              "    </tr>\n",
              "    <tr>\n",
              "      <th>D121320_134054</th>\n",
              "      <td>(0.9090909090909091, 0.28747978728803447, 0.0)</td>\n",
              "    </tr>\n",
              "    <tr>\n",
              "      <th>D121420_001402</th>\n",
              "      <td>(0.8181818181818182, 0.385694607919935, 0.0)</td>\n",
              "    </tr>\n",
              "    <tr>\n",
              "      <th>D121420_082602</th>\n",
              "      <td>(0.5833333333333334, 0.6400954789890507, 0.0)</td>\n",
              "    </tr>\n",
              "    <tr>\n",
              "      <th>D121420_091322</th>\n",
              "      <td>(0.46153846153846156, 0.6343239424027171, 0.0)</td>\n",
              "    </tr>\n",
              "  </tbody>\n",
              "</table>\n",
              "<p>403 rows × 1 columns</p>\n",
              "</div>"
            ],
            "text/plain": [
              "                                                   relationship\n",
              "videos                                                         \n",
              "D081820_133633    (0.6923076923076923, 0.7216024245882199, 0.0)\n",
              "D081820_165452                                 (-1.0, 0.0, 0.0)\n",
              "D081920_015612  (-0.9090909090909091, 0.28747978728803447, 0.0)\n",
              "D081920_035959  (-0.36363636363636365, 0.8813963377120598, 0.0)\n",
              "D081920_080232                                  (1.0, 0.0, 0.0)\n",
              "...                                                         ...\n",
              "D121320_071459   (0.6153846153846154, 0.48650425541051995, 0.0)\n",
              "D121320_134054   (0.9090909090909091, 0.28747978728803447, 0.0)\n",
              "D121420_001402     (0.8181818181818182, 0.385694607919935, 0.0)\n",
              "D121420_082602    (0.5833333333333334, 0.6400954789890507, 0.0)\n",
              "D121420_091322   (0.46153846153846156, 0.6343239424027171, 0.0)\n",
              "\n",
              "[403 rows x 1 columns]"
            ]
          },
          "metadata": {}
        },
        {
          "output_type": "execute_result",
          "data": {
            "text/plain": [
              "[]"
            ]
          },
          "metadata": {},
          "execution_count": 19
        },
        {
          "output_type": "display_data",
          "data": {
            "image/png": "[encoded data removed]",
            "text/plain": [
              "<Figure size 720x720 with 1 Axes>"
            ]
          },
          "metadata": {}
        }
      ]
    },
    {
      "cell_type": "code",
      "metadata": {
        "colab": {
          "base_uri": "https://localhost:8080/"
        },
        "id": "mE7NELQhiotl",
        "outputId": "4df9a99e-113a-4752-b74c-e4ba7bcad3a1"
      },
      "source": [
        "print(\"Total data files: \", n_subjects)\n",
        "print(\"No. of (complete) Human Responses: \", len(human_responses))\n",
        "print(\"No. of subjects to be rejected due to example video ratings: \", no_subjects_to_reject_exampleVideoBased)\n",
        "print()\n",
        "print(\"No. of ratings per video (distribution): \", Counter(HR.relationship))"
      ],
      "execution_count": null,
      "outputs": [
        {
          "output_type": "stream",
          "name": "stdout",
          "text": [
            "Total data files:  330\n",
            "No. of (complete) Human Responses:  298\n",
            "No. of subjects to be rejected due to example video ratings:  57\n",
            "\n",
            "No. of ratings per video (distribution):  Counter({11: 160, 13: 120, 14: 40, 10: 40, 15: 20, 12: 20, 241: 3})\n"
          ]
        }
      ]
    },
    {
      "cell_type": "markdown",
      "metadata": {
        "id": "sMlpNNXXF0gF"
      },
      "source": [
        "## **Ground Truth v/s Human Ratings (our)**"
      ]
    },
    {
      "cell_type": "code",
      "metadata": {
        "colab": {
          "base_uri": "https://localhost:8080/"
        },
        "id": "GzJBFAagGNWE",
        "outputId": "bd1fd203-546e-462a-e668-72bf0d6f3989"
      },
      "source": [
        "from google.colab import drive\n",
        "drive.mount('/content/gdrive', force_remount=True)"
      ],
      "execution_count": null,
      "outputs": [
        {
          "output_type": "stream",
          "name": "stdout",
          "text": [
            "Mounted at /content/gdrive\n"
          ]
        }
      ]
    },
    {
      "cell_type": "code",
      "metadata": {
        "colab": {
          "base_uri": "https://localhost:8080/"
        },
        "id": "oFOWgD6SGRQX",
        "outputId": "7c4b4f3b-4050-4557-c870-e2254392d761"
      },
      "source": [
        "cd gdrive/My\\ Drive/Help-Hinder_GNN_Project"
      ],
      "execution_count": null,
      "outputs": [
        {
          "output_type": "stream",
          "name": "stdout",
          "text": [
            "/content/gdrive/My Drive/Help-Hinder_GNN_Project\n"
          ]
        }
      ]
    },
    {
      "cell_type": "code",
      "source": [
        "from sklearn.metrics import confusion_matrix, ConfusionMatrixDisplay\n",
        "from collections import Counter\n",
        "import os\n",
        "import pickle"
      ],
      "metadata": {
        "id": "zGH-3G-RZ6Sc"
      },
      "execution_count": null,
      "outputs": []
    },
    {
      "cell_type": "markdown",
      "source": [
        "Train Set"
      ],
      "metadata": {
        "id": "h1lDCg2TZuZC"
      }
    },
    {
      "cell_type": "code",
      "metadata": {
        "id": "Z5pTp1apF60G",
        "colab": {
          "base_uri": "https://localhost:8080/"
        },
        "outputId": "0e045b46-d14e-4572-9e46-325c5c2cca04"
      },
      "source": [
        "path = './PHASE/train'\n",
        "n_videos = len(os.listdir(path))\n",
        "\n",
        "with open('./Human_Experiment_Files/human_rating_labels', 'rb') as file:\n",
        "    human_ratings_labels_dict = pickle.load(file)\n",
        "\n",
        "GT = []\n",
        "HR = []\n",
        "for root, dirs, files, in os.walk(path):\n",
        "  for file in files:\n",
        "    if file.endswith(\".pik\"):\n",
        "      open_f = open(path + '/' + file, 'rb')\n",
        "      open_f_data = pickle.load(open_f)\n",
        "      v = {}\n",
        "      v['name'] = file[:-3] + 'mp4'\n",
        "      GT.append(open_f_data['modes'][0][0])\n",
        "      HR.append(human_ratings_labels_dict[v['name']]['relationship'])\n",
        "\n",
        "print(\"GT\", Counter(GT))\n",
        "print(\"HR\", Counter(HR))\n",
        "print(\"\\n HR v/s GT\")\n",
        "print(confusion_matrix(HR,GT))\n",
        "\n",
        "print(\"\\n GT v/s HR\")\n",
        "print(confusion_matrix(GT, HR))"
      ],
      "execution_count": null,
      "outputs": [
        {
          "output_type": "stream",
          "name": "stdout",
          "text": [
            "GT Counter({'neutral': 234, 'friendly': 108, 'adversarial': 58})\n",
            "HR Counter({'friendly': 161, 'adversarial': 154, 'neutral': 85})\n",
            "\n",
            " HR v/s GT\n",
            "[[ 50   3 101]\n",
            " [  4  95  62]\n",
            " [  4  10  71]]\n",
            "\n",
            " GT v/s HR\n",
            "[[ 50   4   4]\n",
            " [  3  95  10]\n",
            " [101  62  71]]\n"
          ]
        }
      ]
    },
    {
      "cell_type": "markdown",
      "source": [
        "Run PHASE human ratings code section before next block"
      ],
      "metadata": {
        "id": "Re6Bsg0BtHwD"
      }
    },
    {
      "cell_type": "code",
      "metadata": {
        "colab": {
          "base_uri": "https://localhost:8080/"
        },
        "id": "Abxs4l_UILEy",
        "outputId": "78ddaa5e-cf05-4579-c6ba-18e29e13d43e"
      },
      "source": [
        "path = './PHASE/test'\n",
        "n_videos = len(os.listdir(path))\n",
        "\n",
        "with open('./Human_Experiment_Files/human_rating_labels_test', 'rb') as file:\n",
        "    human_ratings_labels_dict = pickle.load(file)\n",
        "\n",
        "GT = []\n",
        "HR = []\n",
        "HR_PHASE = []\n",
        "mapping = {'Friendly':'friendly', \"Neutral\":'neutral', 'Adversarial':'adversarial'}\n",
        "for root, dirs, files, in os.walk(path):\n",
        "  for file in files:\n",
        "    if file.endswith(\".pik\"):\n",
        "      open_f = open(path + '/' + file, 'rb')\n",
        "      open_f_data = pickle.load(open_f)\n",
        "      v = {}\n",
        "      v['name'] = file[:-3] + 'mp4'\n",
        "      GT.append(open_f_data['modes'][0][0])\n",
        "      HR.append(human_ratings_labels_dict[v['name']]['relationship'])\n",
        "      \n",
        "      ind = file.find('G')\n",
        "      f_name = file[:15]+ file[ind-1:ind+35]\n",
        "      HR_PHASE.append(mapping[HR_PHASE_dict[f_name]['relationship']])\n",
        "\n",
        "print(\"GT\", Counter(GT))\n",
        "print(\"HR\", Counter(HR))\n",
        "print(\"HR_PHASE\", Counter(HR_PHASE))\n",
        "print(\"\\n HR v/s GT\")\n",
        "print(confusion_matrix(HR,GT))\n",
        "\n",
        "print(\"\\n GT v/s HR\")\n",
        "print(confusion_matrix(GT, HR))\n",
        "\n",
        "print(\"\\n HR v/s HR_PHASE\")\n",
        "print(confusion_matrix(HR, HR_PHASE))\n",
        "\n",
        "print(\"\\n GT v/s HR_PHASE\")\n",
        "print(confusion_matrix(GT, HR_PHASE))"
      ],
      "execution_count": null,
      "outputs": [
        {
          "output_type": "stream",
          "name": "stdout",
          "text": [
            "GT Counter({'neutral': 62, 'friendly': 21, 'adversarial': 17})\n",
            "HR Counter({'friendly': 37, 'adversarial': 36, 'neutral': 27})\n",
            "HR_PHASE Counter({'friendly': 38, 'adversarial': 37, 'neutral': 25})\n",
            "\n",
            " HR v/s GT\n",
            "[[17  0 19]\n",
            " [ 0 19 18]\n",
            " [ 0  2 25]]\n",
            "\n",
            " GT v/s HR\n",
            "[[17  0  0]\n",
            " [ 0 19  2]\n",
            " [19 18 25]]\n",
            "\n",
            " HR v/s HR_PHASE\n",
            "[[35  0  1]\n",
            " [ 1 36  0]\n",
            " [ 1  2 24]]\n",
            "\n",
            " GT v/s HR_PHASE\n",
            "[[17  0  0]\n",
            " [ 0 21  0]\n",
            " [20 17 25]]\n"
          ]
        }
      ]
    }
  ]
}